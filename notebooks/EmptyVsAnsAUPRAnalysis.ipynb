{
 "cells": [
  {
   "cell_type": "markdown",
   "metadata": {},
   "source": [
    "## This notebook will look at all the predictions and seek to find out how many predictions at each recall interval along with calculating AUPR etc for the only has ans"
   ]
  },
  {
   "cell_type": "code",
   "execution_count": 1,
   "metadata": {},
   "outputs": [],
   "source": [
    "import os"
   ]
  },
  {
   "cell_type": "markdown",
   "metadata": {},
   "source": [
    "Find the correct document. As the step might have shifted between logging and saving"
   ]
  },
  {
   "cell_type": "code",
   "execution_count": 3,
   "metadata": {},
   "outputs": [],
   "source": [
    "x =os.listdir('NotebookData/preds_server/experiment_data_transf/predictions')"
   ]
  },
  {
   "cell_type": "code",
   "execution_count": 4,
   "metadata": {},
   "outputs": [
    {
     "data": {
      "text/plain": [
       "['dataset-name_CUAD_model-type_roberta_only-first-ans_True_doc-stride_256_dataset-type_eval_predict-file-version_test_model-name_roberta_base_untrained_seed_diff_global-step_6705_epoch13_predictions.json',\n",
       " 'dataset-name_CUAD_model-type_roberta_only-first-ans_True_doc-stride_256_dataset-type_eval_predict-file-version_test_model-name_roberta_base_untrained_seed_diff_global-step_6466_epoch13_nbest_predictions.json',\n",
       " 'dataset-name_CUAD_model-type_roberta_only-first-ans_True_doc-stride_256_dataset-type_eval_predict-file-version_test_model-name_roberta_base_untrained_seed_diff_global-step_6705_epoch13_nbest_predictions.json',\n",
       " 'dataset-name_CUAD_model-type_roberta_only-first-ans_True_doc-stride_256_dataset-type_eval_predict-file-version_test_model-name_roberta_base_untrained_seed_diff_global-step_6466_epoch13_null_odds.json',\n",
       " 'dataset-name_CUAD_model-type_roberta_only-first-ans_True_doc-stride_256_dataset-type_eval_predict-file-version_test_model-name_roberta_base_untrained_seed_diff_global-step_6466_epoch13_predictions.json',\n",
       " 'dataset-name_CUAD_model-type_roberta_only-first-ans_True_doc-stride_256_dataset-type_eval_predict-file-version_test_model-name_roberta_base_untrained_seed_diff_global-step_6705_epoch13_null_odds.json']"
      ]
     },
     "execution_count": 4,
     "metadata": {},
     "output_type": "execute_result"
    }
   ],
   "source": [
    "filtered = [k for k in x if \"roberta_base_untrained_seed_diff\" in k and \"epoch13\" in k]\n",
    "filtered\n"
   ]
  },
  {
   "cell_type": "markdown",
   "metadata": {},
   "source": [
    "Load predictions and examples"
   ]
  },
  {
   "cell_type": "code",
   "execution_count": 6,
   "metadata": {},
   "outputs": [],
   "source": [
    "\n",
    "import json\n",
    "preds_path=\"dataset-name_CUAD_model-type_roberta_only-first-ans_True_doc-stride_256_dataset-type_eval_predict-file-version_test_model-name_roberta_base_untrained_seed_diff_global-step_6466_epoch13_predictions.json\"\n",
    "preds_nbest_path = \"dataset-name_CUAD_model-type_roberta_only-first-ans_True_doc-stride_256_dataset-type_eval_predict-file-version_test_model-name_roberta_base_untrained_seed_diff_global-step_6466_epoch13_nbest_predictions.json\"\n",
    "\n",
    "# Ensure correct path here\n",
    "with open('NotebookData/preds_server/experiment_data_transf/predictions/' + preds_path, 'r') as f:\n",
    "    preds = json.load(f)\n",
    "\n",
    "with open('NotebookData/preds_server/experiment_data_transf/predictions/' + preds_nbest_path, 'r') as f:\n",
    "    preds_nbest = json.load(f)\n",
    "\n",
    "with open ('../data/test_full.json', 'r') as f:\n",
    "    gt_dict = json.load(f)"
   ]
  },
  {
   "cell_type": "markdown",
   "metadata": {},
   "source": [
    "Split the predictions and calculate AUPR"
   ]
  },
  {
   "cell_type": "code",
   "execution_count": 7,
   "metadata": {},
   "outputs": [],
   "source": [
    "import sys\n",
    "# insert at 1, 0 is the script path (or '' in REPL)\n",
    "sys.path.insert(1, '../cuad_training/cuad_lightning/')"
   ]
  },
  {
   "cell_type": "code",
   "execution_count": 8,
   "metadata": {},
   "outputs": [],
   "source": [
    "from evaluate import get_results,get_answers\n",
    "class FakeArgs:\n",
    "    def __init__(self):\n",
    "        self.n_best_size = 20\n",
    "        self.max_answer_length = 30\n",
    "        self.do_lower_case = True\n",
    "        self.verbose = True\n",
    "        self.null_score_diff_threshold = 0.0\n",
    "        self.version_2_with_negative = True\n",
    "        self.test_examples_workers = 4\n",
    "        self.test_examples_chunk_size = 100\n",
    "        self.model_name=\"fes\"\n",
    "        self.model_version=\"fes\"\n",
    "\n",
    "from evaluate import get_answers, load_json, get_prec_at_recall, get_precisions_recalls, get_aupr\n",
    "def get_results(args, n_best_predictions_path, gt_dict, gt_dict_extract_answers=True, include_model_info=True, filter=None):\n",
    "\n",
    "    gt_dict = get_answers(gt_dict) if gt_dict_extract_answers else gt_dict\n",
    "\n",
    "    pred_dict = load_json(n_best_predictions_path)\n",
    "\n",
    "    assert sorted(list(pred_dict.keys())) == sorted(list(gt_dict.keys()))\n",
    "\n",
    "    # Remove examples with empty answers\n",
    "    to_rm = []\n",
    "    if filter == \"No Ans\":\n",
    "        to_rm = [k for k, v in gt_dict.items() if not v]\n",
    "        print(\"Removing {} examples with empty answers\".format(len(to_rm)))\n",
    "    elif filter == \"Has Ans\":\n",
    "        to_rm = [k for k, v in gt_dict.items() if v]\n",
    "        print(\"Removing {} examples with answers\".format(len(to_rm)))\n",
    "    for k in to_rm:\n",
    "        gt_dict.pop(k, None)\n",
    "        pred_dict.pop(k, None)\n",
    "    print(\"Remaining examples: {}\".format(len(gt_dict)))\n",
    "\n",
    "    assert sorted(list(pred_dict.keys())) == sorted(list(gt_dict.keys()))\n",
    "\n",
    "    precisions, recalls, confs = get_precisions_recalls(pred_dict, gt_dict)\n",
    "    prec_at_90_recall, _ = get_prec_at_recall(\n",
    "        precisions, recalls, confs, recall_thresh=0.9)\n",
    "    prec_at_80_recall, _ = get_prec_at_recall(\n",
    "        precisions, recalls, confs, recall_thresh=0.8)\n",
    "    aupr = get_aupr(precisions, recalls)\n",
    "\n",
    "    # now save results as a dataframe and return\n",
    "    results = {\"name\": args.model_name, \"version\": args.model_version, \"aupr\": aupr, \"prec_at_80_recall\": prec_at_80_recall,\n",
    "               \"prec_at_90_recall\": prec_at_90_recall}\n",
    "    if not include_model_info:\n",
    "        del results[\"name\"]\n",
    "        del results[\"version\"]\n",
    "    return results"
   ]
  },
  {
   "cell_type": "code",
   "execution_count": 11,
   "metadata": {},
   "outputs": [
    {
     "name": "stdout",
     "output_type": "stream",
     "text": [
      "Removing 2938 examples with empty answers\n",
      "Remaining examples: 1244\n"
     ]
    },
    {
     "data": {
      "text/plain": [
       "{'aupr': 0.7073838779557575,\n",
       " 'prec_at_80_recall': 0.5811714362128911,\n",
       " 'prec_at_90_recall': 0}"
      ]
     },
     "execution_count": 11,
     "metadata": {},
     "output_type": "execute_result"
    }
   ],
   "source": [
    "resNo = get_results(FakeArgs(), './NotebookData/preds_server/experiment_data_transf/predictions/' + preds_nbest_path,\n",
    "                    gt_dict=gt_dict, include_model_info=False, filter=\"No Ans\")\n",
    "resNo"
   ]
  },
  {
   "cell_type": "code",
   "execution_count": 12,
   "metadata": {},
   "outputs": [
    {
     "name": "stdout",
     "output_type": "stream",
     "text": [
      "Remaining examples: 4182\n"
     ]
    },
    {
     "data": {
      "text/plain": [
       "{'aupr': 0.5038686149657297,\n",
       " 'prec_at_80_recall': 0.3732394366197183,\n",
       " 'prec_at_90_recall': 0}"
      ]
     },
     "execution_count": 12,
     "metadata": {},
     "output_type": "execute_result"
    }
   ],
   "source": [
    "res = get_results(FakeArgs(), './NotebookData/preds_server/experiment_data_transf/predictions/' + preds_nbest_path,\n",
    "                    gt_dict=gt_dict, include_model_info=False)\n",
    "res"
   ]
  },
  {
   "cell_type": "code",
   "execution_count": 14,
   "metadata": {},
   "outputs": [
    {
     "name": "stdout",
     "output_type": "stream",
     "text": [
      "Removing 1244 examples with answers\n",
      "Remaining examples: 2938\n"
     ]
    },
    {
     "data": {
      "text/plain": [
       "{'aupr': 0, 'prec_at_80_recall': 0, 'prec_at_90_recall': 0}"
      ]
     },
     "execution_count": 14,
     "metadata": {},
     "output_type": "execute_result"
    }
   ],
   "source": [
    "resHas = get_results(FakeArgs(), './NotebookData/preds_server/experiment_data_transf/predictions/' + preds_nbest_path,\n",
    "                    gt_dict=gt_dict, include_model_info=False, filter=\"Has Ans\")\n",
    "resHas"
   ]
  },
  {
   "cell_type": "code",
   "execution_count": 195,
   "metadata": {},
   "outputs": [
    {
     "name": "stdout",
     "output_type": "stream",
     "text": [
      "Removing 2938 examples with empty answers\n",
      "Remaining examples: 1244\n",
      "Removing 1244 examples with answers\n",
      "Remaining examples: 2938\n",
      "Remaining examples: 4182\n"
     ]
    }
   ],
   "source": [
    "gt_dict_extract_answers=True\n",
    "n_best_predictions_path = './NotebookData/preds_server/experiment_data_transf/predictions/' + preds_nbest_path\n",
    "\n",
    "\n",
    "\n",
    "data = []\n",
    "for filtern in [\"No Ans\", \"Has Ans\", None]:\n",
    "    with open ('../../data/test_full.json', 'r') as f:\n",
    "        gt_dict = json.load(f)\n",
    "    gt_dict = get_answers(gt_dict) if gt_dict_extract_answers else gt_dict\n",
    "\n",
    "    pred_dict = load_json(n_best_predictions_path)\n",
    "    for k,v in pred_dict.items():\n",
    "        v=v[0:5]\n",
    "\n",
    "    assert sorted(list(pred_dict.keys())) == sorted(list(gt_dict.keys()))\n",
    "\n",
    "    # Remove examples with empty answers\n",
    "    to_rm = []\n",
    "    if filtern == \"No Ans\":\n",
    "        to_rm = [k for k, v in gt_dict.items() if not v]\n",
    "        print(\"Removing {} examples with empty answers\".format(len(to_rm)))\n",
    "    elif filtern == \"Has Ans\":\n",
    "        to_rm = [k for k, v in gt_dict.items() if v]\n",
    "        print(\"Removing {} examples with answers\".format(len(to_rm)))\n",
    "    for k in to_rm:\n",
    "        gt_dict.pop(k, None)\n",
    "        pred_dict.pop(k, None)\n",
    "    print(\"Remaining examples: {}\".format(len(gt_dict)))\n",
    "\n",
    "    assert sorted(list(pred_dict.keys())) == sorted(list(gt_dict.keys()))\n",
    "\n",
    "    precisions, recalls, confs = get_precisions_recalls(pred_dict, gt_dict)\n",
    "    prec_at_90_recall, _ = get_prec_at_recall(\n",
    "        precisions, recalls, confs, recall_thresh=0.9)\n",
    "    prec_at_80_recall, _ = get_prec_at_recall(\n",
    "        precisions, recalls, confs, recall_thresh=0.8)\n",
    "    aupr = get_aupr(precisions, recalls)\n",
    "\n",
    "    for p,r,c in zip(precisions, recalls, confs):\n",
    "        data.append([p,r,c,filtern])"
   ]
  },
  {
   "cell_type": "code",
   "execution_count": 196,
   "metadata": {},
   "outputs": [],
   "source": [
    "import pandas as pd\n",
    "df = pd.DataFrame(data, columns=['precision', 'recall', 'conf', 'filter'])"
   ]
  },
  {
   "cell_type": "code",
   "execution_count": 197,
   "metadata": {},
   "outputs": [
    {
     "data": {
      "text/plain": [
       "[<matplotlib.lines.Line2D at 0x7fa397034640>]"
      ]
     },
     "execution_count": 197,
     "metadata": {},
     "output_type": "execute_result"
    },
    {
     "data": {
      "image/png": "[encoded data removed]",
      "text/plain": [
       "<Figure size 432x288 with 1 Axes>"
      ]
     },
     "metadata": {
      "needs_background": "light"
     },
     "output_type": "display_data"
    }
   ],
   "source": [
    "import matplotlib.pyplot as plt\n",
    "\n",
    "plt.plot(precisions,recalls, label='Precision-Recall curve', marker='.')"
   ]
  },
  {
   "cell_type": "code",
   "execution_count": 198,
   "metadata": {},
   "outputs": [],
   "source": [
    "def none_fix(x):\n",
    "    if x==None:\n",
    "        return \"No filter\"\n",
    "    return x\n",
    "df['filter'] = df.apply(lambda x: none_fix(x['filter']), axis=1)"
   ]
  },
  {
   "cell_type": "code",
   "execution_count": 199,
   "metadata": {},
   "outputs": [],
   "source": [
    "df.loc[df['filter']==\"Has Ans\",'recall']=df.loc[df['filter']==\"Has Ans\",'conf']\n",
    "df.loc[df['filter']==\"Has Ans\",'precision']=0"
   ]
  },
  {
   "cell_type": "code",
   "execution_count": 200,
   "metadata": {},
   "outputs": [
    {
     "data": {
      "text/plain": [
       "0.8221717744986757"
      ]
     },
     "execution_count": 200,
     "metadata": {},
     "output_type": "execute_result"
    }
   ],
   "source": [
    "df[df['filter']==\"No Ans\"]['recall'].max()"
   ]
  },
  {
   "cell_type": "code",
   "execution_count": 201,
   "metadata": {},
   "outputs": [],
   "source": [
    "# Add final rows\n",
    "df.loc[len(df.index)] = [0, df[df['filter']==\"No Ans\"]['recall'].max()+0.0001, 0.0001, \"No Ans\"]\n",
    "df.loc[len(df.index)] = [0, df[df['filter']==\"Has Ans\"]['recall'].max()+0.0001, 0.0001, \"Has Ans\"]"
   ]
  },
  {
   "cell_type": "code",
   "execution_count": 202,
   "metadata": {},
   "outputs": [],
   "source": [
    "df.loc[len(df.index)] = [0, 1, 0.00001, \"No Ans\"]\n",
    "df.loc[len(df.index)] = [0, 1, 0.00001, \"Has Ans\"]"
   ]
  },
  {
   "cell_type": "code",
   "execution_count": 203,
   "metadata": {},
   "outputs": [
    {
     "data": {
      "application/vnd.plotly.v1+json": {
       "config": {
        "plotlyServerURL": "https://plot.ly"
       },
       "data": [
        {
         "hovertemplate": "filter=No Ans<br>recall=%{x}<br>precision=%{y}<extra></extra>",
         "legendgroup": "No Ans",
         "line": {
          "color": "#636efa",
          "dash": "solid"
         },
         "marker": {
          "symbol": "circle"
         },
         "mode": "lines",
         "name": "No Ans",
         "orientation": "v",
         "showlegend": true,
         "type": "scatter",
         "x": [
          0,
          0.1611804767309875,
          0.17631479379493,
          0.18199016269390844,
          0.18690881573968976,
          0.18880060537268256,
          0.19409761634506242,
          0.19674612183125237,
          0.20128641695043512,
          0.2035565645100265,
          0.20582671206961786,
          0.20809685962920924,
          0.20885357548240635,
          0.21112372304199772,
          0.21377222852818767,
          0.21528566023458193,
          0.21831252364737042,
          0.22020431328036322,
          0.2213393870601589,
          0.22285281876655316,
          0.22436625047294742,
          0.22587968217934165,
          0.22890654559213017,
          0.22966326144532728,
          0.23269012485811577,
          0.23420355656451003,
          0.2364737041241014,
          0.23798713583049566,
          0.23874385168369278,
          0.2395005675368899,
          0.24139235716988272,
          0.24214907302307984,
          0.24404086265607264,
          0.246311010215664,
          0.24820279984865684,
          0.25009458948164964,
          0.25198637911464244,
          0.25387816874763525,
          0.2546348846008324,
          0.2565266742338252,
          0.25917517972001514,
          0.2603102534998108,
          0.26258040105940217,
          0.26409383276579645,
          0.2667423382519864,
          0.26787741203178206,
          0.27166099129776766,
          0.27506621263715475,
          0.27695800227014755,
          0.27884979190314035,
          0.28225501324252744,
          0.28376844494892167,
          0.28793038214150585,
          0.28982217177449865,
          0.2924706772606886,
          0.29701097237987134,
          0.30003783579265986,
          0.3030646992054484,
          0.30609156261823683,
          0.3087400681044268,
          0.31101021566401815,
          0.3136587211502081,
          0.3166855845629966,
          0.3204691638289822,
          0.3265228906545592,
          0.3337116912599319,
          0.3427922814982974,
          0.3514945138100643,
          0.35754824063564133,
          0.36095346197502837,
          0.3692773363601968,
          0.3764661369655694,
          0.3851683692773364,
          0.3938706015891033,
          0.401059402194476,
          0.4048429814604616,
          0.41051835035944,
          0.4180855088914113,
          0.4267877412031782,
          0.437381763147938,
          0.446840711312902,
          0.4540295119182747,
          0.4661369655694287,
          0.47937949300037835,
          0.49337873628452517,
          0.5005675368898979,
          0.5130533484676504,
          0.5319712447975785,
          0.5497540673477109,
          0.562618236852062,
          0.5883465758607643,
          0.6114264093832765,
          0.6269390843738176,
          0.6439651910707529,
          0.677639046538025,
          0.7120696178584941,
          0.7298524404086265,
          0.7385546727203935,
          0.7540673477109345,
          0.7710934544078698,
          0.8221717744986757,
          0.8222717744986757,
          1
         ],
         "xaxis": "x",
         "y": [
          1,
          0.9659863945578231,
          0.9529652351738241,
          0.9449901768172888,
          0.9427480916030534,
          0.9397363465160076,
          0.9378427787934186,
          0.9369369369369369,
          0.9349736379613357,
          0.9291882556131261,
          0.9235993208828522,
          0.9228187919463087,
          0.9230769230769231,
          0.9207920792079208,
          0.9216965742251223,
          0.9147909967845659,
          0.9158730158730158,
          0.9122257053291536,
          0.9112149532710281,
          0.9089506172839507,
          0.9095092024539877,
          0.908675799086758,
          0.905688622754491,
          0.9046199701937406,
          0.9044117647058824,
          0.9036496350364963,
          0.903179190751445,
          0.8985714285714286,
          0.8975817923186344,
          0.8940677966101694,
          0.8948106591865358,
          0.8938547486033519,
          0.8933518005540166,
          0.8917808219178082,
          0.8888888888888888,
          0.887248322147651,
          0.883289124668435,
          0.8817345597897503,
          0.877444589308996,
          0.8748387096774194,
          0.8737244897959183,
          0.8708860759493671,
          0.8664169787765293,
          0.8617283950617284,
          0.8618581907090465,
          0.8623629719853837,
          0.8629807692307693,
          0.8613744075829384,
          0.8601645123384254,
          0.8569767441860465,
          0.854524627720504,
          0.8503401360544217,
          0.8493303571428571,
          0.8482834994462901,
          0.8494505494505494,
          0.851409978308026,
          0.8490364025695931,
          0.8476190476190476,
          0.8471204188481676,
          0.84472049689441,
          0.839632277834525,
          0.839918946301925,
          0.8386773547094188,
          0.8328416912487709,
          0.8314065510597303,
          0.8297271872060207,
          0.8304307974335472,
          0.8279857397504456,
          0.8274956217162872,
          0.8245462402765773,
          0.8215488215488216,
          0.8189300411522634,
          0.8170144462279294,
          0.8158307210031348,
          0.8147578785549577,
          0.8112206216830933,
          0.8072916666666666,
          0.8036363636363636,
          0.802275960170697,
          0.8022206800832755,
          0.7990527740189445,
          0.796812749003984,
          0.7938144329896907,
          0.7933625547902317,
          0.7927051671732522,
          0.7851632047477745,
          0.7824581650317368,
          0.7806774014436424,
          0.7786709539121115,
          0.7760960334029228,
          0.7747882411559541,
          0.7695238095238095,
          0.76044056906838,
          0.7514348785871965,
          0.7496860611134366,
          0.742992499013028,
          0.73290273556231,
          0.7184394552815605,
          0.7020077492074674,
          0.6717205009887937,
          0.5811714362128911,
          0,
          0
         ],
         "yaxis": "y"
        },
        {
         "hovertemplate": "filter=Has Ans<br>recall=%{x}<br>precision=%{y}<extra></extra>",
         "legendgroup": "Has Ans",
         "line": {
          "color": "#EF553B",
          "dash": "solid"
         },
         "marker": {
          "symbol": "circle"
         },
         "mode": "lines",
         "name": "Has Ans",
         "orientation": "v",
         "showlegend": true,
         "type": "scatter",
         "x": [
          0.99,
          0.98,
          0.97,
          0.96,
          0.95,
          0.94,
          0.9299999999999999,
          0.9199999999999999,
          0.9099999999999999,
          0.8999999999999999,
          0.8899999999999999,
          0.8799999999999999,
          0.8699999999999999,
          0.8599999999999999,
          0.8499999999999999,
          0.8399999999999999,
          0.8299999999999998,
          0.8199999999999998,
          0.8099999999999998,
          0.7999999999999998,
          0.7899999999999998,
          0.7799999999999998,
          0.7699999999999998,
          0.7599999999999998,
          0.7499999999999998,
          0.7399999999999998,
          0.7299999999999998,
          0.7199999999999998,
          0.7099999999999997,
          0.6999999999999997,
          0.6899999999999997,
          0.6799999999999997,
          0.6699999999999997,
          0.6599999999999997,
          0.6499999999999997,
          0.6399999999999997,
          0.6299999999999997,
          0.6199999999999997,
          0.6099999999999997,
          0.5999999999999996,
          0.5899999999999996,
          0.5799999999999996,
          0.5699999999999996,
          0.5599999999999996,
          0.5499999999999996,
          0.5399999999999996,
          0.5299999999999996,
          0.5199999999999996,
          0.5099999999999996,
          0.49999999999999956,
          0.48999999999999955,
          0.47999999999999954,
          0.46999999999999953,
          0.4599999999999995,
          0.4499999999999995,
          0.4399999999999995,
          0.4299999999999995,
          0.4199999999999995,
          0.4099999999999995,
          0.39999999999999947,
          0.38999999999999946,
          0.37999999999999945,
          0.36999999999999944,
          0.35999999999999943,
          0.3499999999999994,
          0.3399999999999994,
          0.3299999999999994,
          0.3199999999999994,
          0.3099999999999994,
          0.2999999999999994,
          0.28999999999999937,
          0.27999999999999936,
          0.26999999999999935,
          0.25999999999999934,
          0.24999999999999933,
          0.23999999999999932,
          0.22999999999999932,
          0.2199999999999993,
          0.2099999999999993,
          0.1999999999999993,
          0.18999999999999928,
          0.17999999999999927,
          0.16999999999999926,
          0.15999999999999925,
          0.14999999999999925,
          0.13999999999999924,
          0.12999999999999923,
          0.11999999999999922,
          0.10999999999999921,
          0.0999999999999992,
          0.08999999999999919,
          0.07999999999999918,
          0.06999999999999917,
          0.059999999999999165,
          0.049999999999999156,
          0.03999999999999915,
          0.02999999999999914,
          0.01999999999999913,
          0.00999999999999912,
          0.001,
          0,
          0.9901,
          1
         ],
         "xaxis": "x",
         "y": [
          0,
          0,
          0,
          0,
          0,
          0,
          0,
          0,
          0,
          0,
          0,
          0,
          0,
          0,
          0,
          0,
          0,
          0,
          0,
          0,
          0,
          0,
          0,
          0,
          0,
          0,
          0,
          0,
          0,
          0,
          0,
          0,
          0,
          0,
          0,
          0,
          0,
          0,
          0,
          0,
          0,
          0,
          0,
          0,
          0,
          0,
          0,
          0,
          0,
          0,
          0,
          0,
          0,
          0,
          0,
          0,
          0,
          0,
          0,
          0,
          0,
          0,
          0,
          0,
          0,
          0,
          0,
          0,
          0,
          0,
          0,
          0,
          0,
          0,
          0,
          0,
          0,
          0,
          0,
          0,
          0,
          0,
          0,
          0,
          0,
          0,
          0,
          0,
          0,
          0,
          0,
          0,
          0,
          0,
          0,
          0,
          0,
          0,
          0,
          0,
          0,
          0,
          0
         ],
         "yaxis": "y"
        },
        {
         "hovertemplate": "filter=No filter<br>recall=%{x}<br>precision=%{y}<extra></extra>",
         "legendgroup": "No filter",
         "line": {
          "color": "#00cc96",
          "dash": "solid"
         },
         "marker": {
          "symbol": "circle"
         },
         "mode": "lines",
         "name": "No filter",
         "orientation": "v",
         "showlegend": true,
         "type": "scatter",
         "x": [
          0,
          0.1611804767309875,
          0.17631479379493,
          0.18199016269390844,
          0.18690881573968976,
          0.18880060537268256,
          0.19409761634506242,
          0.19674612183125237,
          0.20128641695043512,
          0.2035565645100265,
          0.20582671206961786,
          0.20809685962920924,
          0.20885357548240635,
          0.21112372304199772,
          0.21377222852818767,
          0.21528566023458193,
          0.21831252364737042,
          0.22020431328036322,
          0.2213393870601589,
          0.22285281876655316,
          0.22436625047294742,
          0.22587968217934165,
          0.22890654559213017,
          0.22966326144532728,
          0.23269012485811577,
          0.23420355656451003,
          0.2364737041241014,
          0.23798713583049566,
          0.23874385168369278,
          0.2395005675368899,
          0.24139235716988272,
          0.24214907302307984,
          0.24404086265607264,
          0.246311010215664,
          0.24820279984865684,
          0.25009458948164964,
          0.25198637911464244,
          0.25387816874763525,
          0.2546348846008324,
          0.2565266742338252,
          0.25917517972001514,
          0.2603102534998108,
          0.26258040105940217,
          0.26409383276579645,
          0.2667423382519864,
          0.26787741203178206,
          0.27166099129776766,
          0.27506621263715475,
          0.27695800227014755,
          0.27884979190314035,
          0.28225501324252744,
          0.28376844494892167,
          0.28793038214150585,
          0.28982217177449865,
          0.2924706772606886,
          0.29701097237987134,
          0.30003783579265986,
          0.3030646992054484,
          0.30609156261823683,
          0.3087400681044268,
          0.31101021566401815,
          0.3136587211502081,
          0.3166855845629966,
          0.3204691638289822,
          0.3265228906545592,
          0.3337116912599319,
          0.3427922814982974,
          0.3514945138100643,
          0.35754824063564133,
          0.36095346197502837,
          0.3692773363601968,
          0.3764661369655694,
          0.3851683692773364,
          0.3938706015891033,
          0.401059402194476,
          0.4048429814604616,
          0.41051835035944,
          0.4180855088914113,
          0.4267877412031782,
          0.437381763147938,
          0.446840711312902,
          0.4540295119182747,
          0.4661369655694287,
          0.47937949300037835,
          0.49337873628452517,
          0.5005675368898979,
          0.5130533484676504,
          0.5319712447975785,
          0.5497540673477109,
          0.562618236852062,
          0.5883465758607643,
          0.6114264093832765,
          0.6269390843738176,
          0.6439651910707529,
          0.677639046538025,
          0.7120696178584941,
          0.7298524404086265,
          0.7385546727203935,
          0.7540673477109345,
          0.7710934544078698,
          0.8221717744986757
         ],
         "xaxis": "x",
         "y": [
          1,
          0.638680659670165,
          0.6288798920377868,
          0.6150895140664961,
          0.6098765432098765,
          0.6041162227602905,
          0.6042402826855123,
          0.5977011494252874,
          0.5997745208568207,
          0.5951327433628318,
          0.591304347826087,
          0.5907626208378088,
          0.5884861407249466,
          0.5855194123819517,
          0.5879292403746098,
          0.5829918032786885,
          0.5845997973657548,
          0.5837512537612839,
          0.582089552238806,
          0.5808678500986193,
          0.5813725490196079,
          0.5790494665373423,
          0.5789473684210527,
          0.5764482431149098,
          0.5774647887323944,
          0.575813953488372,
          0.5755064456721916,
          0.5728597449908925,
          0.5694945848375451,
          0.5672043010752689,
          0.5681211041852182,
          0.566873339238264,
          0.5643044619422573,
          0.5636363636363636,
          0.563573883161512,
          0.5615972812234494,
          0.5591939546599496,
          0.5582362728785357,
          0.555739058629232,
          0.5548281505728314,
          0.5551053484602917,
          0.5526104417670683,
          0.5503568596352102,
          0.5496062992125984,
          0.5494933749025721,
          0.5496894409937888,
          0.5497702909647779,
          0.5515933232169955,
          0.5516201959306707,
          0.5504107542942495,
          0.5497420781134856,
          0.5462490895848507,
          0.5474820143884892,
          0.5451957295373665,
          0.5462897526501767,
          0.548951048951049,
          0.548030407740152,
          0.5486301369863014,
          0.5481029810298103,
          0.5465505693235098,
          0.541501976284585,
          0.5418300653594771,
          0.5413971539456662,
          0.5394904458598726,
          0.5400500625782227,
          0.5411042944785276,
          0.5396069088743299,
          0.5413752913752914,
          0.54,
          0.5365579302587177,
          0.535675082327113,
          0.5355220667384284,
          0.536071616640337,
          0.537429013939081,
          0.5388917132689375,
          0.5360721442885772,
          0.5347461803844258,
          0.5353682170542635,
          0.536376604850214,
          0.5379246161005119,
          0.5373066424021838,
          0.5378753922008068,
          0.5394045534150613,
          0.5412217001281504,
          0.5446950710108605,
          0.5411042944785276,
          0.5426170468187275,
          0.5458074534161491,
          0.5476818695816057,
          0.5466911764705882,
          0.5492758742493818,
          0.5500340367597005,
          0.5450657894736842,
          0.5396322130627774,
          0.5414147521160823,
          0.5395642201834863,
          0.5327257663628832,
          0.5187350518203561,
          0.5022681451612904,
          0.4720870975214269,
          0.3732394366197183
         ],
         "yaxis": "y"
        }
       ],
       "layout": {
        "height": 400,
        "legend": {
         "title": {
          "text": "filter"
         },
         "tracegroupgap": 0
        },
        "margin": {
         "t": 60
        },
        "template": {
         "data": {
          "bar": [
           {
            "error_x": {
             "color": "#2a3f5f"
            },
            "error_y": {
             "color": "#2a3f5f"
            },
            "marker": {
             "line": {
              "color": "#E5ECF6",
              "width": 0.5
             },
             "pattern": {
              "fillmode": "overlay",
              "size": 10,
              "solidity": 0.2
             }
            },
            "type": "bar"
           }
          ],
          "barpolar": [
           {
            "marker": {
             "line": {
              "color": "#E5ECF6",
              "width": 0.5
             },
             "pattern": {
              "fillmode": "overlay",
              "size": 10,
              "solidity": 0.2
             }
            },
            "type": "barpolar"
           }
          ],
          "carpet": [
           {
            "aaxis": {
             "endlinecolor": "#2a3f5f",
             "gridcolor": "white",
             "linecolor": "white",
             "minorgridcolor": "white",
             "startlinecolor": "#2a3f5f"
            },
            "baxis": {
             "endlinecolor": "#2a3f5f",
             "gridcolor": "white",
             "linecolor": "white",
             "minorgridcolor": "white",
             "startlinecolor": "#2a3f5f"
            },
            "type": "carpet"
           }
          ],
          "choropleth": [
           {
            "colorbar": {
             "outlinewidth": 0,
             "ticks": ""
            },
            "type": "choropleth"
           }
          ],
          "contour": [
           {
            "colorbar": {
             "outlinewidth": 0,
             "ticks": ""
            },
            "colorscale": [
             [
              0,
              "#0d0887"
             ],
             [
              0.1111111111111111,
              "#46039f"
             ],
             [
              0.2222222222222222,
              "#7201a8"
             ],
             [
              0.3333333333333333,
              "#9c179e"
             ],
             [
              0.4444444444444444,
              "#bd3786"
             ],
             [
              0.5555555555555556,
              "#d8576b"
             ],
             [
              0.6666666666666666,
              "#ed7953"
             ],
             [
              0.7777777777777778,
              "#fb9f3a"
             ],
             [
              0.8888888888888888,
              "#fdca26"
             ],
             [
              1,
              "#f0f921"
             ]
            ],
            "type": "contour"
           }
          ],
          "contourcarpet": [
           {
            "colorbar": {
             "outlinewidth": 0,
             "ticks": ""
            },
            "type": "contourcarpet"
           }
          ],
          "heatmap": [
           {
            "colorbar": {
             "outlinewidth": 0,
             "ticks": ""
            },
            "colorscale": [
             [
              0,
              "#0d0887"
             ],
             [
              0.1111111111111111,
              "#46039f"
             ],
             [
              0.2222222222222222,
              "#7201a8"
             ],
             [
              0.3333333333333333,
              "#9c179e"
             ],
             [
              0.4444444444444444,
              "#bd3786"
             ],
             [
              0.5555555555555556,
              "#d8576b"
             ],
             [
              0.6666666666666666,
              "#ed7953"
             ],
             [
              0.7777777777777778,
              "#fb9f3a"
             ],
             [
              0.8888888888888888,
              "#fdca26"
             ],
             [
              1,
              "#f0f921"
             ]
            ],
            "type": "heatmap"
           }
          ],
          "heatmapgl": [
           {
            "colorbar": {
             "outlinewidth": 0,
             "ticks": ""
            },
            "colorscale": [
             [
              0,
              "#0d0887"
             ],
             [
              0.1111111111111111,
              "#46039f"
             ],
             [
              0.2222222222222222,
              "#7201a8"
             ],
             [
              0.3333333333333333,
              "#9c179e"
             ],
             [
              0.4444444444444444,
              "#bd3786"
             ],
             [
              0.5555555555555556,
              "#d8576b"
             ],
             [
              0.6666666666666666,
              "#ed7953"
             ],
             [
              0.7777777777777778,
              "#fb9f3a"
             ],
             [
              0.8888888888888888,
              "#fdca26"
             ],
             [
              1,
              "#f0f921"
             ]
            ],
            "type": "heatmapgl"
           }
          ],
          "histogram": [
           {
            "marker": {
             "pattern": {
              "fillmode": "overlay",
              "size": 10,
              "solidity": 0.2
             }
            },
            "type": "histogram"
           }
          ],
          "histogram2d": [
           {
            "colorbar": {
             "outlinewidth": 0,
             "ticks": ""
            },
            "colorscale": [
             [
              0,
              "#0d0887"
             ],
             [
              0.1111111111111111,
              "#46039f"
             ],
             [
              0.2222222222222222,
              "#7201a8"
             ],
             [
              0.3333333333333333,
              "#9c179e"
             ],
             [
              0.4444444444444444,
              "#bd3786"
             ],
             [
              0.5555555555555556,
              "#d8576b"
             ],
             [
              0.6666666666666666,
              "#ed7953"
             ],
             [
              0.7777777777777778,
              "#fb9f3a"
             ],
             [
              0.8888888888888888,
              "#fdca26"
             ],
             [
              1,
              "#f0f921"
             ]
            ],
            "type": "histogram2d"
           }
          ],
          "histogram2dcontour": [
           {
            "colorbar": {
             "outlinewidth": 0,
             "ticks": ""
            },
            "colorscale": [
             [
              0,
              "#0d0887"
             ],
             [
              0.1111111111111111,
              "#46039f"
             ],
             [
              0.2222222222222222,
              "#7201a8"
             ],
             [
              0.3333333333333333,
              "#9c179e"
             ],
             [
              0.4444444444444444,
              "#bd3786"
             ],
             [
              0.5555555555555556,
              "#d8576b"
             ],
             [
              0.6666666666666666,
              "#ed7953"
             ],
             [
              0.7777777777777778,
              "#fb9f3a"
             ],
             [
              0.8888888888888888,
              "#fdca26"
             ],
             [
              1,
              "#f0f921"
             ]
            ],
            "type": "histogram2dcontour"
           }
          ],
          "mesh3d": [
           {
            "colorbar": {
             "outlinewidth": 0,
             "ticks": ""
            },
            "type": "mesh3d"
           }
          ],
          "parcoords": [
           {
            "line": {
             "colorbar": {
              "outlinewidth": 0,
              "ticks": ""
             }
            },
            "type": "parcoords"
           }
          ],
          "pie": [
           {
            "automargin": true,
            "type": "pie"
           }
          ],
          "scatter": [
           {
            "fillpattern": {
             "fillmode": "overlay",
             "size": 10,
             "solidity": 0.2
            },
            "type": "scatter"
           }
          ],
          "scatter3d": [
           {
            "line": {
             "colorbar": {
              "outlinewidth": 0,
              "ticks": ""
             }
            },
            "marker": {
             "colorbar": {
              "outlinewidth": 0,
              "ticks": ""
             }
            },
            "type": "scatter3d"
           }
          ],
          "scattercarpet": [
           {
            "marker": {
             "colorbar": {
              "outlinewidth": 0,
              "ticks": ""
             }
            },
            "type": "scattercarpet"
           }
          ],
          "scattergeo": [
           {
            "marker": {
             "colorbar": {
              "outlinewidth": 0,
              "ticks": ""
             }
            },
            "type": "scattergeo"
           }
          ],
          "scattergl": [
           {
            "marker": {
             "colorbar": {
              "outlinewidth": 0,
              "ticks": ""
             }
            },
            "type": "scattergl"
           }
          ],
          "scattermapbox": [
           {
            "marker": {
             "colorbar": {
              "outlinewidth": 0,
              "ticks": ""
             }
            },
            "type": "scattermapbox"
           }
          ],
          "scatterpolar": [
           {
            "marker": {
             "colorbar": {
              "outlinewidth": 0,
              "ticks": ""
             }
            },
            "type": "scatterpolar"
           }
          ],
          "scatterpolargl": [
           {
            "marker": {
             "colorbar": {
              "outlinewidth": 0,
              "ticks": ""
             }
            },
            "type": "scatterpolargl"
           }
          ],
          "scatterternary": [
           {
            "marker": {
             "colorbar": {
              "outlinewidth": 0,
              "ticks": ""
             }
            },
            "type": "scatterternary"
           }
          ],
          "surface": [
           {
            "colorbar": {
             "outlinewidth": 0,
             "ticks": ""
            },
            "colorscale": [
             [
              0,
              "#0d0887"
             ],
             [
              0.1111111111111111,
              "#46039f"
             ],
             [
              0.2222222222222222,
              "#7201a8"
             ],
             [
              0.3333333333333333,
              "#9c179e"
             ],
             [
              0.4444444444444444,
              "#bd3786"
             ],
             [
              0.5555555555555556,
              "#d8576b"
             ],
             [
              0.6666666666666666,
              "#ed7953"
             ],
             [
              0.7777777777777778,
              "#fb9f3a"
             ],
             [
              0.8888888888888888,
              "#fdca26"
             ],
             [
              1,
              "#f0f921"
             ]
            ],
            "type": "surface"
           }
          ],
          "table": [
           {
            "cells": {
             "fill": {
              "color": "#EBF0F8"
             },
             "line": {
              "color": "white"
             }
            },
            "header": {
             "fill": {
              "color": "#C8D4E3"
             },
             "line": {
              "color": "white"
             }
            },
            "type": "table"
           }
          ]
         },
         "layout": {
          "annotationdefaults": {
           "arrowcolor": "#2a3f5f",
           "arrowhead": 0,
           "arrowwidth": 1
          },
          "autotypenumbers": "strict",
          "coloraxis": {
           "colorbar": {
            "outlinewidth": 0,
            "ticks": ""
           }
          },
          "colorscale": {
           "diverging": [
            [
             0,
             "#8e0152"
            ],
            [
             0.1,
             "#c51b7d"
            ],
            [
             0.2,
             "#de77ae"
            ],
            [
             0.3,
             "#f1b6da"
            ],
            [
             0.4,
             "#fde0ef"
            ],
            [
             0.5,
             "#f7f7f7"
            ],
            [
             0.6,
             "#e6f5d0"
            ],
            [
             0.7,
             "#b8e186"
            ],
            [
             0.8,
             "#7fbc41"
            ],
            [
             0.9,
             "#4d9221"
            ],
            [
             1,
             "#276419"
            ]
           ],
           "sequential": [
            [
             0,
             "#0d0887"
            ],
            [
             0.1111111111111111,
             "#46039f"
            ],
            [
             0.2222222222222222,
             "#7201a8"
            ],
            [
             0.3333333333333333,
             "#9c179e"
            ],
            [
             0.4444444444444444,
             "#bd3786"
            ],
            [
             0.5555555555555556,
             "#d8576b"
            ],
            [
             0.6666666666666666,
             "#ed7953"
            ],
            [
             0.7777777777777778,
             "#fb9f3a"
            ],
            [
             0.8888888888888888,
             "#fdca26"
            ],
            [
             1,
             "#f0f921"
            ]
           ],
           "sequentialminus": [
            [
             0,
             "#0d0887"
            ],
            [
             0.1111111111111111,
             "#46039f"
            ],
            [
             0.2222222222222222,
             "#7201a8"
            ],
            [
             0.3333333333333333,
             "#9c179e"
            ],
            [
             0.4444444444444444,
             "#bd3786"
            ],
            [
             0.5555555555555556,
             "#d8576b"
            ],
            [
             0.6666666666666666,
             "#ed7953"
            ],
            [
             0.7777777777777778,
             "#fb9f3a"
            ],
            [
             0.8888888888888888,
             "#fdca26"
            ],
            [
             1,
             "#f0f921"
            ]
           ]
          },
          "colorway": [
           "#636efa",
           "#EF553B",
           "#00cc96",
           "#ab63fa",
           "#FFA15A",
           "#19d3f3",
           "#FF6692",
           "#B6E880",
           "#FF97FF",
           "#FECB52"
          ],
          "font": {
           "color": "#2a3f5f"
          },
          "geo": {
           "bgcolor": "white",
           "lakecolor": "white",
           "landcolor": "#E5ECF6",
           "showlakes": true,
           "showland": true,
           "subunitcolor": "white"
          },
          "hoverlabel": {
           "align": "left"
          },
          "hovermode": "closest",
          "mapbox": {
           "style": "light"
          },
          "paper_bgcolor": "white",
          "plot_bgcolor": "#E5ECF6",
          "polar": {
           "angularaxis": {
            "gridcolor": "white",
            "linecolor": "white",
            "ticks": ""
           },
           "bgcolor": "#E5ECF6",
           "radialaxis": {
            "gridcolor": "white",
            "linecolor": "white",
            "ticks": ""
           }
          },
          "scene": {
           "xaxis": {
            "backgroundcolor": "#E5ECF6",
            "gridcolor": "white",
            "gridwidth": 2,
            "linecolor": "white",
            "showbackground": true,
            "ticks": "",
            "zerolinecolor": "white"
           },
           "yaxis": {
            "backgroundcolor": "#E5ECF6",
            "gridcolor": "white",
            "gridwidth": 2,
            "linecolor": "white",
            "showbackground": true,
            "ticks": "",
            "zerolinecolor": "white"
           },
           "zaxis": {
            "backgroundcolor": "#E5ECF6",
            "gridcolor": "white",
            "gridwidth": 2,
            "linecolor": "white",
            "showbackground": true,
            "ticks": "",
            "zerolinecolor": "white"
           }
          },
          "shapedefaults": {
           "line": {
            "color": "#2a3f5f"
           }
          },
          "ternary": {
           "aaxis": {
            "gridcolor": "white",
            "linecolor": "white",
            "ticks": ""
           },
           "baxis": {
            "gridcolor": "white",
            "linecolor": "white",
            "ticks": ""
           },
           "bgcolor": "#E5ECF6",
           "caxis": {
            "gridcolor": "white",
            "linecolor": "white",
            "ticks": ""
           }
          },
          "title": {
           "x": 0.05
          },
          "xaxis": {
           "automargin": true,
           "gridcolor": "white",
           "linecolor": "white",
           "ticks": "",
           "title": {
            "standoff": 15
           },
           "zerolinecolor": "white",
           "zerolinewidth": 2
          },
          "yaxis": {
           "automargin": true,
           "gridcolor": "white",
           "linecolor": "white",
           "ticks": "",
           "title": {
            "standoff": 15
           },
           "zerolinecolor": "white",
           "zerolinewidth": 2
          }
         }
        },
        "width": 600,
        "xaxis": {
         "anchor": "y",
         "domain": [
          0,
          1
         ],
         "title": {
          "text": "recall"
         }
        },
        "yaxis": {
         "anchor": "x",
         "domain": [
          0,
          1
         ],
         "title": {
          "text": "precision"
         }
        }
       }
      }
     },
     "metadata": {},
     "output_type": "display_data"
    }
   ],
   "source": [
    "import plotly.express as px\n",
    "\n",
    "fig = px.line(df, x=\"recall\", y=\"precision\", color='filter', width=600, height=400)\n",
    "fig.show()"
   ]
  },
  {
   "cell_type": "markdown",
   "metadata": {},
   "source": []
  },
  {
   "cell_type": "code",
   "execution_count": 204,
   "metadata": {},
   "outputs": [],
   "source": [
    "from evaluate import get_preds, compute_precision_recall"
   ]
  },
  {
   "cell_type": "code",
   "execution_count": 228,
   "metadata": {},
   "outputs": [],
   "source": [
    "category = None\n",
    "import numpy as np\n",
    "\n",
    "precisions = [1]\n",
    "recalls = [0]\n",
    "ln = []\n",
    "normal_check = []\n",
    "confs = []\n",
    "for conf in list(np.arange(0.99, 0, -0.01)) + [0.001, 0]:\n",
    "    conf_thresh_pred_dict = get_preds(pred_dict, conf)\n",
    "    prec, recall = compute_precision_recall(\n",
    "        gt_dict, conf_thresh_pred_dict, category=category)\n",
    "    precisions.append(prec)\n",
    "    recalls.append(recall)\n",
    "    confs.append(conf)\n",
    "\n",
    "    mn = np.mean([len(x) for x in list(conf_thresh_pred_dict.values())])\n",
    "    std = np.std([len(x) for x in list(conf_thresh_pred_dict.values())])\n",
    "    ln.append((mn,std))\n",
    "    if recall>0.75 and recall<0.85:\n",
    "        normal_check.extend([len(x) for x in list(conf_thresh_pred_dict.values())])"
   ]
  },
  {
   "cell_type": "markdown",
   "metadata": {},
   "source": [
    "### Expected predictions"
   ]
  },
  {
   "cell_type": "markdown",
   "metadata": {},
   "source": [
    "Single contract plot"
   ]
  },
  {
   "cell_type": "code",
   "execution_count": 231,
   "metadata": {},
   "outputs": [
    {
     "data": {
      "image/png": "[encoded data removed]",
      "text/plain": [
       "<Figure size 432x288 with 1 Axes>"
      ]
     },
     "metadata": {
      "needs_background": "light"
     },
     "output_type": "display_data"
    }
   ],
   "source": [
    "plt.hist(normal_check, bins=20)\n",
    "plt.xlabel(\"Number of predictions\")\n",
    "plt.ylabel(\"Number of occurrences\")\n",
    "plt.title(\"Distribution of the number of predictions at recall between 0.75 and 0.85\")\n",
    "plt.savefig('distribution_preds_recall_0.75_0.85.png')\n",
    "plt.show()"
   ]
  },
  {
   "cell_type": "code",
   "execution_count": 214,
   "metadata": {},
   "outputs": [
    {
     "data": {
      "application/vnd.plotly.v1+json": {
       "config": {
        "plotlyServerURL": "https://plot.ly"
       },
       "data": [
        {
         "fill": "toself",
         "fillcolor": "rgba(0,100,80,0.2)",
         "line": {
          "color": "rgba(255,255,255,0)"
         },
         "mode": "lines",
         "name": "Number of predictions",
         "showlegend": false,
         "type": "scatter",
         "x": [
          0.1611804767309875,
          0.17631479379493,
          0.18199016269390844,
          0.18690881573968976,
          0.18880060537268256,
          0.19409761634506242,
          0.19674612183125237,
          0.20128641695043512,
          0.2035565645100265,
          0.20582671206961786,
          0.20809685962920924,
          0.20885357548240635,
          0.21112372304199772,
          0.21377222852818767,
          0.21528566023458193,
          0.21831252364737042,
          0.22020431328036322,
          0.2213393870601589,
          0.22285281876655316,
          0.22436625047294742,
          0.22587968217934165,
          0.22890654559213017,
          0.22966326144532728,
          0.23269012485811577,
          0.23420355656451003,
          0.2364737041241014,
          0.23798713583049566,
          0.23874385168369278,
          0.2395005675368899,
          0.24139235716988272,
          0.24214907302307984,
          0.24404086265607264,
          0.246311010215664,
          0.24820279984865684,
          0.25009458948164964,
          0.25198637911464244,
          0.25387816874763525,
          0.2546348846008324,
          0.2565266742338252,
          0.25917517972001514,
          0.2603102534998108,
          0.26258040105940217,
          0.26409383276579645,
          0.2667423382519864,
          0.26787741203178206,
          0.27166099129776766,
          0.27506621263715475,
          0.27695800227014755,
          0.27884979190314035,
          0.28225501324252744,
          0.28376844494892167,
          0.28793038214150585,
          0.28982217177449865,
          0.2924706772606886,
          0.29701097237987134,
          0.30003783579265986,
          0.3030646992054484,
          0.30609156261823683,
          0.3087400681044268,
          0.31101021566401815,
          0.3136587211502081,
          0.3166855845629966,
          0.3204691638289822,
          0.3265228906545592,
          0.3337116912599319,
          0.3427922814982974,
          0.3514945138100643,
          0.35754824063564133,
          0.36095346197502837,
          0.3692773363601968,
          0.3764661369655694,
          0.3851683692773364,
          0.3938706015891033,
          0.401059402194476,
          0.4048429814604616,
          0.41051835035944,
          0.4180855088914113,
          0.4267877412031782,
          0.437381763147938,
          0.446840711312902,
          0.4540295119182747,
          0.4661369655694287,
          0.47937949300037835,
          0.49337873628452517,
          0.5005675368898979,
          0.5130533484676504,
          0.5319712447975785,
          0.5497540673477109,
          0.562618236852062,
          0.5883465758607643,
          0.6114264093832765,
          0.6269390843738176,
          0.6439651910707529,
          0.677639046538025,
          0.7120696178584941,
          0.7298524404086265,
          0.7385546727203935,
          0.7540673477109345,
          0.7710934544078698,
          0.8221717744986757,
          0.8880060537268256,
          0.8880060537268256,
          0.8221717744986757,
          0.7710934544078698,
          0.7540673477109345,
          0.7385546727203935,
          0.7298524404086265,
          0.7120696178584941,
          0.677639046538025,
          0.6439651910707529,
          0.6269390843738176,
          0.6114264093832765,
          0.5883465758607643,
          0.562618236852062,
          0.5497540673477109,
          0.5319712447975785,
          0.5130533484676504,
          0.5005675368898979,
          0.49337873628452517,
          0.47937949300037835,
          0.4661369655694287,
          0.4540295119182747,
          0.446840711312902,
          0.437381763147938,
          0.4267877412031782,
          0.4180855088914113,
          0.41051835035944,
          0.4048429814604616,
          0.401059402194476,
          0.3938706015891033,
          0.3851683692773364,
          0.3764661369655694,
          0.3692773363601968,
          0.36095346197502837,
          0.35754824063564133,
          0.3514945138100643,
          0.3427922814982974,
          0.3337116912599319,
          0.3265228906545592,
          0.3204691638289822,
          0.3166855845629966,
          0.3136587211502081,
          0.31101021566401815,
          0.3087400681044268,
          0.30609156261823683,
          0.3030646992054484,
          0.30003783579265986,
          0.29701097237987134,
          0.2924706772606886,
          0.28982217177449865,
          0.28793038214150585,
          0.28376844494892167,
          0.28225501324252744,
          0.27884979190314035,
          0.27695800227014755,
          0.27506621263715475,
          0.27166099129776766,
          0.26787741203178206,
          0.2667423382519864,
          0.26409383276579645,
          0.26258040105940217,
          0.2603102534998108,
          0.25917517972001514,
          0.2565266742338252,
          0.2546348846008324,
          0.25387816874763525,
          0.25198637911464244,
          0.25009458948164964,
          0.24820279984865684,
          0.246311010215664,
          0.24404086265607264,
          0.24214907302307984,
          0.24139235716988272,
          0.2395005675368899,
          0.23874385168369278,
          0.23798713583049566,
          0.2364737041241014,
          0.23420355656451003,
          0.23269012485811577,
          0.22966326144532728,
          0.22890654559213017,
          0.22587968217934165,
          0.22436625047294742,
          0.22285281876655316,
          0.2213393870601589,
          0.22020431328036322,
          0.21831252364737042,
          0.21528566023458193,
          0.21377222852818767,
          0.21112372304199772,
          0.20885357548240635,
          0.20809685962920924,
          0.20582671206961786,
          0.2035565645100265,
          0.20128641695043512,
          0.19674612183125237,
          0.19409761634506242,
          0.18880060537268256,
          0.18690881573968976,
          0.18199016269390844,
          0.17631479379493,
          0.1611804767309875
         ],
         "y": [
          -0.20667508518123814,
          -0.20471313749663517,
          -0.20300696746337216,
          -0.20160650617811357,
          -0.20072400435901172,
          -0.19935384307993517,
          -0.19800097892532478,
          -0.19690665136551935,
          -0.1956850360726391,
          -0.19448095042788358,
          -0.19362311215543446,
          -0.19306464332376633,
          -0.19191872834548057,
          -0.19124676109699476,
          -0.18995364448827873,
          -0.18915724199799314,
          -0.18834562053532325,
          -0.187611518922084,
          -0.18686560445289246,
          -0.18629847454205,
          -0.1852417518377496,
          -0.18386536842562975,
          -0.18306321189063707,
          -0.18183886582199527,
          -0.1807994078903502,
          -0.179636081482267,
          -0.1784520865891755,
          -0.17735796363773104,
          -0.17658209432760824,
          -0.1757980608534177,
          -0.1751195714820638,
          -0.17351341460741132,
          -0.17246400814911028,
          -0.1715202086201521,
          -0.16996464473678186,
          -0.16825939457852868,
          -0.1668979258504289,
          -0.16576996257001314,
          -0.16437432122660622,
          -0.1628306201326472,
          -0.16139630284456508,
          -0.15927744438943703,
          -0.1580687606760658,
          -0.15630168219835583,
          -0.1556154051178839,
          -0.15325471780121575,
          -0.1517048551838005,
          -0.15042382145591754,
          -0.14869774727273427,
          -0.14636450465352885,
          -0.14588487256842153,
          -0.14619912592782697,
          -0.14705207845837148,
          -0.14865507955811452,
          -0.14858034469851328,
          -0.14795974680666074,
          -0.14906949095498173,
          -0.15023752708252452,
          -0.15005137878840402,
          -0.15069585694219656,
          -0.15102967021089997,
          -0.15215825279332434,
          -0.15337942684312506,
          -0.1520786317425485,
          -0.15113507446786711,
          -0.15222660295427382,
          -0.15791546546429347,
          -0.16454591040721334,
          -0.178286208168638,
          -0.1830730678727775,
          -0.18905810541722445,
          -0.19567495001444218,
          -0.20067917819408282,
          -0.20360707088129226,
          -0.20544277363877367,
          -0.210173009588129,
          -0.21704467414036066,
          -0.2216791623175004,
          -0.2288384411087473,
          -0.23441339315053566,
          -0.2391042846516881,
          -0.2501705333587626,
          -0.25952506891261784,
          -0.27772741333530293,
          -0.2974545608695901,
          -0.3141708974722698,
          -0.33639421272575787,
          -0.35520970984659084,
          -0.38428612236009574,
          -0.43441758089488036,
          -0.5058077038689675,
          -0.5642123824114508,
          -0.6159698075348534,
          -0.6845396694572873,
          -0.8078382968705551,
          -1.059681482459647,
          -1.16461667009307,
          -1.2588675722591123,
          -1.3716313857740274,
          -1.5618691385319248,
          17.696212503224995,
          20.54195105488117,
          5.083150821936995,
          3.986169884100187,
          3.640024913244287,
          3.3970413472810184,
          3.169676700058882,
          2.7662314102134533,
          2.5051996407628825,
          2.3342864024655086,
          2.2031411246400494,
          2.0672615537015835,
          1.915527097872403,
          1.7845730664060069,
          1.7105420866997711,
          1.6482067426157627,
          1.5805506200930255,
          1.52940099798102,
          1.4752405649374072,
          1.42451789531147,
          1.3831212746308812,
          1.3433606213327018,
          1.32049660692385,
          1.2905314109796224,
          1.257068927979863,
          1.2333048367419868,
          1.2082600492820554,
          1.1863131705780372,
          1.166304344912856,
          1.147594529700539,
          1.1229824583836436,
          1.0943665702665788,
          1.0702084098144322,
          1.0434225065904457,
          1.011030845844803,
          0.9852707978411467,
          0.9566264116582432,
          0.9301881591163607,
          0.9163062740189714,
          0.9037381069005139,
          0.8900826908612345,
          0.880824026977997,
          0.8737948526380359,
          0.8592814122652094,
          0.8508592391819985,
          0.8406046416006059,
          0.832799536381027,
          0.825768293048585,
          0.8181911866838917,
          0.8108493046659278,
          0.8033009910641253,
          0.7943784163273885,
          0.7867279671116829,
          0.7814093685065937,
          0.7773965617715559,
          0.7743734348107733,
          0.770662656586486,
          0.764893262602341,
          0.763188339300221,
          0.7587382967831916,
          0.755642819807897,
          0.7501098370387306,
          0.7462835134851102,
          0.7420883336608483,
          0.7382233341625526,
          0.7350471367543026,
          0.7311479646406999,
          0.7261578537276953,
          0.7214962966163261,
          0.718614175533137,
          0.7153594213027724,
          0.7102702171061671,
          0.7080792660184105,
          0.7055156189569722,
          0.7029438077314661,
          0.6992555299177263,
          0.6951788839691153,
          0.691081569535496,
          0.687338626701957,
          0.6828240918523778,
          0.6798003277752233,
          0.6744813501160853,
          0.6702774319786833,
          0.6679751214304152,
          0.6648951152874594,
          0.6618032962885514,
          0.6583107570625556,
          0.6548029988641755,
          0.6489225143251153,
          0.6457685609614539,
          0.6402191148684817,
          0.637429903164521,
          0.6330271005952676,
          0.6265793450157285,
          0.6196708790077958,
          0.6131133653433066,
          0.6044231878910303,
          0.5947938274101834,
          0.5880244880049906,
          0.5760342271477337,
          0.5581325540437418,
          0.5247047360659823
         ]
        },
        {
         "line": {
          "color": "rgb(0,100,80)"
         },
         "mode": "lines",
         "showlegend": false,
         "type": "scatter",
         "x": [
          0.1611804767309875,
          0.17631479379493,
          0.18199016269390844,
          0.18690881573968976,
          0.18880060537268256,
          0.19409761634506242,
          0.19674612183125237,
          0.20128641695043512,
          0.2035565645100265,
          0.20582671206961786,
          0.20809685962920924,
          0.20885357548240635,
          0.21112372304199772,
          0.21377222852818767,
          0.21528566023458193,
          0.21831252364737042,
          0.22020431328036322,
          0.2213393870601589,
          0.22285281876655316,
          0.22436625047294742,
          0.22587968217934165,
          0.22890654559213017,
          0.22966326144532728,
          0.23269012485811577,
          0.23420355656451003,
          0.2364737041241014,
          0.23798713583049566,
          0.23874385168369278,
          0.2395005675368899,
          0.24139235716988272,
          0.24214907302307984,
          0.24404086265607264,
          0.246311010215664,
          0.24820279984865684,
          0.25009458948164964,
          0.25198637911464244,
          0.25387816874763525,
          0.2546348846008324,
          0.2565266742338252,
          0.25917517972001514,
          0.2603102534998108,
          0.26258040105940217,
          0.26409383276579645,
          0.2667423382519864,
          0.26787741203178206,
          0.27166099129776766,
          0.27506621263715475,
          0.27695800227014755,
          0.27884979190314035,
          0.28225501324252744,
          0.28376844494892167,
          0.28793038214150585,
          0.28982217177449865,
          0.2924706772606886,
          0.29701097237987134,
          0.30003783579265986,
          0.3030646992054484,
          0.30609156261823683,
          0.3087400681044268,
          0.31101021566401815,
          0.3136587211502081,
          0.3166855845629966,
          0.3204691638289822,
          0.3265228906545592,
          0.3337116912599319,
          0.3427922814982974,
          0.3514945138100643,
          0.35754824063564133,
          0.36095346197502837,
          0.3692773363601968,
          0.3764661369655694,
          0.3851683692773364,
          0.3938706015891033,
          0.401059402194476,
          0.4048429814604616,
          0.41051835035944,
          0.4180855088914113,
          0.4267877412031782,
          0.437381763147938,
          0.446840711312902,
          0.4540295119182747,
          0.4661369655694287,
          0.47937949300037835,
          0.49337873628452517,
          0.5005675368898979,
          0.5130533484676504,
          0.5319712447975785,
          0.5497540673477109,
          0.562618236852062,
          0.5883465758607643,
          0.6114264093832765,
          0.6269390843738176,
          0.6439651910707529,
          0.677639046538025,
          0.7120696178584941,
          0.7298524404086265,
          0.7385546727203935,
          0.7540673477109345,
          0.7710934544078698,
          0.8221717744986757,
          0.8880060537268256
         ],
         "y": [
          0.15901482544237208,
          0.1767097082735533,
          0.18651362984218078,
          0.19320899091343854,
          0.19703491152558583,
          0.2025346724055476,
          0.2075561932089909,
          0.21138211382113822,
          0.21544715447154472,
          0.219273075083692,
          0.22190339550454327,
          0.22357723577235772,
          0.2269249163079866,
          0.22883787661406027,
          0.23242467718794835,
          0.23457675753228122,
          0.23672883787661406,
          0.23864179818268771,
          0.24055475848876134,
          0.2419894787183166,
          0.24461979913916787,
          0.24796747967479674,
          0.2498804399808704,
          0.25274988043998087,
          0.2551410808225729,
          0.2577714012434242,
          0.26040172166427544,
          0.26279292204686755,
          0.26446676231468197,
          0.2661406025824964,
          0.26757532281205165,
          0.27092300334768055,
          0.2730750836920134,
          0.274988043998087,
          0.2780966044954567,
          0.2814442850310856,
          0.28407460545193686,
          0.28622668579626975,
          0.288857006217121,
          0.2917264466762315,
          0.29435676709708275,
          0.29818268770923,
          0.3003347680535629,
          0.3034433285509326,
          0.3046389287422286,
          0.3087039693926351,
          0.3113342898134864,
          0.3134863701578192,
          0.3163558106169297,
          0.320181731229077,
          0.3242467718794835,
          0.3285509325681492,
          0.3318986131037781,
          0.3347680535628886,
          0.3385939741750359,
          0.34241989478718315,
          0.34576757532281205,
          0.35031085604973694,
          0.3546150167384027,
          0.3615494978479197,
          0.3648971783835485,
          0.36896221903395504,
          0.3751793400286944,
          0.3821138211382114,
          0.38952654232424677,
          0.4021999043519847,
          0.4136776661884266,
          0.4232424677187948,
          0.43256814921090386,
          0.44356767097082733,
          0.45265423242467717,
          0.4636537541846007,
          0.4734576757532281,
          0.4813486370157819,
          0.49043519846963174,
          0.49904351984696316,
          0.508130081300813,
          0.5176948828311813,
          0.5308464849354376,
          0.5430416068866571,
          0.5521281683405069,
          0.5664753706360593,
          0.5824964131994261,
          0.5987565758010521,
          0.615973218555715,
          0.6331898613103778,
          0.6559062649450024,
          0.6776661884265901,
          0.7001434720229556,
          0.7405547584887614,
          0.780726924916308,
          0.8194643711142994,
          0.8591582974653276,
          0.9103299856527977,
          0.9791965566714491,
          1.0549976087996173,
          1.1162123385939742,
          1.1905786704925874,
          1.30726924916308,
          1.7606408417025348,
          19.119081779053083
         ]
        }
       ],
       "layout": {
        "height": 400,
        "template": {
         "data": {
          "bar": [
           {
            "error_x": {
             "color": "#2a3f5f"
            },
            "error_y": {
             "color": "#2a3f5f"
            },
            "marker": {
             "line": {
              "color": "#E5ECF6",
              "width": 0.5
             },
             "pattern": {
              "fillmode": "overlay",
              "size": 10,
              "solidity": 0.2
             }
            },
            "type": "bar"
           }
          ],
          "barpolar": [
           {
            "marker": {
             "line": {
              "color": "#E5ECF6",
              "width": 0.5
             },
             "pattern": {
              "fillmode": "overlay",
              "size": 10,
              "solidity": 0.2
             }
            },
            "type": "barpolar"
           }
          ],
          "carpet": [
           {
            "aaxis": {
             "endlinecolor": "#2a3f5f",
             "gridcolor": "white",
             "linecolor": "white",
             "minorgridcolor": "white",
             "startlinecolor": "#2a3f5f"
            },
            "baxis": {
             "endlinecolor": "#2a3f5f",
             "gridcolor": "white",
             "linecolor": "white",
             "minorgridcolor": "white",
             "startlinecolor": "#2a3f5f"
            },
            "type": "carpet"
           }
          ],
          "choropleth": [
           {
            "colorbar": {
             "outlinewidth": 0,
             "ticks": ""
            },
            "type": "choropleth"
           }
          ],
          "contour": [
           {
            "colorbar": {
             "outlinewidth": 0,
             "ticks": ""
            },
            "colorscale": [
             [
              0,
              "#0d0887"
             ],
             [
              0.1111111111111111,
              "#46039f"
             ],
             [
              0.2222222222222222,
              "#7201a8"
             ],
             [
              0.3333333333333333,
              "#9c179e"
             ],
             [
              0.4444444444444444,
              "#bd3786"
             ],
             [
              0.5555555555555556,
              "#d8576b"
             ],
             [
              0.6666666666666666,
              "#ed7953"
             ],
             [
              0.7777777777777778,
              "#fb9f3a"
             ],
             [
              0.8888888888888888,
              "#fdca26"
             ],
             [
              1,
              "#f0f921"
             ]
            ],
            "type": "contour"
           }
          ],
          "contourcarpet": [
           {
            "colorbar": {
             "outlinewidth": 0,
             "ticks": ""
            },
            "type": "contourcarpet"
           }
          ],
          "heatmap": [
           {
            "colorbar": {
             "outlinewidth": 0,
             "ticks": ""
            },
            "colorscale": [
             [
              0,
              "#0d0887"
             ],
             [
              0.1111111111111111,
              "#46039f"
             ],
             [
              0.2222222222222222,
              "#7201a8"
             ],
             [
              0.3333333333333333,
              "#9c179e"
             ],
             [
              0.4444444444444444,
              "#bd3786"
             ],
             [
              0.5555555555555556,
              "#d8576b"
             ],
             [
              0.6666666666666666,
              "#ed7953"
             ],
             [
              0.7777777777777778,
              "#fb9f3a"
             ],
             [
              0.8888888888888888,
              "#fdca26"
             ],
             [
              1,
              "#f0f921"
             ]
            ],
            "type": "heatmap"
           }
          ],
          "heatmapgl": [
           {
            "colorbar": {
             "outlinewidth": 0,
             "ticks": ""
            },
            "colorscale": [
             [
              0,
              "#0d0887"
             ],
             [
              0.1111111111111111,
              "#46039f"
             ],
             [
              0.2222222222222222,
              "#7201a8"
             ],
             [
              0.3333333333333333,
              "#9c179e"
             ],
             [
              0.4444444444444444,
              "#bd3786"
             ],
             [
              0.5555555555555556,
              "#d8576b"
             ],
             [
              0.6666666666666666,
              "#ed7953"
             ],
             [
              0.7777777777777778,
              "#fb9f3a"
             ],
             [
              0.8888888888888888,
              "#fdca26"
             ],
             [
              1,
              "#f0f921"
             ]
            ],
            "type": "heatmapgl"
           }
          ],
          "histogram": [
           {
            "marker": {
             "pattern": {
              "fillmode": "overlay",
              "size": 10,
              "solidity": 0.2
             }
            },
            "type": "histogram"
           }
          ],
          "histogram2d": [
           {
            "colorbar": {
             "outlinewidth": 0,
             "ticks": ""
            },
            "colorscale": [
             [
              0,
              "#0d0887"
             ],
             [
              0.1111111111111111,
              "#46039f"
             ],
             [
              0.2222222222222222,
              "#7201a8"
             ],
             [
              0.3333333333333333,
              "#9c179e"
             ],
             [
              0.4444444444444444,
              "#bd3786"
             ],
             [
              0.5555555555555556,
              "#d8576b"
             ],
             [
              0.6666666666666666,
              "#ed7953"
             ],
             [
              0.7777777777777778,
              "#fb9f3a"
             ],
             [
              0.8888888888888888,
              "#fdca26"
             ],
             [
              1,
              "#f0f921"
             ]
            ],
            "type": "histogram2d"
           }
          ],
          "histogram2dcontour": [
           {
            "colorbar": {
             "outlinewidth": 0,
             "ticks": ""
            },
            "colorscale": [
             [
              0,
              "#0d0887"
             ],
             [
              0.1111111111111111,
              "#46039f"
             ],
             [
              0.2222222222222222,
              "#7201a8"
             ],
             [
              0.3333333333333333,
              "#9c179e"
             ],
             [
              0.4444444444444444,
              "#bd3786"
             ],
             [
              0.5555555555555556,
              "#d8576b"
             ],
             [
              0.6666666666666666,
              "#ed7953"
             ],
             [
              0.7777777777777778,
              "#fb9f3a"
             ],
             [
              0.8888888888888888,
              "#fdca26"
             ],
             [
              1,
              "#f0f921"
             ]
            ],
            "type": "histogram2dcontour"
           }
          ],
          "mesh3d": [
           {
            "colorbar": {
             "outlinewidth": 0,
             "ticks": ""
            },
            "type": "mesh3d"
           }
          ],
          "parcoords": [
           {
            "line": {
             "colorbar": {
              "outlinewidth": 0,
              "ticks": ""
             }
            },
            "type": "parcoords"
           }
          ],
          "pie": [
           {
            "automargin": true,
            "type": "pie"
           }
          ],
          "scatter": [
           {
            "fillpattern": {
             "fillmode": "overlay",
             "size": 10,
             "solidity": 0.2
            },
            "type": "scatter"
           }
          ],
          "scatter3d": [
           {
            "line": {
             "colorbar": {
              "outlinewidth": 0,
              "ticks": ""
             }
            },
            "marker": {
             "colorbar": {
              "outlinewidth": 0,
              "ticks": ""
             }
            },
            "type": "scatter3d"
           }
          ],
          "scattercarpet": [
           {
            "marker": {
             "colorbar": {
              "outlinewidth": 0,
              "ticks": ""
             }
            },
            "type": "scattercarpet"
           }
          ],
          "scattergeo": [
           {
            "marker": {
             "colorbar": {
              "outlinewidth": 0,
              "ticks": ""
             }
            },
            "type": "scattergeo"
           }
          ],
          "scattergl": [
           {
            "marker": {
             "colorbar": {
              "outlinewidth": 0,
              "ticks": ""
             }
            },
            "type": "scattergl"
           }
          ],
          "scattermapbox": [
           {
            "marker": {
             "colorbar": {
              "outlinewidth": 0,
              "ticks": ""
             }
            },
            "type": "scattermapbox"
           }
          ],
          "scatterpolar": [
           {
            "marker": {
             "colorbar": {
              "outlinewidth": 0,
              "ticks": ""
             }
            },
            "type": "scatterpolar"
           }
          ],
          "scatterpolargl": [
           {
            "marker": {
             "colorbar": {
              "outlinewidth": 0,
              "ticks": ""
             }
            },
            "type": "scatterpolargl"
           }
          ],
          "scatterternary": [
           {
            "marker": {
             "colorbar": {
              "outlinewidth": 0,
              "ticks": ""
             }
            },
            "type": "scatterternary"
           }
          ],
          "surface": [
           {
            "colorbar": {
             "outlinewidth": 0,
             "ticks": ""
            },
            "colorscale": [
             [
              0,
              "#0d0887"
             ],
             [
              0.1111111111111111,
              "#46039f"
             ],
             [
              0.2222222222222222,
              "#7201a8"
             ],
             [
              0.3333333333333333,
              "#9c179e"
             ],
             [
              0.4444444444444444,
              "#bd3786"
             ],
             [
              0.5555555555555556,
              "#d8576b"
             ],
             [
              0.6666666666666666,
              "#ed7953"
             ],
             [
              0.7777777777777778,
              "#fb9f3a"
             ],
             [
              0.8888888888888888,
              "#fdca26"
             ],
             [
              1,
              "#f0f921"
             ]
            ],
            "type": "surface"
           }
          ],
          "table": [
           {
            "cells": {
             "fill": {
              "color": "#EBF0F8"
             },
             "line": {
              "color": "white"
             }
            },
            "header": {
             "fill": {
              "color": "#C8D4E3"
             },
             "line": {
              "color": "white"
             }
            },
            "type": "table"
           }
          ]
         },
         "layout": {
          "annotationdefaults": {
           "arrowcolor": "#2a3f5f",
           "arrowhead": 0,
           "arrowwidth": 1
          },
          "autotypenumbers": "strict",
          "coloraxis": {
           "colorbar": {
            "outlinewidth": 0,
            "ticks": ""
           }
          },
          "colorscale": {
           "diverging": [
            [
             0,
             "#8e0152"
            ],
            [
             0.1,
             "#c51b7d"
            ],
            [
             0.2,
             "#de77ae"
            ],
            [
             0.3,
             "#f1b6da"
            ],
            [
             0.4,
             "#fde0ef"
            ],
            [
             0.5,
             "#f7f7f7"
            ],
            [
             0.6,
             "#e6f5d0"
            ],
            [
             0.7,
             "#b8e186"
            ],
            [
             0.8,
             "#7fbc41"
            ],
            [
             0.9,
             "#4d9221"
            ],
            [
             1,
             "#276419"
            ]
           ],
           "sequential": [
            [
             0,
             "#0d0887"
            ],
            [
             0.1111111111111111,
             "#46039f"
            ],
            [
             0.2222222222222222,
             "#7201a8"
            ],
            [
             0.3333333333333333,
             "#9c179e"
            ],
            [
             0.4444444444444444,
             "#bd3786"
            ],
            [
             0.5555555555555556,
             "#d8576b"
            ],
            [
             0.6666666666666666,
             "#ed7953"
            ],
            [
             0.7777777777777778,
             "#fb9f3a"
            ],
            [
             0.8888888888888888,
             "#fdca26"
            ],
            [
             1,
             "#f0f921"
            ]
           ],
           "sequentialminus": [
            [
             0,
             "#0d0887"
            ],
            [
             0.1111111111111111,
             "#46039f"
            ],
            [
             0.2222222222222222,
             "#7201a8"
            ],
            [
             0.3333333333333333,
             "#9c179e"
            ],
            [
             0.4444444444444444,
             "#bd3786"
            ],
            [
             0.5555555555555556,
             "#d8576b"
            ],
            [
             0.6666666666666666,
             "#ed7953"
            ],
            [
             0.7777777777777778,
             "#fb9f3a"
            ],
            [
             0.8888888888888888,
             "#fdca26"
            ],
            [
             1,
             "#f0f921"
            ]
           ]
          },
          "colorway": [
           "#636efa",
           "#EF553B",
           "#00cc96",
           "#ab63fa",
           "#FFA15A",
           "#19d3f3",
           "#FF6692",
           "#B6E880",
           "#FF97FF",
           "#FECB52"
          ],
          "font": {
           "color": "#2a3f5f"
          },
          "geo": {
           "bgcolor": "white",
           "lakecolor": "white",
           "landcolor": "#E5ECF6",
           "showlakes": true,
           "showland": true,
           "subunitcolor": "white"
          },
          "hoverlabel": {
           "align": "left"
          },
          "hovermode": "closest",
          "mapbox": {
           "style": "light"
          },
          "paper_bgcolor": "white",
          "plot_bgcolor": "#E5ECF6",
          "polar": {
           "angularaxis": {
            "gridcolor": "white",
            "linecolor": "white",
            "ticks": ""
           },
           "bgcolor": "#E5ECF6",
           "radialaxis": {
            "gridcolor": "white",
            "linecolor": "white",
            "ticks": ""
           }
          },
          "scene": {
           "xaxis": {
            "backgroundcolor": "#E5ECF6",
            "gridcolor": "white",
            "gridwidth": 2,
            "linecolor": "white",
            "showbackground": true,
            "ticks": "",
            "zerolinecolor": "white"
           },
           "yaxis": {
            "backgroundcolor": "#E5ECF6",
            "gridcolor": "white",
            "gridwidth": 2,
            "linecolor": "white",
            "showbackground": true,
            "ticks": "",
            "zerolinecolor": "white"
           },
           "zaxis": {
            "backgroundcolor": "#E5ECF6",
            "gridcolor": "white",
            "gridwidth": 2,
            "linecolor": "white",
            "showbackground": true,
            "ticks": "",
            "zerolinecolor": "white"
           }
          },
          "shapedefaults": {
           "line": {
            "color": "#2a3f5f"
           }
          },
          "ternary": {
           "aaxis": {
            "gridcolor": "white",
            "linecolor": "white",
            "ticks": ""
           },
           "baxis": {
            "gridcolor": "white",
            "linecolor": "white",
            "ticks": ""
           },
           "bgcolor": "#E5ECF6",
           "caxis": {
            "gridcolor": "white",
            "linecolor": "white",
            "ticks": ""
           }
          },
          "title": {
           "x": 0.05
          },
          "xaxis": {
           "automargin": true,
           "gridcolor": "white",
           "linecolor": "white",
           "ticks": "",
           "title": {
            "standoff": 15
           },
           "zerolinecolor": "white",
           "zerolinewidth": 2
          },
          "yaxis": {
           "automargin": true,
           "gridcolor": "white",
           "linecolor": "white",
           "ticks": "",
           "title": {
            "standoff": 15
           },
           "zerolinecolor": "white",
           "zerolinewidth": 2
          }
         }
        },
        "width": 600,
        "xaxis": {
         "title": {
          "text": "Recall"
         }
        },
        "yaxis": {
         "title": {
          "text": "# of predictions"
         }
        }
       }
      }
     },
     "metadata": {},
     "output_type": "display_data"
    }
   ],
   "source": [
    "import plotly.graph_objects as go\n",
    "import numpy as np\n",
    "\n",
    "\n",
    "x = recalls[1:]\n",
    "x_rev = x[::-1]\n",
    "\n",
    "# Line 1\n",
    "y1 = np.array([x[0] for x in ln])\n",
    "std1 = np.array([x[1] for x in ln])\n",
    "y1_upper = y1-std1\n",
    "y1_lower = y1+std1\n",
    "y1_lower = y1_lower[::-1]\n",
    "y1_upper = list(y1_upper)\n",
    "y1_lower = list(y1_lower)\n",
    "y1=list(y1)\n",
    "\n",
    "\n",
    "fig = go.Figure()\n",
    "\n",
    "fig.add_trace(go.Scatter(\n",
    "    x=x+x_rev,\n",
    "    y=y1_upper+y1_lower,\n",
    "    fill='toself',\n",
    "    fillcolor='rgba(0,100,80,0.2)',\n",
    "    line_color='rgba(255,255,255,0)',\n",
    "    showlegend=False,\n",
    "    name='Number of predictions',\n",
    "))\n",
    "\n",
    "fig.add_trace(go.Scatter(\n",
    "    x=x, y=y1,\n",
    "    line_color='rgb(0,100,80)',\n",
    "    showlegend=False,\n",
    "))\n",
    "fig.update_traces(mode='lines')\n",
    "fig.update_layout(width=600, height=400)\n",
    "fig.update_xaxes(title_text='Recall')\n",
    "fig.update_yaxes(title_text='# of predictions')\n",
    "fig.show()"
   ]
  },
  {
   "cell_type": "code",
   "execution_count": 139,
   "metadata": {},
   "outputs": [
    {
     "data": {
      "text/plain": [
       "44"
      ]
     },
     "execution_count": 139,
     "metadata": {},
     "output_type": "execute_result"
    }
   ],
   "source": [
    "potentials = os.listdir('./NotebookData/preds_server/experiment_data_transf/predictions/')\n",
    "potentials = [x for x in potentials if (int(x.split('global-step_')[1].split('_')[0])>2500) and ('nbest_predictions' in x    )]\n",
    "len(potentials)"
   ]
  },
  {
   "cell_type": "markdown",
   "metadata": {},
   "source": [
    "### Multiple runs predictions\n",
    "\n",
    "Tried to do it based on multiple runs, but to plot the recall one would need to interpolate the values as they don't have the same x-axis thus the confidence intervals are used"
   ]
  },
  {
   "cell_type": "code",
   "execution_count": 152,
   "metadata": {},
   "outputs": [
    {
     "name": "stdout",
     "output_type": "stream",
     "text": [
      "Removing 2938 examples with empty answers\n"
     ]
    },
    {
     "name": "stderr",
     "output_type": "stream",
     "text": [
      "Calculating precisions:   9%|▉         | 4/44 [00:43<07:18, 10.96s/it]\n",
      "Calculating precisions:   9%|▉         | 4/44 [00:54<09:01, 13.54s/it]\n"
     ]
    }
   ],
   "source": [
    "gt_dict_extract_answers=True\n",
    "n_best_predictions_paths = ['./NotebookData/preds_server/experiment_data_transf/predictions/' + x for x in potentials]\n",
    "category = None\n",
    "from tqdm import tqdm\n",
    "\n",
    "# DF\n",
    "data = []\n",
    "for filtern in [\"No Ans\", None]:\n",
    "    with open ('../../data/test_full.json', 'r') as f:\n",
    "        gt_dict = json.load(f)\n",
    "    gt_dict = get_answers(gt_dict) if gt_dict_extract_answers else gt_dict\n",
    "    to_rm = []\n",
    "    if filtern == \"No Ans\":\n",
    "        to_rm = [k for k, v in gt_dict.items() if not v]\n",
    "        print(\"Removing {} examples with empty answers\".format(len(to_rm)))\n",
    "    elif filtern == \"Has Ans\":\n",
    "        to_rm = [k for k, v in gt_dict.items() if v]\n",
    "        print(\"Removing {} examples with answers\".format(len(to_rm)))\n",
    "\n",
    "    for idx, n_best_predictions_path in tqdm(enumerate(n_best_predictions_paths), total=len(n_best_predictions_paths), desc=\"Calculating precisions\"):\n",
    "        pred_dict = load_json(n_best_predictions_path)\n",
    "        # Remove examples\n",
    "        for k in to_rm:\n",
    "            gt_dict.pop(k, None)\n",
    "            pred_dict.pop(k, None)\n",
    "        assert sorted(list(pred_dict.keys())) == sorted(list(gt_dict.keys()))\n",
    "\n",
    "        precisions = []\n",
    "        recalls = []\n",
    "        ln = []\n",
    "        confs = []\n",
    "        for conf in list(np.arange(0.99, 0, -0.01)) + [0.001, 0]:\n",
    "            conf_thresh_pred_dict = get_preds(pred_dict, conf)\n",
    "            prec, recall = compute_precision_recall(\n",
    "                gt_dict, conf_thresh_pred_dict, category=category)\n",
    "            precisions.append(prec)\n",
    "            recalls.append(recall)\n",
    "            confs.append(conf)\n",
    "\n",
    "            mn = np.mean([len(x) for x in list(conf_thresh_pred_dict.values())])\n",
    "            std = np.std([len(x) for x in list(conf_thresh_pred_dict.values())])\n",
    "            ln.append((mn,std))\n",
    "\n",
    "        for p,r,c, l in zip(precisions, recalls, confs, ln):\n",
    "            # precision, recall, conf, mean, std, filter, n_best_pred_id, n_best_pred_path, unique_id\n",
    "            data.append([p,r,c,l[0],l[1],filtern, idx, n_best_predictions_path, str(filtern)+'_'+str(idx)])\n",
    "        if idx>3:\n",
    "            break"
   ]
  },
  {
   "cell_type": "code",
   "execution_count": 153,
   "metadata": {},
   "outputs": [
    {
     "data": {
      "text/plain": [
       "'None'"
      ]
     },
     "execution_count": 153,
     "metadata": {},
     "output_type": "execute_result"
    }
   ],
   "source": [
    "str(None)"
   ]
  },
  {
   "cell_type": "code",
   "execution_count": 154,
   "metadata": {},
   "outputs": [],
   "source": [
    "# Create dataframe from data\n",
    "import pandas as pd\n",
    "df = pd.DataFrame(data, columns=['precision', 'recall', 'conf', 'mean', 'std', 'filter', 'n_best_idx', 'n_best_pred_path', 'pred_combi_id'])"
   ]
  },
  {
   "cell_type": "code",
   "execution_count": 162,
   "metadata": {},
   "outputs": [
    {
     "data": {
      "text/html": [
       "<div>\n",
       "<style scoped>\n",
       "    .dataframe tbody tr th:only-of-type {\n",
       "        vertical-align: middle;\n",
       "    }\n",
       "\n",
       "    .dataframe tbody tr th {\n",
       "        vertical-align: top;\n",
       "    }\n",
       "\n",
       "    .dataframe thead th {\n",
       "        text-align: right;\n",
       "    }\n",
       "</style>\n",
       "<table border=\"1\" class=\"dataframe\">\n",
       "  <thead>\n",
       "    <tr style=\"text-align: right;\">\n",
       "      <th></th>\n",
       "      <th>precision</th>\n",
       "      <th>recall</th>\n",
       "      <th>conf</th>\n",
       "      <th>mean</th>\n",
       "      <th>std</th>\n",
       "      <th>filter</th>\n",
       "      <th>n_best_idx</th>\n",
       "      <th>n_best_pred_path</th>\n",
       "      <th>pred_combi_id</th>\n",
       "    </tr>\n",
       "  </thead>\n",
       "  <tbody>\n",
       "    <tr>\n",
       "      <th>0</th>\n",
       "      <td>0.971223</td>\n",
       "      <td>0.153235</td>\n",
       "      <td>0.990</td>\n",
       "      <td>0.334405</td>\n",
       "      <td>0.471782</td>\n",
       "      <td>No Ans</td>\n",
       "      <td>0</td>\n",
       "      <td>../../notebooks/NotebookData/preds_server/expe...</td>\n",
       "      <td>No Ans_0</td>\n",
       "    </tr>\n",
       "    <tr>\n",
       "      <th>1</th>\n",
       "      <td>0.969163</td>\n",
       "      <td>0.166477</td>\n",
       "      <td>0.980</td>\n",
       "      <td>0.364148</td>\n",
       "      <td>0.481190</td>\n",
       "      <td>No Ans</td>\n",
       "      <td>0</td>\n",
       "      <td>../../notebooks/NotebookData/preds_server/expe...</td>\n",
       "      <td>No Ans_0</td>\n",
       "    </tr>\n",
       "    <tr>\n",
       "      <th>2</th>\n",
       "      <td>0.962887</td>\n",
       "      <td>0.176693</td>\n",
       "      <td>0.970</td>\n",
       "      <td>0.388264</td>\n",
       "      <td>0.487355</td>\n",
       "      <td>No Ans</td>\n",
       "      <td>0</td>\n",
       "      <td>../../notebooks/NotebookData/preds_server/expe...</td>\n",
       "      <td>No Ans_0</td>\n",
       "    </tr>\n",
       "    <tr>\n",
       "      <th>3</th>\n",
       "      <td>0.960000</td>\n",
       "      <td>0.181612</td>\n",
       "      <td>0.960</td>\n",
       "      <td>0.400322</td>\n",
       "      <td>0.489963</td>\n",
       "      <td>No Ans</td>\n",
       "      <td>0</td>\n",
       "      <td>../../notebooks/NotebookData/preds_server/expe...</td>\n",
       "      <td>No Ans_0</td>\n",
       "    </tr>\n",
       "    <tr>\n",
       "      <th>4</th>\n",
       "      <td>0.958661</td>\n",
       "      <td>0.184260</td>\n",
       "      <td>0.950</td>\n",
       "      <td>0.406752</td>\n",
       "      <td>0.491228</td>\n",
       "      <td>No Ans</td>\n",
       "      <td>0</td>\n",
       "      <td>../../notebooks/NotebookData/preds_server/expe...</td>\n",
       "      <td>No Ans_0</td>\n",
       "    </tr>\n",
       "    <tr>\n",
       "      <th>...</th>\n",
       "      <td>...</td>\n",
       "      <td>...</td>\n",
       "      <td>...</td>\n",
       "      <td>...</td>\n",
       "      <td>...</td>\n",
       "      <td>...</td>\n",
       "      <td>...</td>\n",
       "      <td>...</td>\n",
       "      <td>...</td>\n",
       "    </tr>\n",
       "    <tr>\n",
       "      <th>1005</th>\n",
       "      <td>0.420180</td>\n",
       "      <td>0.795687</td>\n",
       "      <td>0.030</td>\n",
       "      <td>1.500956</td>\n",
       "      <td>2.639666</td>\n",
       "      <td>No filter</td>\n",
       "      <td>4</td>\n",
       "      <td>../../notebooks/NotebookData/preds_server/expe...</td>\n",
       "      <td>None_4</td>\n",
       "    </tr>\n",
       "    <tr>\n",
       "      <th>1006</th>\n",
       "      <td>0.398105</td>\n",
       "      <td>0.810821</td>\n",
       "      <td>0.020</td>\n",
       "      <td>1.628886</td>\n",
       "      <td>2.890230</td>\n",
       "      <td>No filter</td>\n",
       "      <td>4</td>\n",
       "      <td>../../notebooks/NotebookData/preds_server/expe...</td>\n",
       "      <td>None_4</td>\n",
       "    </tr>\n",
       "    <tr>\n",
       "      <th>1007</th>\n",
       "      <td>0.363199</td>\n",
       "      <td>0.828226</td>\n",
       "      <td>0.010</td>\n",
       "      <td>1.834290</td>\n",
       "      <td>3.238273</td>\n",
       "      <td>No filter</td>\n",
       "      <td>4</td>\n",
       "      <td>../../notebooks/NotebookData/preds_server/expe...</td>\n",
       "      <td>None_4</td>\n",
       "    </tr>\n",
       "    <tr>\n",
       "      <th>1008</th>\n",
       "      <td>0.258825</td>\n",
       "      <td>0.860008</td>\n",
       "      <td>0.001</td>\n",
       "      <td>2.664036</td>\n",
       "      <td>4.324725</td>\n",
       "      <td>No filter</td>\n",
       "      <td>4</td>\n",
       "      <td>../../notebooks/NotebookData/preds_server/expe...</td>\n",
       "      <td>None_4</td>\n",
       "    </tr>\n",
       "    <tr>\n",
       "      <th>1009</th>\n",
       "      <td>0.035841</td>\n",
       "      <td>0.897087</td>\n",
       "      <td>0.000</td>\n",
       "      <td>18.125777</td>\n",
       "      <td>4.092248</td>\n",
       "      <td>No filter</td>\n",
       "      <td>4</td>\n",
       "      <td>../../notebooks/NotebookData/preds_server/expe...</td>\n",
       "      <td>None_4</td>\n",
       "    </tr>\n",
       "  </tbody>\n",
       "</table>\n",
       "<p>1010 rows × 9 columns</p>\n",
       "</div>"
      ],
      "text/plain": [
       "      precision    recall   conf       mean       std     filter  n_best_idx  \\\n",
       "0      0.971223  0.153235  0.990   0.334405  0.471782     No Ans           0   \n",
       "1      0.969163  0.166477  0.980   0.364148  0.481190     No Ans           0   \n",
       "2      0.962887  0.176693  0.970   0.388264  0.487355     No Ans           0   \n",
       "3      0.960000  0.181612  0.960   0.400322  0.489963     No Ans           0   \n",
       "4      0.958661  0.184260  0.950   0.406752  0.491228     No Ans           0   \n",
       "...         ...       ...    ...        ...       ...        ...         ...   \n",
       "1005   0.420180  0.795687  0.030   1.500956  2.639666  No filter           4   \n",
       "1006   0.398105  0.810821  0.020   1.628886  2.890230  No filter           4   \n",
       "1007   0.363199  0.828226  0.010   1.834290  3.238273  No filter           4   \n",
       "1008   0.258825  0.860008  0.001   2.664036  4.324725  No filter           4   \n",
       "1009   0.035841  0.897087  0.000  18.125777  4.092248  No filter           4   \n",
       "\n",
       "                                       n_best_pred_path pred_combi_id  \n",
       "0     ../../notebooks/NotebookData/preds_server/expe...      No Ans_0  \n",
       "1     ../../notebooks/NotebookData/preds_server/expe...      No Ans_0  \n",
       "2     ../../notebooks/NotebookData/preds_server/expe...      No Ans_0  \n",
       "3     ../../notebooks/NotebookData/preds_server/expe...      No Ans_0  \n",
       "4     ../../notebooks/NotebookData/preds_server/expe...      No Ans_0  \n",
       "...                                                 ...           ...  \n",
       "1005  ../../notebooks/NotebookData/preds_server/expe...        None_4  \n",
       "1006  ../../notebooks/NotebookData/preds_server/expe...        None_4  \n",
       "1007  ../../notebooks/NotebookData/preds_server/expe...        None_4  \n",
       "1008  ../../notebooks/NotebookData/preds_server/expe...        None_4  \n",
       "1009  ../../notebooks/NotebookData/preds_server/expe...        None_4  \n",
       "\n",
       "[1010 rows x 9 columns]"
      ]
     },
     "execution_count": 162,
     "metadata": {},
     "output_type": "execute_result"
    }
   ],
   "source": [
    "def none_fix(x):\n",
    "    if x==None:\n",
    "        return \"No filter\"\n",
    "    return x\n",
    "df['filter'] = df.apply(lambda x: none_fix(x['filter']), axis=1)\n",
    "df.to_csv('data_model_prec_recall.csv')\n"
   ]
  },
  {
   "cell_type": "code",
   "execution_count": 163,
   "metadata": {},
   "outputs": [],
   "source": [
    "df_1 = df[df['filter']==\"No Ans\"]\n",
    "df_2 = df[df['filter']!=\"No Ans\"]"
   ]
  },
  {
   "cell_type": "code",
   "execution_count": 165,
   "metadata": {},
   "outputs": [],
   "source": [
    "df_g = df.groupby(['filter','conf']).agg({'mean':'mean', 'recall':'mean','std':'mean','precision':'count'})"
   ]
  },
  {
   "cell_type": "code",
   "execution_count": 172,
   "metadata": {},
   "outputs": [],
   "source": [
    "df_g.reset_index(inplace=True)"
   ]
  },
  {
   "cell_type": "code",
   "execution_count": 185,
   "metadata": {},
   "outputs": [
    {
     "data": {
      "application/vnd.plotly.v1+json": {
       "config": {
        "plotlyServerURL": "https://plot.ly"
       },
       "data": [
        {
         "fill": "toself",
         "fillcolor": "rgba(0,100,80,0.2)",
         "line": {
          "color": "rgba(255,255,255,0)"
         },
         "mode": "lines",
         "name": "Fair",
         "showlegend": false,
         "type": "scatter",
         "x": [
          0,
          0.001,
          0.00999999999999912,
          0.01999999999999913,
          0.02999999999999914,
          0.03999999999999915,
          0.049999999999999156,
          0.059999999999999165,
          0.06999999999999917,
          0.07999999999999918,
          0.08999999999999919,
          0.0999999999999992,
          0.10999999999999921,
          0.11999999999999922,
          0.12999999999999923,
          0.13999999999999924,
          0.14999999999999925,
          0.15999999999999925,
          0.16999999999999926,
          0.17999999999999927,
          0.18999999999999928,
          0.1999999999999993,
          0.2099999999999993,
          0.2199999999999993,
          0.22999999999999932,
          0.23999999999999932,
          0.24999999999999933,
          0.25999999999999934,
          0.26999999999999935,
          0.27999999999999936,
          0.28999999999999937,
          0.2999999999999994,
          0.3099999999999994,
          0.3199999999999994,
          0.3299999999999994,
          0.3399999999999994,
          0.3499999999999994,
          0.35999999999999943,
          0.36999999999999944,
          0.37999999999999945,
          0.38999999999999946,
          0.39999999999999947,
          0.4099999999999995,
          0.4199999999999995,
          0.4299999999999995,
          0.4399999999999995,
          0.4499999999999995,
          0.4599999999999995,
          0.46999999999999953,
          0.47999999999999954,
          0.48999999999999955,
          0.49999999999999956,
          0.5099999999999996,
          0.5199999999999996,
          0.5299999999999996,
          0.5399999999999996,
          0.5499999999999996,
          0.5599999999999996,
          0.5699999999999996,
          0.5799999999999996,
          0.5899999999999996,
          0.5999999999999996,
          0.6099999999999997,
          0.6199999999999997,
          0.6299999999999997,
          0.6399999999999997,
          0.6499999999999997,
          0.6599999999999997,
          0.6699999999999997,
          0.6799999999999997,
          0.6899999999999997,
          0.6999999999999997,
          0.7099999999999997,
          0.7199999999999998,
          0.7299999999999998,
          0.7399999999999998,
          0.7499999999999998,
          0.7599999999999998,
          0.7699999999999998,
          0.7799999999999998,
          0.7899999999999998,
          0.7999999999999998,
          0.8099999999999998,
          0.8199999999999998,
          0.8299999999999998,
          0.8399999999999999,
          0.8499999999999999,
          0.8599999999999999,
          0.8699999999999999,
          0.8799999999999999,
          0.8899999999999999,
          0.8999999999999999,
          0.9099999999999999,
          0.9199999999999999,
          0.9299999999999999,
          0.94,
          0.95,
          0.96,
          0.97,
          0.98,
          0.99,
          0.99,
          0.98,
          0.97,
          0.96,
          0.95,
          0.94,
          0.9299999999999999,
          0.9199999999999999,
          0.9099999999999999,
          0.8999999999999999,
          0.8899999999999999,
          0.8799999999999999,
          0.8699999999999999,
          0.8599999999999999,
          0.8499999999999999,
          0.8399999999999999,
          0.8299999999999998,
          0.8199999999999998,
          0.8099999999999998,
          0.7999999999999998,
          0.7899999999999998,
          0.7799999999999998,
          0.7699999999999998,
          0.7599999999999998,
          0.7499999999999998,
          0.7399999999999998,
          0.7299999999999998,
          0.7199999999999998,
          0.7099999999999997,
          0.6999999999999997,
          0.6899999999999997,
          0.6799999999999997,
          0.6699999999999997,
          0.6599999999999997,
          0.6499999999999997,
          0.6399999999999997,
          0.6299999999999997,
          0.6199999999999997,
          0.6099999999999997,
          0.5999999999999996,
          0.5899999999999996,
          0.5799999999999996,
          0.5699999999999996,
          0.5599999999999996,
          0.5499999999999996,
          0.5399999999999996,
          0.5299999999999996,
          0.5199999999999996,
          0.5099999999999996,
          0.49999999999999956,
          0.48999999999999955,
          0.47999999999999954,
          0.46999999999999953,
          0.4599999999999995,
          0.4499999999999995,
          0.4399999999999995,
          0.4299999999999995,
          0.4199999999999995,
          0.4099999999999995,
          0.39999999999999947,
          0.38999999999999946,
          0.37999999999999945,
          0.36999999999999944,
          0.35999999999999943,
          0.3499999999999994,
          0.3399999999999994,
          0.3299999999999994,
          0.3199999999999994,
          0.3099999999999994,
          0.2999999999999994,
          0.28999999999999937,
          0.27999999999999936,
          0.26999999999999935,
          0.25999999999999934,
          0.24999999999999933,
          0.23999999999999932,
          0.22999999999999932,
          0.2199999999999993,
          0.2099999999999993,
          0.1999999999999993,
          0.18999999999999928,
          0.17999999999999927,
          0.16999999999999926,
          0.15999999999999925,
          0.14999999999999925,
          0.13999999999999924,
          0.12999999999999923,
          0.11999999999999922,
          0.10999999999999921,
          0.0999999999999992,
          0.08999999999999919,
          0.07999999999999918,
          0.06999999999999917,
          0.059999999999999165,
          0.049999999999999156,
          0.03999999999999915,
          0.02999999999999914,
          0.01999999999999913,
          0.00999999999999912,
          0.001,
          0
         ],
         "y": [
          20.105595840392628,
          11.028385025074748,
          8.512508309362493,
          7.693354380283967,
          7.111927897457443,
          6.467883958710139,
          5.402307720072309,
          4.742688845568814,
          4.296939394283305,
          3.9606900289417606,
          3.675694176908881,
          3.361692499011543,
          3.1118852373775465,
          2.9338546991245664,
          2.7854559739470206,
          2.6589212763150876,
          2.5198592970506946,
          2.3944338730592136,
          2.2785890236809,
          2.1971496518901894,
          2.1170491541796324,
          2.049994948830367,
          1.990131162296069,
          1.9334991216289001,
          1.887415014926959,
          1.8394700799249648,
          1.7900218787906192,
          1.7417298014733633,
          1.6972340809865174,
          1.6566155822393258,
          1.6108957858617232,
          1.5701478616431075,
          1.526484528175866,
          1.4818320609926485,
          1.432803136118201,
          1.3929116434907467,
          1.3599350992475658,
          1.3316391643833003,
          1.3099979637107524,
          1.2872957067163355,
          1.2737768291698057,
          1.259017370355648,
          1.244609278419175,
          1.2276733859544253,
          1.2148198543727453,
          1.2027580148610062,
          1.1919256719336446,
          1.1791251890867398,
          1.1641680156495686,
          1.1539657116853466,
          1.142417803573852,
          1.1306068963168907,
          1.1245620841335784,
          1.1194877671892862,
          1.1148674575581827,
          1.1080662778289943,
          1.103690686031408,
          1.0985777570686583,
          1.093409998167824,
          1.0876627341827338,
          1.0826273660918813,
          1.0767619332057272,
          1.0701441073157736,
          1.065209885152246,
          1.0589749015881695,
          1.0541590144718884,
          1.0488517985777195,
          1.0423197694182234,
          1.038099430907538,
          1.031805406731867,
          1.0272086998605263,
          1.0219433200916828,
          1.0160620933975257,
          1.010426560290682,
          1.0033262191909176,
          0.9988214102077166,
          0.9922778035775729,
          0.987082740612867,
          0.980717650100223,
          0.9760567345924615,
          0.9706393667066564,
          0.9661536291156618,
          0.9599991554591232,
          0.9540722561461135,
          0.9485588682219153,
          0.9445777266273717,
          0.9382624553521193,
          0.9334195084111636,
          0.9250368270677609,
          0.9195293722702675,
          0.9143556127915236,
          0.9085514186197382,
          0.9008484254970861,
          0.8935990513066363,
          0.8846380889128603,
          0.8764008659917026,
          0.8646706658926829,
          0.8493335469552186,
          0.832141497439798,
          0.8075081318788138,
          0.767489883447956,
          -0.14980499598814906,
          -0.1325885177309038,
          -0.12024439133047332,
          -0.11106988136036322,
          -0.10229124467081796,
          -0.09505038367658997,
          -0.08978278344662238,
          -0.0839527490558325,
          -0.07898347372859732,
          -0.07382473051684435,
          -0.06933953562110556,
          -0.06551007966576589,
          -0.06137123221245555,
          -0.054962916771292114,
          -0.051445735094884426,
          -0.046506987077532536,
          -0.0430926302797931,
          -0.03863817254482732,
          -0.03363259597359258,
          -0.028211506929166574,
          -0.024015572494437754,
          -0.01914355131271861,
          -0.014801251386396597,
          -0.008947692381355843,
          -0.0038533662785374956,
          0.0024647634257239925,
          0.006963169876606445,
          0.01401073874468789,
          0.01995076833880871,
          0.02628819116233655,
          0.032276830686097324,
          0.03764796947392085,
          0.044537225041015094,
          0.049641645372773546,
          0.05757906958948322,
          0.06416895980463899,
          0.07028554857260205,
          0.0785200183847316,
          0.08516135892216864,
          0.09397761663350102,
          0.10193855030683252,
          0.10944337514202501,
          0.11816556453314053,
          0.12650262878343171,
          0.13457297956344727,
          0.14177295046682575,
          0.1529782016058046,
          0.16121962830910613,
          0.17061476474101972,
          0.18257638342587446,
          0.189736537262161,
          0.19394425616031274,
          0.20110529624753748,
          0.20576227072033415,
          0.21161130555831698,
          0.21878539349912246,
          0.22633770189735114,
          0.23341986163399903,
          0.24059972479625913,
          0.2512720187118761,
          0.25805596825784716,
          0.26704512929652624,
          0.278748016996643,
          0.28958270056846824,
          0.30694592969134094,
          0.32413015715234017,
          0.33793641372102745,
          0.3416406078176407,
          0.34618428211352303,
          0.3520386335337412,
          0.35887913375242486,
          0.3678217167960438,
          0.3796147936115536,
          0.3875306486874084,
          0.397437928283336,
          0.4058675406538135,
          0.41772967960680274,
          0.43080956004312554,
          0.4407370049065036,
          0.4519343116197938,
          0.4655875017689204,
          0.4861300908750835,
          0.5085492399846945,
          0.5161770594166707,
          0.5174397383190803,
          0.5169629680579026,
          0.5245118717121433,
          0.5333478732227008,
          0.5318446661594312,
          0.5270534816958532,
          0.47800357228726087,
          0.44895627330904353,
          0.4348934031443479,
          0.38946549526719787,
          0.28032893587624397,
          -0.13862350854936745,
          -0.2784873829879899,
          -0.3274379815701418,
          -0.3179745473046154,
          0.11052172733682752,
          19.183793227131485
         ]
        },
        {
         "fill": "toself",
         "fillcolor": "rgba(0,176,246,0.2)",
         "line": {
          "color": "rgba(255,255,255,0)"
         },
         "mode": "lines",
         "name": "Premium",
         "showlegend": false,
         "type": "scatter",
         "x": [
          0,
          0.001,
          0.00999999999999912,
          0.01999999999999913,
          0.02999999999999914,
          0.03999999999999915,
          0.049999999999999156,
          0.059999999999999165,
          0.06999999999999917,
          0.07999999999999918,
          0.08999999999999919,
          0.0999999999999992,
          0.10999999999999921,
          0.11999999999999922,
          0.12999999999999923,
          0.13999999999999924,
          0.14999999999999925,
          0.15999999999999925,
          0.16999999999999926,
          0.17999999999999927,
          0.18999999999999928,
          0.1999999999999993,
          0.2099999999999993,
          0.2199999999999993,
          0.22999999999999932,
          0.23999999999999932,
          0.24999999999999933,
          0.25999999999999934,
          0.26999999999999935,
          0.27999999999999936,
          0.28999999999999937,
          0.2999999999999994,
          0.3099999999999994,
          0.3199999999999994,
          0.3299999999999994,
          0.3399999999999994,
          0.3499999999999994,
          0.35999999999999943,
          0.36999999999999944,
          0.37999999999999945,
          0.38999999999999946,
          0.39999999999999947,
          0.4099999999999995,
          0.4199999999999995,
          0.4299999999999995,
          0.4399999999999995,
          0.4499999999999995,
          0.4599999999999995,
          0.46999999999999953,
          0.47999999999999954,
          0.48999999999999955,
          0.49999999999999956,
          0.5099999999999996,
          0.5199999999999996,
          0.5299999999999996,
          0.5399999999999996,
          0.5499999999999996,
          0.5599999999999996,
          0.5699999999999996,
          0.5799999999999996,
          0.5899999999999996,
          0.5999999999999996,
          0.6099999999999997,
          0.6199999999999997,
          0.6299999999999997,
          0.6399999999999997,
          0.6499999999999997,
          0.6599999999999997,
          0.6699999999999997,
          0.6799999999999997,
          0.6899999999999997,
          0.6999999999999997,
          0.7099999999999997,
          0.7199999999999998,
          0.7299999999999998,
          0.7399999999999998,
          0.7499999999999998,
          0.7599999999999998,
          0.7699999999999998,
          0.7799999999999998,
          0.7899999999999998,
          0.7999999999999998,
          0.8099999999999998,
          0.8199999999999998,
          0.8299999999999998,
          0.8399999999999999,
          0.8499999999999999,
          0.8599999999999999,
          0.8699999999999999,
          0.8799999999999999,
          0.8899999999999999,
          0.8999999999999999,
          0.9099999999999999,
          0.9199999999999999,
          0.9299999999999999,
          0.94,
          0.95,
          0.96,
          0.97,
          0.98,
          0.99,
          0.99,
          0.98,
          0.97,
          0.96,
          0.95,
          0.94,
          0.9299999999999999,
          0.9199999999999999,
          0.9099999999999999,
          0.8999999999999999,
          0.8899999999999999,
          0.8799999999999999,
          0.8699999999999999,
          0.8599999999999999,
          0.8499999999999999,
          0.8399999999999999,
          0.8299999999999998,
          0.8199999999999998,
          0.8099999999999998,
          0.7999999999999998,
          0.7899999999999998,
          0.7799999999999998,
          0.7699999999999998,
          0.7599999999999998,
          0.7499999999999998,
          0.7399999999999998,
          0.7299999999999998,
          0.7199999999999998,
          0.7099999999999997,
          0.6999999999999997,
          0.6899999999999997,
          0.6799999999999997,
          0.6699999999999997,
          0.6599999999999997,
          0.6499999999999997,
          0.6399999999999997,
          0.6299999999999997,
          0.6199999999999997,
          0.6099999999999997,
          0.5999999999999996,
          0.5899999999999996,
          0.5799999999999996,
          0.5699999999999996,
          0.5599999999999996,
          0.5499999999999996,
          0.5399999999999996,
          0.5299999999999996,
          0.5199999999999996,
          0.5099999999999996,
          0.49999999999999956,
          0.48999999999999955,
          0.47999999999999954,
          0.46999999999999953,
          0.4599999999999995,
          0.4499999999999995,
          0.4399999999999995,
          0.4299999999999995,
          0.4199999999999995,
          0.4099999999999995,
          0.39999999999999947,
          0.38999999999999946,
          0.37999999999999945,
          0.36999999999999944,
          0.35999999999999943,
          0.3499999999999994,
          0.3399999999999994,
          0.3299999999999994,
          0.3199999999999994,
          0.3099999999999994,
          0.2999999999999994,
          0.28999999999999937,
          0.27999999999999936,
          0.26999999999999935,
          0.25999999999999934,
          0.24999999999999933,
          0.23999999999999932,
          0.22999999999999932,
          0.2199999999999993,
          0.2099999999999993,
          0.1999999999999993,
          0.18999999999999928,
          0.17999999999999927,
          0.16999999999999926,
          0.15999999999999925,
          0.14999999999999925,
          0.13999999999999924,
          0.12999999999999923,
          0.11999999999999922,
          0.10999999999999921,
          0.0999999999999992,
          0.08999999999999919,
          0.07999999999999918,
          0.06999999999999917,
          0.059999999999999165,
          0.049999999999999156,
          0.03999999999999915,
          0.02999999999999914,
          0.01999999999999913,
          0.00999999999999912,
          0.001,
          0
         ],
         "y": [
          15.562487399002503,
          -1.6500589641290855,
          -1.429221927792701,
          -1.3100021271443354,
          -1.20361015852944,
          -1.0624753303742938,
          -0.7827077958484971,
          -0.6480254041223106,
          -0.5656925134945845,
          -0.5077440362187154,
          -0.45649536175044025,
          -0.39789896813495396,
          -0.3569333689876606,
          -0.3291647113561823,
          -0.3069951230629646,
          -0.28960979441507284,
          -0.2689390633709944,
          -0.251347410454283,
          -0.23589066499112987,
          -0.2279198247276475,
          -0.22052774915856377,
          -0.21338844180712402,
          -0.20719277309873585,
          -0.2011414106907109,
          -0.19709649868889645,
          -0.19193591147882294,
          -0.18674524452185792,
          -0.18098901853913907,
          -0.1764933776412912,
          -0.17316727956225575,
          -0.16838814718411654,
          -0.16334297166768347,
          -0.15832506979927247,
          -0.15259195627503686,
          -0.14569292668327616,
          -0.14321651365932037,
          -0.14267234905974474,
          -0.1427213447620258,
          -0.14240143976862124,
          -0.14196128621400622,
          -0.14268836557933168,
          -0.14297782492920408,
          -0.14356771201481439,
          -0.14337932540301102,
          -0.14407895234871398,
          -0.1447066021487895,
          -0.1449537158508563,
          -0.14510496954362512,
          -0.14488457621688944,
          -0.14537606324561103,
          -0.14548082785256788,
          -0.14635828794731848,
          -0.14899544501990059,
          -0.15122755762344986,
          -0.1529192788288321,
          -0.1552232906347451,
          -0.156977408311537,
          -0.1587315896023242,
          -0.1606800795455618,
          -0.16252056557607558,
          -0.1643893309600083,
          -0.16610575351604084,
          -0.16797445458722204,
          -0.16953159990129396,
          -0.17140771198436178,
          -0.17257655785444276,
          -0.1738651890350722,
          -0.17561422764040274,
          -0.1768094674432482,
          -0.17831541664943346,
          -0.17948365334561706,
          -0.18077706568112106,
          -0.18209279968161557,
          -0.18337700291902867,
          -0.18473053881243467,
          -0.18576184438056068,
          -0.18700371467404958,
          -0.1878959828591138,
          -0.18900890509376306,
          -0.19004173905591415,
          -0.19092452654585346,
          -0.19183218673661104,
          -0.19290247077721154,
          -0.1939575919651271,
          -0.19485339934820428,
          -0.19564429712817802,
          -0.19646720284846875,
          -0.1973203794141941,
          -0.19843302263441204,
          -0.1992347796128528,
          -0.20010788986748457,
          -0.2009831801799901,
          -0.20172211904109227,
          -0.20255699521693912,
          -0.20331913328375986,
          -0.2038981506588579,
          -0.2046977960524829,
          -0.20533357715948702,
          -0.20584796128016258,
          -0.20592881756620865,
          -0.20457810573056462,
          0.46215821094338144,
          0.49641184004349226,
          0.5188082673538116,
          0.5346496938500658,
          0.5480741709927028,
          0.5586566394202162,
          0.5654425192235016,
          0.5738625906258343,
          0.5813490917814079,
          0.5879750500986893,
          0.5952298410869967,
          0.6015303319801413,
          0.6067543999658325,
          0.6139631340770348,
          0.6193270785060488,
          0.6240517576733717,
          0.6284258527197968,
          0.6332689262549406,
          0.6389091661382827,
          0.6441516511077253,
          0.6483133357280629,
          0.6524998930492188,
          0.6571102919899849,
          0.661927546704164,
          0.6656263832536766,
          0.6707929299855344,
          0.6750222652591109,
          0.680268442421659,
          0.6851057121636817,
          0.6899114511426228,
          0.6944525677406432,
          0.6984493238708587,
          0.703638735735931,
          0.7076084887594845,
          0.7132243473325375,
          0.7172920050089142,
          0.7209055599040175,
          0.7264899930146368,
          0.7309586726646969,
          0.7362635727412918,
          0.7409555672106061,
          0.7460691069438423,
          0.7509239819845861,
          0.7558621491432138,
          0.7604207368624696,
          0.7646924441498097,
          0.7702315695987987,
          0.7741830812963336,
          0.7794115138864717,
          0.7854783262065246,
          0.7935917795503201,
          0.8015214482288726,
          0.8089687464703567,
          0.81770181315912,
          0.8270197129814159,
          0.8358591607331989,
          0.844987608494099,
          0.8543310231552826,
          0.8646580993892763,
          0.8761198622319301,
          0.8869255726572849,
          0.8978675511590086,
          0.9130374990703907,
          0.9280871984205624,
          0.9468808617331068,
          0.9710500861126918,
          0.998108039069694,
          1.028440832410857,
          1.0564599335008507,
          1.0827116947666793,
          1.1086081376193149,
          1.1368210337468563,
          1.1622418233610425,
          1.1898842839623818,
          1.2196481617863246,
          1.2511420329518024,
          1.2824145283397814,
          1.3112322763052493,
          1.3447346191054312,
          1.3788595082824946,
          1.4191886769443123,
          1.464553014588958,
          1.5130786133412015,
          1.575115942257248,
          1.6418706750400522,
          1.7177303109143556,
          1.7869568638568432,
          1.871393310112758,
          1.9660199304415102,
          2.0961294798518355,
          2.2488435205261457,
          2.3950706741909777,
          2.5739182428107013,
          2.8005839885316837,
          3.127901483079487,
          3.6366503662422995,
          3.97711565829032,
          4.31296721561875,
          4.816692037787918,
          6.68133586513339,
          21.448703418788032
         ]
        },
        {
         "line": {
          "color": "rgb(0,100,80)"
         },
         "mode": "lines",
         "name": "Fair",
         "type": "scatter",
         "x": [
          0,
          0.001,
          0.00999999999999912,
          0.01999999999999913,
          0.02999999999999914,
          0.03999999999999915,
          0.049999999999999156,
          0.059999999999999165,
          0.06999999999999917,
          0.07999999999999918,
          0.08999999999999919,
          0.0999999999999992,
          0.10999999999999921,
          0.11999999999999922,
          0.12999999999999923,
          0.13999999999999924,
          0.14999999999999925,
          0.15999999999999925,
          0.16999999999999926,
          0.17999999999999927,
          0.18999999999999928,
          0.1999999999999993,
          0.2099999999999993,
          0.2199999999999993,
          0.22999999999999932,
          0.23999999999999932,
          0.24999999999999933,
          0.25999999999999934,
          0.26999999999999935,
          0.27999999999999936,
          0.28999999999999937,
          0.2999999999999994,
          0.3099999999999994,
          0.3199999999999994,
          0.3299999999999994,
          0.3399999999999994,
          0.3499999999999994,
          0.35999999999999943,
          0.36999999999999944,
          0.37999999999999945,
          0.38999999999999946,
          0.39999999999999947,
          0.4099999999999995,
          0.4199999999999995,
          0.4299999999999995,
          0.4399999999999995,
          0.4499999999999995,
          0.4599999999999995,
          0.46999999999999953,
          0.47999999999999954,
          0.48999999999999955,
          0.49999999999999956,
          0.5099999999999996,
          0.5199999999999996,
          0.5299999999999996,
          0.5399999999999996,
          0.5499999999999996,
          0.5599999999999996,
          0.5699999999999996,
          0.5799999999999996,
          0.5899999999999996,
          0.5999999999999996,
          0.6099999999999997,
          0.6199999999999997,
          0.6299999999999997,
          0.6399999999999997,
          0.6499999999999997,
          0.6599999999999997,
          0.6699999999999997,
          0.6799999999999997,
          0.6899999999999997,
          0.6999999999999997,
          0.7099999999999997,
          0.7199999999999998,
          0.7299999999999998,
          0.7399999999999998,
          0.7499999999999998,
          0.7599999999999998,
          0.7699999999999998,
          0.7799999999999998,
          0.7899999999999998,
          0.7999999999999998,
          0.8099999999999998,
          0.8199999999999998,
          0.8299999999999998,
          0.8399999999999999,
          0.8499999999999999,
          0.8599999999999999,
          0.8699999999999999,
          0.8799999999999999,
          0.8899999999999999,
          0.8999999999999999,
          0.9099999999999999,
          0.9199999999999999,
          0.9299999999999999,
          0.94,
          0.95,
          0.96,
          0.97,
          0.98,
          0.99
         ],
         "y": [
          19.644694533762056,
          5.569453376205788,
          4.097266881028939,
          3.682958199356913,
          3.4167202572347266,
          3.1646302250803857,
          2.8413183279742764,
          2.5660771704180063,
          2.3659163987138263,
          2.204823151125402,
          2.076848874598071,
          1.944372990353698,
          1.8218649517684888,
          1.7336012861736336,
          1.654983922829582,
          1.587942122186495,
          1.5186495176848873,
          1.455305466237942,
          1.3935691318327974,
          1.3416398713826365,
          1.2913183279742764,
          1.2509646302250803,
          1.2154340836012862,
          1.182154340836013,
          1.152572347266881,
          1.1226688102893891,
          1.0937299035369776,
          1.0646302250803859,
          1.0384244372990354,
          1.0122186495176848,
          0.984887459807074,
          0.9610932475884244,
          0.9363344051446946,
          0.9117363344051446,
          0.8853697749196142,
          0.8585209003215434,
          0.8334405144694534,
          0.8106109324758842,
          0.7943729903536977,
          0.7771704180064309,
          0.7659163987138264,
          0.755144694533762,
          0.742604501607717,
          0.7305466237942122,
          0.7205787781350482,
          0.7107717041800643,
          0.7017684887459807,
          0.692443729903537,
          0.682636655948553,
          0.6739549839228296,
          0.6660771704180064,
          0.6565916398713826,
          0.647588424437299,
          0.6403536977491961,
          0.6339228295819936,
          0.62491961414791,
          0.6191318327974276,
          0.612540192926045,
          0.6057877813504823,
          0.5985530546623794,
          0.592282958199357,
          0.5853697749196141,
          0.5776527331189711,
          0.5718649517684888,
          0.5646302250803859,
          0.5591639871382637,
          0.5532154340836013,
          0.5459807073954984,
          0.5413183279742765,
          0.5347266881028939,
          0.5297427652733118,
          0.5241157556270096,
          0.5180064308681672,
          0.5122186495176849,
          0.505144694533762,
          0.5006430868167203,
          0.4942122186495177,
          0.4890675241157556,
          0.4829581993569132,
          0.4784565916398714,
          0.4733118971061093,
          0.4689710610932476,
          0.4631832797427653,
          0.4577170418006431,
          0.4527331189710611,
          0.4490353697749196,
          0.4434083601286174,
          0.4392282958199357,
          0.4318327974276527,
          0.4270096463022508,
          0.422508038585209,
          0.4173633440514469,
          0.4109324758842444,
          0.4048231511254019,
          0.397427652733119,
          0.3906752411575563,
          0.3811897106109325,
          0.3691318327974277,
          0.3559485530546624,
          0.337459807073955,
          0.3088424437299035
         ]
        },
        {
         "line": {
          "color": "rgb(0,176,246)"
         },
         "mode": "lines",
         "name": "Premium",
         "type": "scatter",
         "x": [
          0,
          0.001,
          0.00999999999999912,
          0.01999999999999913,
          0.02999999999999914,
          0.03999999999999915,
          0.049999999999999156,
          0.059999999999999165,
          0.06999999999999917,
          0.07999999999999918,
          0.08999999999999919,
          0.0999999999999992,
          0.10999999999999921,
          0.11999999999999922,
          0.12999999999999923,
          0.13999999999999924,
          0.14999999999999925,
          0.15999999999999925,
          0.16999999999999926,
          0.17999999999999927,
          0.18999999999999928,
          0.1999999999999993,
          0.2099999999999993,
          0.2199999999999993,
          0.22999999999999932,
          0.23999999999999932,
          0.24999999999999933,
          0.25999999999999934,
          0.26999999999999935,
          0.27999999999999936,
          0.28999999999999937,
          0.2999999999999994,
          0.3099999999999994,
          0.3199999999999994,
          0.3299999999999994,
          0.3399999999999994,
          0.3499999999999994,
          0.35999999999999943,
          0.36999999999999944,
          0.37999999999999945,
          0.38999999999999946,
          0.39999999999999947,
          0.4099999999999995,
          0.4199999999999995,
          0.4299999999999995,
          0.4399999999999995,
          0.4499999999999995,
          0.4599999999999995,
          0.46999999999999953,
          0.47999999999999954,
          0.48999999999999955,
          0.49999999999999956,
          0.5099999999999996,
          0.5199999999999996,
          0.5299999999999996,
          0.5399999999999996,
          0.5499999999999996,
          0.5599999999999996,
          0.5699999999999996,
          0.5799999999999996,
          0.5899999999999996,
          0.5999999999999996,
          0.6099999999999997,
          0.6199999999999997,
          0.6299999999999997,
          0.6399999999999997,
          0.6499999999999997,
          0.6599999999999997,
          0.6699999999999997,
          0.6799999999999997,
          0.6899999999999997,
          0.6999999999999997,
          0.7099999999999997,
          0.7199999999999998,
          0.7299999999999998,
          0.7399999999999998,
          0.7499999999999998,
          0.7599999999999998,
          0.7699999999999998,
          0.7799999999999998,
          0.7899999999999998,
          0.7999999999999998,
          0.8099999999999998,
          0.8199999999999998,
          0.8299999999999998,
          0.8399999999999999,
          0.8499999999999999,
          0.8599999999999999,
          0.8699999999999999,
          0.8799999999999999,
          0.8899999999999999,
          0.8999999999999999,
          0.9099999999999999,
          0.9199999999999999,
          0.9299999999999999,
          0.94,
          0.95,
          0.96,
          0.97,
          0.98,
          0.99
         ],
         "y": [
          18.505595408895267,
          2.515638450502152,
          1.693735054997609,
          1.501482544237207,
          1.38675274988044,
          1.287087517934003,
          1.172596843615495,
          1.0762792922046867,
          1.0041128646580584,
          0.9436633189861311,
          0.8961740793878527,
          0.8491152558584408,
          0.8045432807269248,
          0.7711142993782879,
          0.7399808703969393,
          0.7140602582496414,
          0.6864658058345289,
          0.6618842659014825,
          0.6385939741750358,
          0.6183165949306553,
          0.5993304638928743,
          0.5827355332376853,
          0.5687709230033476,
          0.5550454328072693,
          0.5426590148254424,
          0.5296030607364897,
          0.5164514586322333,
          0.5044476327116213,
          0.49287422285987564,
          0.4818268770923003,
          0.4701099952175992,
          0.45968436154949793,
          0.44906743185078907,
          0.43792443806791004,
          0.42620755619320894,
          0.41391678622668576,
          0.40210425633668107,
          0.3926829268292683,
          0.38531802965088474,
          0.37795313247250123,
          0.3721186035389766,
          0.366571018651363,
          0.360545193687231,
          0.3554758488761358,
          0.3504543280726925,
          0.3455762792922047,
          0.34103299856527974,
          0.3362984218077475,
          0.3320420851267336,
          0.3280726924916308,
          0.3240554758488761,
          0.319560019129603,
          0.31520803443328554,
          0.3114777618364419,
          0.30865614538498326,
          0.3047345767575323,
          0.30172166427546626,
          0.2985652797704448,
          0.2951219512195122,
          0.29177427068388334,
          0.2882831181252989,
          0.2850789096126255,
          0.28149210903873745,
          0.2784791965566714,
          0.27474892395982786,
          0.27235772357723576,
          0.26967957914873264,
          0.2659971305595409,
          0.2634146341463414,
          0.2600669536107126,
          0.2574844571975131,
          0.25456719273075085,
          0.251506456241033,
          0.24844571975131516,
          0.24514586322333815,
          0.24251554280248686,
          0.2393113342898135,
          0.2370157819225251,
          0.23405069344811097,
          0.23122907699665235,
          0.22869440459110474,
          0.22615973218555716,
          0.22300334768053562,
          0.21965566714490672,
          0.21678622668579628,
          0.21420373027259684,
          0.21142993782879005,
          0.20832137733142037,
          0.2041606886657102,
          0.2011477761836442,
          0.1975609756097561,
          0.1934959349593496,
          0.18981348637015782,
          0.18565279770444762,
          0.18106169296987087,
          0.1773792443806791,
          0.17168818747011,
          0.16465805834528935,
          0.1564801530368245,
          0.1452415112386418,
          0.1287900526064084
         ]
        }
       ],
       "layout": {
        "template": {
         "data": {
          "bar": [
           {
            "error_x": {
             "color": "#2a3f5f"
            },
            "error_y": {
             "color": "#2a3f5f"
            },
            "marker": {
             "line": {
              "color": "#E5ECF6",
              "width": 0.5
             },
             "pattern": {
              "fillmode": "overlay",
              "size": 10,
              "solidity": 0.2
             }
            },
            "type": "bar"
           }
          ],
          "barpolar": [
           {
            "marker": {
             "line": {
              "color": "#E5ECF6",
              "width": 0.5
             },
             "pattern": {
              "fillmode": "overlay",
              "size": 10,
              "solidity": 0.2
             }
            },
            "type": "barpolar"
           }
          ],
          "carpet": [
           {
            "aaxis": {
             "endlinecolor": "#2a3f5f",
             "gridcolor": "white",
             "linecolor": "white",
             "minorgridcolor": "white",
             "startlinecolor": "#2a3f5f"
            },
            "baxis": {
             "endlinecolor": "#2a3f5f",
             "gridcolor": "white",
             "linecolor": "white",
             "minorgridcolor": "white",
             "startlinecolor": "#2a3f5f"
            },
            "type": "carpet"
           }
          ],
          "choropleth": [
           {
            "colorbar": {
             "outlinewidth": 0,
             "ticks": ""
            },
            "type": "choropleth"
           }
          ],
          "contour": [
           {
            "colorbar": {
             "outlinewidth": 0,
             "ticks": ""
            },
            "colorscale": [
             [
              0,
              "#0d0887"
             ],
             [
              0.1111111111111111,
              "#46039f"
             ],
             [
              0.2222222222222222,
              "#7201a8"
             ],
             [
              0.3333333333333333,
              "#9c179e"
             ],
             [
              0.4444444444444444,
              "#bd3786"
             ],
             [
              0.5555555555555556,
              "#d8576b"
             ],
             [
              0.6666666666666666,
              "#ed7953"
             ],
             [
              0.7777777777777778,
              "#fb9f3a"
             ],
             [
              0.8888888888888888,
              "#fdca26"
             ],
             [
              1,
              "#f0f921"
             ]
            ],
            "type": "contour"
           }
          ],
          "contourcarpet": [
           {
            "colorbar": {
             "outlinewidth": 0,
             "ticks": ""
            },
            "type": "contourcarpet"
           }
          ],
          "heatmap": [
           {
            "colorbar": {
             "outlinewidth": 0,
             "ticks": ""
            },
            "colorscale": [
             [
              0,
              "#0d0887"
             ],
             [
              0.1111111111111111,
              "#46039f"
             ],
             [
              0.2222222222222222,
              "#7201a8"
             ],
             [
              0.3333333333333333,
              "#9c179e"
             ],
             [
              0.4444444444444444,
              "#bd3786"
             ],
             [
              0.5555555555555556,
              "#d8576b"
             ],
             [
              0.6666666666666666,
              "#ed7953"
             ],
             [
              0.7777777777777778,
              "#fb9f3a"
             ],
             [
              0.8888888888888888,
              "#fdca26"
             ],
             [
              1,
              "#f0f921"
             ]
            ],
            "type": "heatmap"
           }
          ],
          "heatmapgl": [
           {
            "colorbar": {
             "outlinewidth": 0,
             "ticks": ""
            },
            "colorscale": [
             [
              0,
              "#0d0887"
             ],
             [
              0.1111111111111111,
              "#46039f"
             ],
             [
              0.2222222222222222,
              "#7201a8"
             ],
             [
              0.3333333333333333,
              "#9c179e"
             ],
             [
              0.4444444444444444,
              "#bd3786"
             ],
             [
              0.5555555555555556,
              "#d8576b"
             ],
             [
              0.6666666666666666,
              "#ed7953"
             ],
             [
              0.7777777777777778,
              "#fb9f3a"
             ],
             [
              0.8888888888888888,
              "#fdca26"
             ],
             [
              1,
              "#f0f921"
             ]
            ],
            "type": "heatmapgl"
           }
          ],
          "histogram": [
           {
            "marker": {
             "pattern": {
              "fillmode": "overlay",
              "size": 10,
              "solidity": 0.2
             }
            },
            "type": "histogram"
           }
          ],
          "histogram2d": [
           {
            "colorbar": {
             "outlinewidth": 0,
             "ticks": ""
            },
            "colorscale": [
             [
              0,
              "#0d0887"
             ],
             [
              0.1111111111111111,
              "#46039f"
             ],
             [
              0.2222222222222222,
              "#7201a8"
             ],
             [
              0.3333333333333333,
              "#9c179e"
             ],
             [
              0.4444444444444444,
              "#bd3786"
             ],
             [
              0.5555555555555556,
              "#d8576b"
             ],
             [
              0.6666666666666666,
              "#ed7953"
             ],
             [
              0.7777777777777778,
              "#fb9f3a"
             ],
             [
              0.8888888888888888,
              "#fdca26"
             ],
             [
              1,
              "#f0f921"
             ]
            ],
            "type": "histogram2d"
           }
          ],
          "histogram2dcontour": [
           {
            "colorbar": {
             "outlinewidth": 0,
             "ticks": ""
            },
            "colorscale": [
             [
              0,
              "#0d0887"
             ],
             [
              0.1111111111111111,
              "#46039f"
             ],
             [
              0.2222222222222222,
              "#7201a8"
             ],
             [
              0.3333333333333333,
              "#9c179e"
             ],
             [
              0.4444444444444444,
              "#bd3786"
             ],
             [
              0.5555555555555556,
              "#d8576b"
             ],
             [
              0.6666666666666666,
              "#ed7953"
             ],
             [
              0.7777777777777778,
              "#fb9f3a"
             ],
             [
              0.8888888888888888,
              "#fdca26"
             ],
             [
              1,
              "#f0f921"
             ]
            ],
            "type": "histogram2dcontour"
           }
          ],
          "mesh3d": [
           {
            "colorbar": {
             "outlinewidth": 0,
             "ticks": ""
            },
            "type": "mesh3d"
           }
          ],
          "parcoords": [
           {
            "line": {
             "colorbar": {
              "outlinewidth": 0,
              "ticks": ""
             }
            },
            "type": "parcoords"
           }
          ],
          "pie": [
           {
            "automargin": true,
            "type": "pie"
           }
          ],
          "scatter": [
           {
            "fillpattern": {
             "fillmode": "overlay",
             "size": 10,
             "solidity": 0.2
            },
            "type": "scatter"
           }
          ],
          "scatter3d": [
           {
            "line": {
             "colorbar": {
              "outlinewidth": 0,
              "ticks": ""
             }
            },
            "marker": {
             "colorbar": {
              "outlinewidth": 0,
              "ticks": ""
             }
            },
            "type": "scatter3d"
           }
          ],
          "scattercarpet": [
           {
            "marker": {
             "colorbar": {
              "outlinewidth": 0,
              "ticks": ""
             }
            },
            "type": "scattercarpet"
           }
          ],
          "scattergeo": [
           {
            "marker": {
             "colorbar": {
              "outlinewidth": 0,
              "ticks": ""
             }
            },
            "type": "scattergeo"
           }
          ],
          "scattergl": [
           {
            "marker": {
             "colorbar": {
              "outlinewidth": 0,
              "ticks": ""
             }
            },
            "type": "scattergl"
           }
          ],
          "scattermapbox": [
           {
            "marker": {
             "colorbar": {
              "outlinewidth": 0,
              "ticks": ""
             }
            },
            "type": "scattermapbox"
           }
          ],
          "scatterpolar": [
           {
            "marker": {
             "colorbar": {
              "outlinewidth": 0,
              "ticks": ""
             }
            },
            "type": "scatterpolar"
           }
          ],
          "scatterpolargl": [
           {
            "marker": {
             "colorbar": {
              "outlinewidth": 0,
              "ticks": ""
             }
            },
            "type": "scatterpolargl"
           }
          ],
          "scatterternary": [
           {
            "marker": {
             "colorbar": {
              "outlinewidth": 0,
              "ticks": ""
             }
            },
            "type": "scatterternary"
           }
          ],
          "surface": [
           {
            "colorbar": {
             "outlinewidth": 0,
             "ticks": ""
            },
            "colorscale": [
             [
              0,
              "#0d0887"
             ],
             [
              0.1111111111111111,
              "#46039f"
             ],
             [
              0.2222222222222222,
              "#7201a8"
             ],
             [
              0.3333333333333333,
              "#9c179e"
             ],
             [
              0.4444444444444444,
              "#bd3786"
             ],
             [
              0.5555555555555556,
              "#d8576b"
             ],
             [
              0.6666666666666666,
              "#ed7953"
             ],
             [
              0.7777777777777778,
              "#fb9f3a"
             ],
             [
              0.8888888888888888,
              "#fdca26"
             ],
             [
              1,
              "#f0f921"
             ]
            ],
            "type": "surface"
           }
          ],
          "table": [
           {
            "cells": {
             "fill": {
              "color": "#EBF0F8"
             },
             "line": {
              "color": "white"
             }
            },
            "header": {
             "fill": {
              "color": "#C8D4E3"
             },
             "line": {
              "color": "white"
             }
            },
            "type": "table"
           }
          ]
         },
         "layout": {
          "annotationdefaults": {
           "arrowcolor": "#2a3f5f",
           "arrowhead": 0,
           "arrowwidth": 1
          },
          "autotypenumbers": "strict",
          "coloraxis": {
           "colorbar": {
            "outlinewidth": 0,
            "ticks": ""
           }
          },
          "colorscale": {
           "diverging": [
            [
             0,
             "#8e0152"
            ],
            [
             0.1,
             "#c51b7d"
            ],
            [
             0.2,
             "#de77ae"
            ],
            [
             0.3,
             "#f1b6da"
            ],
            [
             0.4,
             "#fde0ef"
            ],
            [
             0.5,
             "#f7f7f7"
            ],
            [
             0.6,
             "#e6f5d0"
            ],
            [
             0.7,
             "#b8e186"
            ],
            [
             0.8,
             "#7fbc41"
            ],
            [
             0.9,
             "#4d9221"
            ],
            [
             1,
             "#276419"
            ]
           ],
           "sequential": [
            [
             0,
             "#0d0887"
            ],
            [
             0.1111111111111111,
             "#46039f"
            ],
            [
             0.2222222222222222,
             "#7201a8"
            ],
            [
             0.3333333333333333,
             "#9c179e"
            ],
            [
             0.4444444444444444,
             "#bd3786"
            ],
            [
             0.5555555555555556,
             "#d8576b"
            ],
            [
             0.6666666666666666,
             "#ed7953"
            ],
            [
             0.7777777777777778,
             "#fb9f3a"
            ],
            [
             0.8888888888888888,
             "#fdca26"
            ],
            [
             1,
             "#f0f921"
            ]
           ],
           "sequentialminus": [
            [
             0,
             "#0d0887"
            ],
            [
             0.1111111111111111,
             "#46039f"
            ],
            [
             0.2222222222222222,
             "#7201a8"
            ],
            [
             0.3333333333333333,
             "#9c179e"
            ],
            [
             0.4444444444444444,
             "#bd3786"
            ],
            [
             0.5555555555555556,
             "#d8576b"
            ],
            [
             0.6666666666666666,
             "#ed7953"
            ],
            [
             0.7777777777777778,
             "#fb9f3a"
            ],
            [
             0.8888888888888888,
             "#fdca26"
            ],
            [
             1,
             "#f0f921"
            ]
           ]
          },
          "colorway": [
           "#636efa",
           "#EF553B",
           "#00cc96",
           "#ab63fa",
           "#FFA15A",
           "#19d3f3",
           "#FF6692",
           "#B6E880",
           "#FF97FF",
           "#FECB52"
          ],
          "font": {
           "color": "#2a3f5f"
          },
          "geo": {
           "bgcolor": "white",
           "lakecolor": "white",
           "landcolor": "#E5ECF6",
           "showlakes": true,
           "showland": true,
           "subunitcolor": "white"
          },
          "hoverlabel": {
           "align": "left"
          },
          "hovermode": "closest",
          "mapbox": {
           "style": "light"
          },
          "paper_bgcolor": "white",
          "plot_bgcolor": "#E5ECF6",
          "polar": {
           "angularaxis": {
            "gridcolor": "white",
            "linecolor": "white",
            "ticks": ""
           },
           "bgcolor": "#E5ECF6",
           "radialaxis": {
            "gridcolor": "white",
            "linecolor": "white",
            "ticks": ""
           }
          },
          "scene": {
           "xaxis": {
            "backgroundcolor": "#E5ECF6",
            "gridcolor": "white",
            "gridwidth": 2,
            "linecolor": "white",
            "showbackground": true,
            "ticks": "",
            "zerolinecolor": "white"
           },
           "yaxis": {
            "backgroundcolor": "#E5ECF6",
            "gridcolor": "white",
            "gridwidth": 2,
            "linecolor": "white",
            "showbackground": true,
            "ticks": "",
            "zerolinecolor": "white"
           },
           "zaxis": {
            "backgroundcolor": "#E5ECF6",
            "gridcolor": "white",
            "gridwidth": 2,
            "linecolor": "white",
            "showbackground": true,
            "ticks": "",
            "zerolinecolor": "white"
           }
          },
          "shapedefaults": {
           "line": {
            "color": "#2a3f5f"
           }
          },
          "ternary": {
           "aaxis": {
            "gridcolor": "white",
            "linecolor": "white",
            "ticks": ""
           },
           "baxis": {
            "gridcolor": "white",
            "linecolor": "white",
            "ticks": ""
           },
           "bgcolor": "#E5ECF6",
           "caxis": {
            "gridcolor": "white",
            "linecolor": "white",
            "ticks": ""
           }
          },
          "title": {
           "x": 0.05
          },
          "xaxis": {
           "automargin": true,
           "gridcolor": "white",
           "linecolor": "white",
           "ticks": "",
           "title": {
            "standoff": 15
           },
           "zerolinecolor": "white",
           "zerolinewidth": 2
          },
          "yaxis": {
           "automargin": true,
           "gridcolor": "white",
           "linecolor": "white",
           "ticks": "",
           "title": {
            "standoff": 15
           },
           "zerolinecolor": "white",
           "zerolinewidth": 2
          }
         }
        }
       }
      }
     },
     "metadata": {},
     "output_type": "display_data"
    }
   ],
   "source": [
    "import plotly.graph_objects as go\n",
    "import numpy as np\n",
    "\n",
    "df_1 = df_g[df_g['filter']==\"No Ans\"]\n",
    "df_2 = df_g[df_g['filter']!=\"No Ans\"]\n",
    "\n",
    "x = list(df_1.conf)\n",
    "x_rev = x[::-1]\n",
    "\n",
    "# Line 1\n",
    "y1 = df_1['mean']\n",
    "y1_std = df_1['std']\n",
    "y1_upper = (y1+y1_std).to_list()\n",
    "y1_lower = y1-y1_std\n",
    "y1_lower = y1_lower[::-1]\n",
    "\n",
    "y1_lower = y1_lower.to_list()\n",
    "y1 = y1.to_list()\n",
    "\n",
    "# Line 2\n",
    "y2 = df_2['mean']\n",
    "y2_std = df_2['std']\n",
    "y2_upper = y2-y2_std\n",
    "y2_lower = y2+y2_std\n",
    "y2_lower = y2_lower[::-1]\n",
    "\n",
    "# to list\n",
    "y2_lower = y2_lower.to_list()\n",
    "y2 = y2.to_list()\n",
    "y2_upper = y2_upper.to_list()\n",
    "\n",
    "fig = go.Figure()\n",
    "\n",
    "fig.add_trace(go.Scatter(\n",
    "    x=x+x_rev,\n",
    "    y=y1_upper+y1_lower,\n",
    "    fill='toself',\n",
    "    fillcolor='rgba(0,100,80,0.2)',\n",
    "    line_color='rgba(255,255,255,0)',\n",
    "    showlegend=False,\n",
    "    name='Fair',\n",
    "))\n",
    "fig.add_trace(go.Scatter(\n",
    "    x=x+x_rev,\n",
    "    y=y2_upper+y2_lower,\n",
    "    fill='toself',\n",
    "    fillcolor='rgba(0,176,246,0.2)',\n",
    "    line_color='rgba(255,255,255,0)',\n",
    "    name='Premium',\n",
    "    showlegend=False,\n",
    "))\n",
    "\n",
    "fig.add_trace(go.Scatter(\n",
    "    x=x, y=y1,\n",
    "    line_color='rgb(0,100,80)',\n",
    "    name='Fair',\n",
    "))\n",
    "fig.add_trace(go.Scatter(\n",
    "    x=x, y=y2,\n",
    "    line_color='rgb(0,176,246)',\n",
    "    name='Premium',\n",
    "))\n",
    "\n",
    "fig.update_traces(mode='lines')\n",
    "fig.show()"
   ]
  },
  {
   "cell_type": "markdown",
   "metadata": {},
   "source": [
    "Single prediction analysis"
   ]
  },
  {
   "cell_type": "code",
   "execution_count": null,
   "metadata": {},
   "outputs": [],
   "source": []
  }
 ],
 "metadata": {
  "interpreter": {
   "hash": "f263b30b47212596c6dca0cd91fb0c51f07ee748dab3d0cfddddb639cf5b7790"
  },
  "kernelspec": {
   "display_name": "Python 3.8.13 ('test4')",
   "language": "python",
   "name": "python3"
  },
  "language_info": {
   "codemirror_mode": {
    "name": "ipython",
    "version": 3
   },
   "file_extension": ".py",
   "mimetype": "text/x-python",
   "name": "python",
   "nbconvert_exporter": "python",
   "pygments_lexer": "ipython3",
   "version": "3.8.13"
  },
  "orig_nbformat": 4
 },
 "nbformat": 4,
 "nbformat_minor": 2
}

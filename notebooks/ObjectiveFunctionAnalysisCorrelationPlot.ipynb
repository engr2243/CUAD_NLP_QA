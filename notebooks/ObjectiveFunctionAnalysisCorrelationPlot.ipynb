{
 "cells": [
  {
   "cell_type": "markdown",
   "metadata": {},
   "source": [
    "# Correlation between objective function and performance measures\n",
    "\n",
    "This notebook contains the code/calculations for the correlation plots used in the report"
   ]
  },
  {
   "cell_type": "code",
   "execution_count": 80,
   "metadata": {},
   "outputs": [
    {
     "name": "stderr",
     "output_type": "stream",
     "text": [
      "/var/folders/nt/g2ndh3nx4dj16m34wq3h41lh0000gn/T/ipykernel_61518/1079354564.py:32: SettingWithCopyWarning:\n",
      "\n",
      "\n",
      "A value is trying to be set on a copy of a slice from a DataFrame\n",
      "\n",
      "See the caveats in the documentation: https://pandas.pydata.org/pandas-docs/stable/user_guide/indexing.html#returning-a-view-versus-a-copy\n",
      "\n",
      "/var/folders/nt/g2ndh3nx4dj16m34wq3h41lh0000gn/T/ipykernel_61518/1079354564.py:32: SettingWithCopyWarning:\n",
      "\n",
      "\n",
      "A value is trying to be set on a copy of a slice from a DataFrame\n",
      "\n",
      "See the caveats in the documentation: https://pandas.pydata.org/pandas-docs/stable/user_guide/indexing.html#returning-a-view-versus-a-copy\n",
      "\n",
      "/var/folders/nt/g2ndh3nx4dj16m34wq3h41lh0000gn/T/ipykernel_61518/1079354564.py:32: SettingWithCopyWarning:\n",
      "\n",
      "\n",
      "A value is trying to be set on a copy of a slice from a DataFrame\n",
      "\n",
      "See the caveats in the documentation: https://pandas.pydata.org/pandas-docs/stable/user_guide/indexing.html#returning-a-view-versus-a-copy\n",
      "\n"
     ]
    }
   ],
   "source": [
    "import wandb\n",
    "import pandas as pd \n",
    "api = wandb.Api()\n",
    "\n",
    "# Project is specified by <entity/project-name>\n",
    "runs = api.runs(\"gustavhartz/cuad_training_gen2_v1\")\n",
    "summary_list = [] \n",
    "config_list = [] \n",
    "name_list = []\n",
    "history_list = []\n",
    "history_raw = []\n",
    "for run in runs: \n",
    "    # run.summary are the output key/values like accuracy.\n",
    "    # We call ._json_dict to omit large files \n",
    "    summary_list.append(run.summary._json_dict) \n",
    "\n",
    "    # run.config is the input metrics.\n",
    "    # We remove special values that start with _.\n",
    "    config = {k:v for k,v in run.config.items() if not k.startswith('_')}\n",
    "    config_list.append(config) \n",
    "\n",
    "    # run.name is the name of the run.\n",
    "    name_list.append(run.name)\n",
    "\n",
    "    # Own code\n",
    "    run_df = run.history()\n",
    "    # Remove logging entries where not from the validation loop\n",
    "    raw_df = run_df[run_df['performance_AUPR_valid_prec_at_80_recall'].notna()]\n",
    "    history_raw.append(raw_df)\n",
    "    # only keep the columns we want\n",
    "    df_clean = raw_df[['epoch_valid_loss','performance_AUPR_valid_aupr','performance_stats_valid_HasAns_f1','performance_stats_valid_NoAns_f1','performance_stats_valid_exact','performance_stats_valid_f1', 'performance_AUPR_valid_prec_at_80_recall']]       \n",
    "    df_clean.rename(columns={'epoch_valid_loss':'Validation loss', 'performance_AUPR_valid_aupr':'AUPR', 'performance_stats_valid_HasAns_f1':'Has Ans F1', 'performance_stats_valid_NoAns_f1': 'No Ans F1', 'performance_stats_valid_exact':'EM', 'performance_stats_valid_f1':'F1', 'performance_AUPR_valid_prec_at_80_recall': 'Prec @ 80%'}, inplace=True)\n",
    "\n",
    "    history_list.append(df_clean)\n",
    "\n",
    "\n",
    "summary_df = pd.DataFrame.from_records(summary_list) \n",
    "config_df = pd.DataFrame.from_records(config_list) \n",
    "name_df = pd.DataFrame({'name': name_list}) \n",
    "all_df = pd.concat([name_df, config_df,summary_df], axis=1)\n",
    "\n",
    "df_hist = pd.concat(history_list)\n",
    "df_hist_raw = pd.concat(history_raw)"
   ]
  },
  {
   "cell_type": "markdown",
   "metadata": {},
   "source": [
    "We now have all the data an can make the correlation analysis"
   ]
  },
  {
   "cell_type": "code",
   "execution_count": 81,
   "metadata": {},
   "outputs": [],
   "source": [
    "import matplotlib.pyplot as plt\n",
    "import seaborn as sns"
   ]
  },
  {
   "cell_type": "code",
   "execution_count": 82,
   "metadata": {},
   "outputs": [
    {
     "data": {
      "text/html": [
       "<div>\n",
       "<style scoped>\n",
       "    .dataframe tbody tr th:only-of-type {\n",
       "        vertical-align: middle;\n",
       "    }\n",
       "\n",
       "    .dataframe tbody tr th {\n",
       "        vertical-align: top;\n",
       "    }\n",
       "\n",
       "    .dataframe thead th {\n",
       "        text-align: right;\n",
       "    }\n",
       "</style>\n",
       "<table border=\"1\" class=\"dataframe\">\n",
       "  <thead>\n",
       "    <tr style=\"text-align: right;\">\n",
       "      <th></th>\n",
       "      <th>Validation loss</th>\n",
       "      <th>AUPR</th>\n",
       "      <th>Has Ans F1</th>\n",
       "      <th>No Ans F1</th>\n",
       "      <th>EM</th>\n",
       "      <th>F1</th>\n",
       "      <th>Prec @ 80%</th>\n",
       "    </tr>\n",
       "  </thead>\n",
       "  <tbody>\n",
       "    <tr>\n",
       "      <th>8</th>\n",
       "      <td>0.253849</td>\n",
       "      <td>0.195557</td>\n",
       "      <td>61.106361</td>\n",
       "      <td>64.431587</td>\n",
       "      <td>58.440937</td>\n",
       "      <td>63.442448</td>\n",
       "      <td>0.000000</td>\n",
       "    </tr>\n",
       "    <tr>\n",
       "      <th>19</th>\n",
       "      <td>0.189731</td>\n",
       "      <td>0.316015</td>\n",
       "      <td>79.131866</td>\n",
       "      <td>58.883595</td>\n",
       "      <td>60.951698</td>\n",
       "      <td>64.906754</td>\n",
       "      <td>0.187983</td>\n",
       "    </tr>\n",
       "    <tr>\n",
       "      <th>31</th>\n",
       "      <td>0.173090</td>\n",
       "      <td>0.355474</td>\n",
       "      <td>80.112267</td>\n",
       "      <td>67.903336</td>\n",
       "      <td>67.288376</td>\n",
       "      <td>71.535072</td>\n",
       "      <td>0.201310</td>\n",
       "    </tr>\n",
       "    <tr>\n",
       "      <th>42</th>\n",
       "      <td>0.156002</td>\n",
       "      <td>0.390941</td>\n",
       "      <td>80.742455</td>\n",
       "      <td>65.997276</td>\n",
       "      <td>65.997131</td>\n",
       "      <td>70.383453</td>\n",
       "      <td>0.214929</td>\n",
       "    </tr>\n",
       "    <tr>\n",
       "      <th>52</th>\n",
       "      <td>0.194590</td>\n",
       "      <td>0.351730</td>\n",
       "      <td>81.778694</td>\n",
       "      <td>64.193329</td>\n",
       "      <td>64.945000</td>\n",
       "      <td>69.424370</td>\n",
       "      <td>0.225745</td>\n",
       "    </tr>\n",
       "    <tr>\n",
       "      <th>...</th>\n",
       "      <td>...</td>\n",
       "      <td>...</td>\n",
       "      <td>...</td>\n",
       "      <td>...</td>\n",
       "      <td>...</td>\n",
       "      <td>...</td>\n",
       "      <td>...</td>\n",
       "    </tr>\n",
       "    <tr>\n",
       "      <th>109</th>\n",
       "      <td>0.114053</td>\n",
       "      <td>0.438255</td>\n",
       "      <td>82.097160</td>\n",
       "      <td>74.098022</td>\n",
       "      <td>72.644669</td>\n",
       "      <td>76.477493</td>\n",
       "      <td>0.351815</td>\n",
       "    </tr>\n",
       "    <tr>\n",
       "      <th>119</th>\n",
       "      <td>0.140842</td>\n",
       "      <td>0.422006</td>\n",
       "      <td>82.738136</td>\n",
       "      <td>70.830498</td>\n",
       "      <td>70.444763</td>\n",
       "      <td>74.372604</td>\n",
       "      <td>0.342345</td>\n",
       "    </tr>\n",
       "    <tr>\n",
       "      <th>130</th>\n",
       "      <td>0.106102</td>\n",
       "      <td>0.442397</td>\n",
       "      <td>82.181572</td>\n",
       "      <td>75.493530</td>\n",
       "      <td>73.505501</td>\n",
       "      <td>77.482994</td>\n",
       "      <td>0.390485</td>\n",
       "    </tr>\n",
       "    <tr>\n",
       "      <th>142</th>\n",
       "      <td>0.121433</td>\n",
       "      <td>0.451765</td>\n",
       "      <td>82.075302</td>\n",
       "      <td>75.561607</td>\n",
       "      <td>73.577232</td>\n",
       "      <td>77.499207</td>\n",
       "      <td>0.400909</td>\n",
       "    </tr>\n",
       "    <tr>\n",
       "      <th>153</th>\n",
       "      <td>0.128022</td>\n",
       "      <td>0.436490</td>\n",
       "      <td>82.479500</td>\n",
       "      <td>73.417290</td>\n",
       "      <td>72.309898</td>\n",
       "      <td>76.112984</td>\n",
       "      <td>0.375940</td>\n",
       "    </tr>\n",
       "  </tbody>\n",
       "</table>\n",
       "<p>74 rows × 7 columns</p>\n",
       "</div>"
      ],
      "text/plain": [
       "     Validation loss      AUPR  Has Ans F1  No Ans F1         EM         F1  \\\n",
       "8           0.253849  0.195557   61.106361  64.431587  58.440937  63.442448   \n",
       "19          0.189731  0.316015   79.131866  58.883595  60.951698  64.906754   \n",
       "31          0.173090  0.355474   80.112267  67.903336  67.288376  71.535072   \n",
       "42          0.156002  0.390941   80.742455  65.997276  65.997131  70.383453   \n",
       "52          0.194590  0.351730   81.778694  64.193329  64.945000  69.424370   \n",
       "..               ...       ...         ...        ...        ...        ...   \n",
       "109         0.114053  0.438255   82.097160  74.098022  72.644669  76.477493   \n",
       "119         0.140842  0.422006   82.738136  70.830498  70.444763  74.372604   \n",
       "130         0.106102  0.442397   82.181572  75.493530  73.505501  77.482994   \n",
       "142         0.121433  0.451765   82.075302  75.561607  73.577232  77.499207   \n",
       "153         0.128022  0.436490   82.479500  73.417290  72.309898  76.112984   \n",
       "\n",
       "     Prec @ 80%  \n",
       "8      0.000000  \n",
       "19     0.187983  \n",
       "31     0.201310  \n",
       "42     0.214929  \n",
       "52     0.225745  \n",
       "..          ...  \n",
       "109    0.351815  \n",
       "119    0.342345  \n",
       "130    0.390485  \n",
       "142    0.400909  \n",
       "153    0.375940  \n",
       "\n",
       "[74 rows x 7 columns]"
      ]
     },
     "execution_count": 82,
     "metadata": {},
     "output_type": "execute_result"
    }
   ],
   "source": [
    "df_hist"
   ]
  },
  {
   "cell_type": "code",
   "execution_count": 83,
   "metadata": {},
   "outputs": [
    {
     "data": {
      "image/png": "[encoded data removed]",
      "text/plain": [
       "<Figure size 576x432 with 1 Axes>"
      ]
     },
     "metadata": {
      "needs_background": "light"
     },
     "output_type": "display_data"
    }
   ],
   "source": [
    "corr = df_hist.corr(method='pearson')\n",
    "\n",
    "\n",
    "fig, ax = plt.subplots(figsize=(8,6))\n",
    "sns.heatmap(corr, annot=True, fmt='.4f', \n",
    "            cmap=plt.get_cmap('coolwarm'), cbar=False, ax=ax)\n",
    "ax.set_yticklabels(ax.get_yticklabels(), rotation=\"horizontal\")\n",
    "ax.set_title(f'Pearson Correlation based on {len(df_hist)} samples')\n",
    "plt.savefig('Figures_For_Report/PearsonCorrObjectiveFunction.png', bbox_inches='tight', pad_inches=0.0)\n",
    "plt.show()"
   ]
  },
  {
   "cell_type": "code",
   "execution_count": 84,
   "metadata": {},
   "outputs": [
    {
     "data": {
      "text/html": [
       "<div>\n",
       "<style scoped>\n",
       "    .dataframe tbody tr th:only-of-type {\n",
       "        vertical-align: middle;\n",
       "    }\n",
       "\n",
       "    .dataframe tbody tr th {\n",
       "        vertical-align: top;\n",
       "    }\n",
       "\n",
       "    .dataframe thead th {\n",
       "        text-align: right;\n",
       "    }\n",
       "</style>\n",
       "<table border=\"1\" class=\"dataframe\">\n",
       "  <thead>\n",
       "    <tr style=\"text-align: right;\">\n",
       "      <th></th>\n",
       "      <th>Validation loss</th>\n",
       "      <th>AUPR</th>\n",
       "      <th>Has Ans F1</th>\n",
       "      <th>No Ans F1</th>\n",
       "      <th>EM</th>\n",
       "      <th>F1</th>\n",
       "      <th>Prec @ 80%</th>\n",
       "    </tr>\n",
       "  </thead>\n",
       "  <tbody>\n",
       "    <tr>\n",
       "      <th>Validation loss</th>\n",
       "      <td>1.000000</td>\n",
       "      <td>0.307232</td>\n",
       "      <td>0.203465</td>\n",
       "      <td>0.348871</td>\n",
       "      <td>0.420881</td>\n",
       "      <td>0.392847</td>\n",
       "      <td>0.216498</td>\n",
       "    </tr>\n",
       "    <tr>\n",
       "      <th>AUPR</th>\n",
       "      <td>0.307232</td>\n",
       "      <td>1.000000</td>\n",
       "      <td>0.365513</td>\n",
       "      <td>0.817171</td>\n",
       "      <td>0.899601</td>\n",
       "      <td>0.895219</td>\n",
       "      <td>0.613865</td>\n",
       "    </tr>\n",
       "    <tr>\n",
       "      <th>Has Ans F1</th>\n",
       "      <td>0.203465</td>\n",
       "      <td>0.365513</td>\n",
       "      <td>1.000000</td>\n",
       "      <td>0.085877</td>\n",
       "      <td>0.205598</td>\n",
       "      <td>0.184477</td>\n",
       "      <td>0.473397</td>\n",
       "    </tr>\n",
       "    <tr>\n",
       "      <th>No Ans F1</th>\n",
       "      <td>0.348871</td>\n",
       "      <td>0.817171</td>\n",
       "      <td>0.085877</td>\n",
       "      <td>1.000000</td>\n",
       "      <td>0.967552</td>\n",
       "      <td>0.978681</td>\n",
       "      <td>0.384383</td>\n",
       "    </tr>\n",
       "    <tr>\n",
       "      <th>EM</th>\n",
       "      <td>0.420881</td>\n",
       "      <td>0.899601</td>\n",
       "      <td>0.205598</td>\n",
       "      <td>0.967552</td>\n",
       "      <td>1.000000</td>\n",
       "      <td>0.996653</td>\n",
       "      <td>0.489647</td>\n",
       "    </tr>\n",
       "    <tr>\n",
       "      <th>F1</th>\n",
       "      <td>0.392847</td>\n",
       "      <td>0.895219</td>\n",
       "      <td>0.184477</td>\n",
       "      <td>0.978681</td>\n",
       "      <td>0.996653</td>\n",
       "      <td>1.000000</td>\n",
       "      <td>0.477025</td>\n",
       "    </tr>\n",
       "    <tr>\n",
       "      <th>Prec @ 80%</th>\n",
       "      <td>0.216498</td>\n",
       "      <td>0.613865</td>\n",
       "      <td>0.473397</td>\n",
       "      <td>0.384383</td>\n",
       "      <td>0.489647</td>\n",
       "      <td>0.477025</td>\n",
       "      <td>1.000000</td>\n",
       "    </tr>\n",
       "  </tbody>\n",
       "</table>\n",
       "</div>"
      ],
      "text/plain": [
       "                 Validation loss      AUPR  Has Ans F1  No Ans F1        EM  \\\n",
       "Validation loss         1.000000  0.307232    0.203465   0.348871  0.420881   \n",
       "AUPR                    0.307232  1.000000    0.365513   0.817171  0.899601   \n",
       "Has Ans F1              0.203465  0.365513    1.000000   0.085877  0.205598   \n",
       "No Ans F1               0.348871  0.817171    0.085877   1.000000  0.967552   \n",
       "EM                      0.420881  0.899601    0.205598   0.967552  1.000000   \n",
       "F1                      0.392847  0.895219    0.184477   0.978681  0.996653   \n",
       "Prec @ 80%              0.216498  0.613865    0.473397   0.384383  0.489647   \n",
       "\n",
       "                       F1  Prec @ 80%  \n",
       "Validation loss  0.392847    0.216498  \n",
       "AUPR             0.895219    0.613865  \n",
       "Has Ans F1       0.184477    0.473397  \n",
       "No Ans F1        0.978681    0.384383  \n",
       "EM               0.996653    0.489647  \n",
       "F1               1.000000    0.477025  \n",
       "Prec @ 80%       0.477025    1.000000  "
      ]
     },
     "execution_count": 84,
     "metadata": {},
     "output_type": "execute_result"
    }
   ],
   "source": [
    "corr**2"
   ]
  },
  {
   "cell_type": "markdown",
   "metadata": {},
   "source": [
    "The Pearson’s Correlation Coefficient depicted in the plot, is a measure of linear correlation between two variables and is calculated as the relationship between the covariance of the variables and product of standard deviations of the samples. From the plot there is a clear linear correlation between the validation loss and the evaluation metrics, so the objective function seems to embed useful knowledge into the model. This is also supported by the metrics from training $REF$, when the model is improving as the validation loss decreases. The correlation coefficient looks as expected with an negative sign, due to us wanting the goal being maximizing the evaluation metrics by minimizing the validation loss. Extracting the r^2 values from the plot also reveal that there still is a lot of variance that cannot be explained by the correlation model."
   ]
  },
  {
   "cell_type": "code",
   "execution_count": 85,
   "metadata": {},
   "outputs": [
    {
     "data": {
      "image/png": "[encoded data removed]",
      "text/plain": [
       "<Figure size 720x720 with 1 Axes>"
      ]
     },
     "metadata": {
      "needs_background": "light"
     },
     "output_type": "display_data"
    }
   ],
   "source": [
    "corr = df_hist.corr(method='kendall')\n",
    "\n",
    "\n",
    "fig, ax = plt.subplots(figsize=(10,10))\n",
    "sns.heatmap(corr, annot=True, fmt='.4f', \n",
    "            cmap=plt.get_cmap('coolwarm'), cbar=False, ax=ax)\n",
    "ax.set_yticklabels(ax.get_yticklabels(), rotation=\"horizontal\")\n",
    "ax.set_title('Kendall Correlation')\n",
    "plt.savefig('Figures_For_Report/KendallCorrObjectiveFunction.png', bbox_inches='tight', pad_inches=0.0)\n",
    "plt.show()"
   ]
  },
  {
   "cell_type": "code",
   "execution_count": 86,
   "metadata": {},
   "outputs": [
    {
     "data": {
      "image/png": "[encoded data removed]",
      "text/plain": [
       "<Figure size 720x720 with 1 Axes>"
      ]
     },
     "metadata": {
      "needs_background": "light"
     },
     "output_type": "display_data"
    }
   ],
   "source": [
    "corr = df_hist.corr(method='spearman')\n",
    "fig, ax = plt.subplots(figsize=(10,10))\n",
    "sns.heatmap(corr, annot=True, fmt='.4f', \n",
    "            cmap=plt.get_cmap('coolwarm'), cbar=False, ax=ax)\n",
    "ax.set_title('Spearman Correlation')\n",
    "ax.set_yticklabels(ax.get_yticklabels(), rotation=\"horizontal\")\n",
    "plt.savefig('Figures_For_Report/SpearmanCorrObjectiveFunction.png', bbox_inches='tight', pad_inches=0.0)\n",
    "plt.show()"
   ]
  },
  {
   "cell_type": "markdown",
   "metadata": {},
   "source": [
    "## Plot the val loss, train loss, and aupr as a function of steps"
   ]
  },
  {
   "cell_type": "code",
   "execution_count": 87,
   "metadata": {},
   "outputs": [],
   "source": [
    "# set global step to index\n",
    "df_hist_raw.set_index('trainer/global_step', inplace=True)"
   ]
  },
  {
   "cell_type": "code",
   "execution_count": 88,
   "metadata": {},
   "outputs": [],
   "source": [
    "df_p = df_hist_raw[['epoch_valid_loss','performance_AUPR_valid_aupr','performance_stats_valid_HasAns_f1','performance_stats_valid_NoAns_f1','performance_stats_valid_exact','performance_stats_valid_f1', 'performance_AUPR_valid_prec_at_80_recall']]\n",
    "df_p2 = df_p.rename(columns={'epoch_valid_loss':'Validation loss', 'performance_AUPR_valid_aupr':'AUPR', 'performance_stats_valid_HasAns_f1':'Has Ans F1', 'performance_stats_valid_NoAns_f1': 'No Ans F1', 'performance_stats_valid_exact':'EM', 'performance_stats_valid_f1':'F1', 'performance_AUPR_valid_prec_at_80_recall': 'Prec @ 80%'})\n",
    "df_p2['AUPR']=df_p2['AUPR']*100\n",
    "df_p2['Prec @ 80%']=df_p2['Prec @ 80%']*100"
   ]
  },
  {
   "cell_type": "code",
   "execution_count": 89,
   "metadata": {},
   "outputs": [
    {
     "data": {
      "application/vnd.plotly.v1+json": {
       "config": {
        "plotlyServerURL": "https://plot.ly"
       },
       "data": [
        {
         "hovertemplate": "variable=AUPR<br>Validation loss=%{x}<br>value=%{y}<extra></extra>",
         "legendgroup": "AUPR",
         "marker": {
          "color": "#636efa",
          "symbol": "circle"
         },
         "mode": "markers",
         "name": "AUPR",
         "orientation": "v",
         "showlegend": true,
         "type": "scatter",
         "x": [
          0.25384944677352905,
          0.18973076343536377,
          0.17309004068374634,
          0.15600226819515228,
          0.1945904940366745,
          0.16883282363414764,
          0.14059442281723022,
          0.14741389453411102,
          0.1352337747812271,
          0.11296810209751129,
          0.15172502398490906,
          0.11347316205501556,
          0.15061576664447784,
          0.11722459644079208,
          0.14912623167037964,
          0.1534651517868042,
          0.13214337825775146,
          0.14973551034927368,
          0.13611845672130585,
          0.12756669521331787,
          0.12020357698202133,
          0.16347575187683105,
          0.09566701948642731,
          0.11870067566633224,
          0.12046556919813156,
          0.14326021075248718,
          0.12386302649974823,
          0.10337640345096588,
          0.11529805511236191,
          0.12519457936286926,
          0.14963151514530182,
          0.19439396262168884,
          0.20332454144954681,
          0.17379510402679443,
          0.1863466054201126,
          0.19384820759296417,
          0.24366417527198792,
          0.2521304488182068,
          0.2160719484090805,
          0.21359972655773163,
          0.28885218501091003,
          0.13452398777008057,
          0.19797858595848083,
          0.0744885578751564,
          0.1586439162492752,
          0.15354883670806885,
          0.08743424713611603,
          0.14741571247577667,
          0.17583459615707397,
          0.13694779574871063,
          0.14054034650325775,
          0.09945549815893173,
          0.14339067041873932,
          0.14417985081672668,
          0.14639897644519806,
          0.10884696245193481,
          0.12396688014268875,
          0.12669993937015533,
          0.12326731532812119,
          0.12351957708597183,
          0.301832377910614,
          0.11752191185951233,
          0.30496636033058167,
          0.11925596743822098,
          0.18000726401805878,
          0.14572741091251373,
          0.13655392825603485,
          0.1348586082458496,
          0.12757417559623718,
          0.11405333131551743,
          0.1408415585756302,
          0.10610217601060867,
          0.12143304944038391,
          0.12802231311798096
         ],
         "xaxis": "x",
         "y": [
          19.555662202354025,
          31.601495794952893,
          35.54735797006923,
          39.09413016972959,
          35.173042867115676,
          35.99607192888474,
          37.21324669082948,
          37.22932746567029,
          39.987149338344665,
          43.44534026564734,
          39.09495871897348,
          45.42343491416505,
          42.77729640340254,
          41.44052746284301,
          37.77920313511719,
          38.21866811283557,
          43.97040191305789,
          40.62665559202593,
          44.449204654584115,
          41.625262288764674,
          49.95034776035287,
          43.67587488311552,
          50.03654016977349,
          46.29210058437876,
          48.996590978318835,
          43.04899434832374,
          50.38686149657296,
          49.36149088296271,
          47.044975742487324,
          47.745079747728596,
          49.258746344175144,
          47.019347500381585,
          46.7869197912969,
          47.12496038040186,
          48.034091452758595,
          47.815045212799326,
          47.36644716216089,
          46.55184365455143,
          48.24255698174715,
          48.85477670659139,
          25.342809529029893,
          38.67901985894396,
          32.853121444225756,
          48.58213952779307,
          37.07319871782571,
          37.92187427233918,
          48.46663782113457,
          39.6033618180207,
          36.935561046947605,
          40.607670764055044,
          41.026624796616545,
          43.71257930137361,
          38.906887274373574,
          40.85489538333805,
          40.5278171369313,
          45.365295566921915,
          45.33114112262666,
          44.65886274483107,
          46.887021682724566,
          48.12789825950825,
          23.980614515159314,
          39.97892807476101,
          30.024445700427016,
          40.4949426970976,
          35.51253544718643,
          40.02529232162112,
          40.28857397710636,
          39.847783291386726,
          41.34517262064097,
          43.82549880599618,
          42.20062741615881,
          44.23972777211175,
          45.17651296716325,
          43.64895225993658
         ],
         "yaxis": "y"
        },
        {
         "hovertemplate": "variable=Has Ans F1<br>Validation loss=%{x}<br>value=%{y}<extra></extra>",
         "legendgroup": "Has Ans F1",
         "marker": {
          "color": "#EF553B",
          "symbol": "circle"
         },
         "mode": "markers",
         "name": "Has Ans F1",
         "orientation": "v",
         "showlegend": true,
         "type": "scatter",
         "x": [
          0.25384944677352905,
          0.18973076343536377,
          0.17309004068374634,
          0.15600226819515228,
          0.1945904940366745,
          0.16883282363414764,
          0.14059442281723022,
          0.14741389453411102,
          0.1352337747812271,
          0.11296810209751129,
          0.15172502398490906,
          0.11347316205501556,
          0.15061576664447784,
          0.11722459644079208,
          0.14912623167037964,
          0.1534651517868042,
          0.13214337825775146,
          0.14973551034927368,
          0.13611845672130585,
          0.12756669521331787,
          0.12020357698202133,
          0.16347575187683105,
          0.09566701948642731,
          0.11870067566633224,
          0.12046556919813156,
          0.14326021075248718,
          0.12386302649974823,
          0.10337640345096588,
          0.11529805511236191,
          0.12519457936286926,
          0.14963151514530182,
          0.19439396262168884,
          0.20332454144954681,
          0.17379510402679443,
          0.1863466054201126,
          0.19384820759296417,
          0.24366417527198792,
          0.2521304488182068,
          0.2160719484090805,
          0.21359972655773163,
          0.28885218501091003,
          0.13452398777008057,
          0.19797858595848083,
          0.0744885578751564,
          0.1586439162492752,
          0.15354883670806885,
          0.08743424713611603,
          0.14741571247577667,
          0.17583459615707397,
          0.13694779574871063,
          0.14054034650325775,
          0.09945549815893173,
          0.14339067041873932,
          0.14417985081672668,
          0.14639897644519806,
          0.10884696245193481,
          0.12396688014268875,
          0.12669993937015533,
          0.12326731532812119,
          0.12351957708597183,
          0.301832377910614,
          0.11752191185951233,
          0.30496636033058167,
          0.11925596743822098,
          0.18000726401805878,
          0.14572741091251373,
          0.13655392825603485,
          0.1348586082458496,
          0.12757417559623718,
          0.11405333131551743,
          0.1408415585756302,
          0.10610217601060867,
          0.12143304944038391,
          0.12802231311798096
         ],
         "xaxis": "x",
         "y": [
          61.106361389160156,
          79.13186645507812,
          80.11226654052734,
          80.7424545288086,
          81.77869415283203,
          82.04360961914062,
          81.95675659179688,
          80.26314544677734,
          80.90560913085938,
          82.17925262451172,
          82.09790802001953,
          81.26122283935547,
          82.05097198486328,
          79.43603515625,
          81.39114379882812,
          81.98357391357422,
          82.13007354736328,
          82.95087432861328,
          81.61962890625,
          82.55803680419922,
          81.79698944091797,
          82.50245666503906,
          81.42562103271484,
          82.43104553222656,
          82.7984390258789,
          82.22119140625,
          80.7923355102539,
          81.43789672851562,
          82.34569549560547,
          82.63632202148438,
          81.56291198730469,
          82.01268005371094,
          80.96283721923828,
          82.00355529785156,
          81.77913665771484,
          81.6365966796875,
          81.38079071044922,
          81.32769775390625,
          82.05899810791016,
          82.13106536865234,
          74.37127685546875,
          81.57664489746094,
          81.40251922607422,
          79.232421875,
          82.02557373046875,
          81.63585662841797,
          81.16563415527344,
          82.60713958740234,
          80.58659362792969,
          85.02935028076172,
          82.88265228271484,
          82.69570922851562,
          80.68585205078125,
          83.90955352783203,
          82.97998809814453,
          82.68314361572266,
          82.6180191040039,
          83.40772247314453,
          82.85877990722656,
          83.26786804199219,
          74.86817169189453,
          78.7090072631836,
          80.96359252929688,
          81.11707305908203,
          82.58955383300781,
          82.25892639160156,
          82.70152282714844,
          81.43495178222656,
          81.07347869873047,
          82.09716033935547,
          82.7381362915039,
          82.18157196044922,
          82.07530212402344,
          82.47949981689453
         ],
         "yaxis": "y"
        },
        {
         "hovertemplate": "variable=No Ans F1<br>Validation loss=%{x}<br>value=%{y}<extra></extra>",
         "legendgroup": "No Ans F1",
         "marker": {
          "color": "#00cc96",
          "symbol": "circle"
         },
         "mode": "markers",
         "name": "No Ans F1",
         "orientation": "v",
         "showlegend": true,
         "type": "scatter",
         "x": [
          0.25384944677352905,
          0.18973076343536377,
          0.17309004068374634,
          0.15600226819515228,
          0.1945904940366745,
          0.16883282363414764,
          0.14059442281723022,
          0.14741389453411102,
          0.1352337747812271,
          0.11296810209751129,
          0.15172502398490906,
          0.11347316205501556,
          0.15061576664447784,
          0.11722459644079208,
          0.14912623167037964,
          0.1534651517868042,
          0.13214337825775146,
          0.14973551034927368,
          0.13611845672130585,
          0.12756669521331787,
          0.12020357698202133,
          0.16347575187683105,
          0.09566701948642731,
          0.11870067566633224,
          0.12046556919813156,
          0.14326021075248718,
          0.12386302649974823,
          0.10337640345096588,
          0.11529805511236191,
          0.12519457936286926,
          0.14963151514530182,
          0.19439396262168884,
          0.20332454144954681,
          0.17379510402679443,
          0.1863466054201126,
          0.19384820759296417,
          0.24366417527198792,
          0.2521304488182068,
          0.2160719484090805,
          0.21359972655773163,
          0.28885218501091003,
          0.13452398777008057,
          0.19797858595848083,
          0.0744885578751564,
          0.1586439162492752,
          0.15354883670806885,
          0.08743424713611603,
          0.14741571247577667,
          0.17583459615707397,
          0.13694779574871063,
          0.14054034650325775,
          0.09945549815893173,
          0.14339067041873932,
          0.14417985081672668,
          0.14639897644519806,
          0.10884696245193481,
          0.12396688014268875,
          0.12669993937015533,
          0.12326731532812119,
          0.12351957708597183,
          0.301832377910614,
          0.11752191185951233,
          0.30496636033058167,
          0.11925596743822098,
          0.18000726401805878,
          0.14572741091251373,
          0.13655392825603485,
          0.1348586082458496,
          0.12757417559623718,
          0.11405333131551743,
          0.1408415585756302,
          0.10610217601060867,
          0.12143304944038391,
          0.12802231311798096
         ],
         "xaxis": "x",
         "y": [
          64.43158721923828,
          58.88359451293945,
          67.90333557128906,
          65.99727630615234,
          64.19332885742188,
          64.7038803100586,
          66.71205139160156,
          68.14159393310547,
          69.33287811279297,
          77.16133117675781,
          68.14159393310547,
          77.94418334960938,
          72.80462646484375,
          73.41728973388672,
          65.86112976074219,
          67.12049102783203,
          73.45132446289062,
          69.19673156738281,
          74.30224609375,
          69.91150665283203,
          82.60721588134766,
          73.21307373046875,
          81.92648315429688,
          75.56160736083984,
          79.81620025634766,
          72.39618682861328,
          81.62014770507812,
          80.66712188720703,
          78.55683898925781,
          76.71885681152344,
          79.98638153076172,
          76.34445190429688,
          76.99114990234375,
          76.48059844970703,
          78.5228042602539,
          78.4547348022461,
          77.80802917480469,
          76.54867553710938,
          79.06739044189453,
          79.78216552734375,
          53.335601806640625,
          72.80462646484375,
          58.032676696777344,
          84.17290496826172,
          61.70864486694336,
          67.22260284423828,
          83.52620697021484,
          67.4948959350586,
          60.00680923461914,
          65.99727630615234,
          69.84342956542969,
          74.98297882080078,
          68.07351684570312,
          67.7671890258789,
          68.20966339111328,
          76.24234008789062,
          75.69775390625,
          73.58747100830078,
          76.00408172607422,
          77.97821807861328,
          48.16201400756836,
          76.51463317871094,
          49.693668365478516,
          74.77876281738281,
          60.00680923461914,
          72.32811737060547,
          68.51599884033203,
          69.60517120361328,
          71.37508392333984,
          74.0980224609375,
          70.83049774169922,
          75.4935302734375,
          75.56160736083984,
          73.41728973388672
         ],
         "yaxis": "y"
        },
        {
         "hovertemplate": "variable=EM<br>Validation loss=%{x}<br>value=%{y}<extra></extra>",
         "legendgroup": "EM",
         "marker": {
          "color": "#ab63fa",
          "symbol": "circle"
         },
         "mode": "markers",
         "name": "EM",
         "orientation": "v",
         "showlegend": true,
         "type": "scatter",
         "x": [
          0.25384944677352905,
          0.18973076343536377,
          0.17309004068374634,
          0.15600226819515228,
          0.1945904940366745,
          0.16883282363414764,
          0.14059442281723022,
          0.14741389453411102,
          0.1352337747812271,
          0.11296810209751129,
          0.15172502398490906,
          0.11347316205501556,
          0.15061576664447784,
          0.11722459644079208,
          0.14912623167037964,
          0.1534651517868042,
          0.13214337825775146,
          0.14973551034927368,
          0.13611845672130585,
          0.12756669521331787,
          0.12020357698202133,
          0.16347575187683105,
          0.09566701948642731,
          0.11870067566633224,
          0.12046556919813156,
          0.14326021075248718,
          0.12386302649974823,
          0.10337640345096588,
          0.11529805511236191,
          0.12519457936286926,
          0.14963151514530182,
          0.19439396262168884,
          0.20332454144954681,
          0.17379510402679443,
          0.1863466054201126,
          0.19384820759296417,
          0.24366417527198792,
          0.2521304488182068,
          0.2160719484090805,
          0.21359972655773163,
          0.28885218501091003,
          0.13452398777008057,
          0.19797858595848083,
          0.0744885578751564,
          0.1586439162492752,
          0.15354883670806885,
          0.08743424713611603,
          0.14741571247577667,
          0.17583459615707397,
          0.13694779574871063,
          0.14054034650325775,
          0.09945549815893173,
          0.14339067041873932,
          0.14417985081672668,
          0.14639897644519806,
          0.10884696245193481,
          0.12396688014268875,
          0.12669993937015533,
          0.12326731532812119,
          0.12351957708597183,
          0.301832377910614,
          0.11752191185951233,
          0.30496636033058167,
          0.11925596743822098,
          0.18000726401805878,
          0.14572741091251373,
          0.13655392825603485,
          0.1348586082458496,
          0.12757417559623718,
          0.11405333131551743,
          0.1408415585756302,
          0.10610217601060867,
          0.12143304944038391,
          0.12802231311798096
         ],
         "xaxis": "x",
         "y": [
          58.44093704223633,
          60.951698303222656,
          67.28837585449219,
          65.99713134765625,
          64.94499969482422,
          65.68627166748047,
          67.1209945678711,
          67.86226654052734,
          68.29268646240234,
          74.7489242553711,
          68.0535659790039,
          75.15542602539062,
          71.28168487548828,
          71.11429595947266,
          66.3079833984375,
          67.88617706298828,
          72.23816680908203,
          69.44046020507812,
          72.71640014648438,
          69.918701171875,
          78.74222564697266,
          71.83165740966797,
          77.95313262939453,
          73.91200256347656,
          77.23577117919922,
          71.44906616210938,
          77.59445190429688,
          76.97274017333984,
          75.99234771728516,
          74.48589324951172,
          76.37493896484375,
          73.84027099609375,
          73.91200256347656,
          74.151123046875,
          75.37063598632812,
          75.29889678955078,
          74.58154296875,
          73.64897155761719,
          75.77713775634766,
          76.37493896484375,
          53.01291275024414,
          71.616455078125,
          60.56910705566406,
          78.95743560791016,
          63.84505081176758,
          67.43185424804688,
          79.26829528808594,
          68.19703674316406,
          61.979915618896484,
          68.12529754638672,
          69.89479064941406,
          73.31420135498047,
          67.76661682128906,
          68.8187484741211,
          68.72309875488281,
          74.07939147949219,
          74.05547332763672,
          72.85987854003906,
          74.19894409179688,
          75.94452667236328,
          51.2912483215332,
          73.0989990234375,
          54.758487701416016,
          72.95552062988281,
          62.74509811401367,
          71.09038543701172,
          68.57962799072266,
          69.01004028320312,
          70.10999298095703,
          72.64466857910156,
          70.44476318359375,
          73.50550079345703,
          73.57723236083984,
          72.30989837646484
         ],
         "yaxis": "y"
        },
        {
         "hovertemplate": "variable=F1<br>Validation loss=%{x}<br>value=%{y}<extra></extra>",
         "legendgroup": "F1",
         "marker": {
          "color": "#FFA15A",
          "symbol": "circle"
         },
         "mode": "markers",
         "name": "F1",
         "orientation": "v",
         "showlegend": true,
         "type": "scatter",
         "x": [
          0.25384944677352905,
          0.18973076343536377,
          0.17309004068374634,
          0.15600226819515228,
          0.1945904940366745,
          0.16883282363414764,
          0.14059442281723022,
          0.14741389453411102,
          0.1352337747812271,
          0.11296810209751129,
          0.15172502398490906,
          0.11347316205501556,
          0.15061576664447784,
          0.11722459644079208,
          0.14912623167037964,
          0.1534651517868042,
          0.13214337825775146,
          0.14973551034927368,
          0.13611845672130585,
          0.12756669521331787,
          0.12020357698202133,
          0.16347575187683105,
          0.09566701948642731,
          0.11870067566633224,
          0.12046556919813156,
          0.14326021075248718,
          0.12386302649974823,
          0.10337640345096588,
          0.11529805511236191,
          0.12519457936286926,
          0.14963151514530182,
          0.19439396262168884,
          0.20332454144954681,
          0.17379510402679443,
          0.1863466054201126,
          0.19384820759296417,
          0.24366417527198792,
          0.2521304488182068,
          0.2160719484090805,
          0.21359972655773163,
          0.28885218501091003,
          0.13452398777008057,
          0.19797858595848083,
          0.0744885578751564,
          0.1586439162492752,
          0.15354883670806885,
          0.08743424713611603,
          0.14741571247577667,
          0.17583459615707397,
          0.13694779574871063,
          0.14054034650325775,
          0.09945549815893173,
          0.14339067041873932,
          0.14417985081672668,
          0.14639897644519806,
          0.10884696245193481,
          0.12396688014268875,
          0.12669993937015533,
          0.12326731532812119,
          0.12351957708597183,
          0.301832377910614,
          0.11752191185951233,
          0.30496636033058167,
          0.11925596743822098,
          0.18000726401805878,
          0.14572741091251373,
          0.13655392825603485,
          0.1348586082458496,
          0.12757417559623718,
          0.11405333131551743,
          0.1408415585756302,
          0.10610217601060867,
          0.12143304944038391,
          0.12802231311798096
         ],
         "xaxis": "x",
         "y": [
          63.442447662353516,
          64.90675354003906,
          71.53507232666016,
          70.38345336914062,
          69.42436981201172,
          69.86184692382812,
          71.24681854248047,
          71.7473373413086,
          72.7753677368164,
          78.65399169921875,
          72.2931137084961,
          78.9308853149414,
          75.55509185791016,
          75.20765686035156,
          70.48077392578125,
          71.54174041748047,
          76.03295135498047,
          73.28811645507812,
          76.47891235351562,
          73.67340850830078,
          82.36620330810547,
          75.9763412475586,
          81.77749633789062,
          77.60502624511719,
          80.70331573486328,
          75.31878662109375,
          81.3739013671875,
          80.89640045166016,
          79.68389129638672,
          78.47909545898438,
          80.4553451538086,
          78.03055572509766,
          78.17259216308594,
          78.12348937988281,
          79.49144744873047,
          79.4012222290039,
          78.87080383300781,
          77.97026824951172,
          79.95729064941406,
          80.48088073730469,
          59.592987060546875,
          75.41400146484375,
          64.9843978881836,
          82.70328521728516,
          67.75222778320312,
          71.51004028320312,
          82.82402038574219,
          71.99026489257812,
          66.12857818603516,
          71.65866088867188,
          73.7221450805664,
          77.27725219726562,
          71.82524871826172,
          72.56898498535156,
          72.60332489013672,
          78.15825653076172,
          77.75629425048828,
          76.50865936279297,
          78.04312133789062,
          79.55170440673828,
          56.106170654296875,
          77.16738891601562,
          58.99538803100586,
          76.66419219970703,
          66.7243881225586,
          75.28218841552734,
          72.73570251464844,
          73.1241226196289,
          74.26001739501953,
          76.47749328613281,
          74.37260437011719,
          77.48299407958984,
          77.49920654296875,
          76.11298370361328
         ],
         "yaxis": "y"
        },
        {
         "hovertemplate": "variable=Prec @ 80%<br>Validation loss=%{x}<br>value=%{y}<extra></extra>",
         "legendgroup": "Prec @ 80%",
         "marker": {
          "color": "#19d3f3",
          "symbol": "circle"
         },
         "mode": "markers",
         "name": "Prec @ 80%",
         "orientation": "v",
         "showlegend": true,
         "type": "scatter",
         "x": [
          0.25384944677352905,
          0.18973076343536377,
          0.17309004068374634,
          0.15600226819515228,
          0.1945904940366745,
          0.16883282363414764,
          0.14059442281723022,
          0.14741389453411102,
          0.1352337747812271,
          0.11296810209751129,
          0.15172502398490906,
          0.11347316205501556,
          0.15061576664447784,
          0.11722459644079208,
          0.14912623167037964,
          0.1534651517868042,
          0.13214337825775146,
          0.14973551034927368,
          0.13611845672130585,
          0.12756669521331787,
          0.12020357698202133,
          0.16347575187683105,
          0.09566701948642731,
          0.11870067566633224,
          0.12046556919813156,
          0.14326021075248718,
          0.12386302649974823,
          0.10337640345096588,
          0.11529805511236191,
          0.12519457936286926,
          0.14963151514530182,
          0.19439396262168884,
          0.20332454144954681,
          0.17379510402679443,
          0.1863466054201126,
          0.19384820759296417,
          0.24366417527198792,
          0.2521304488182068,
          0.2160719484090805,
          0.21359972655773163,
          0.28885218501091003,
          0.13452398777008057,
          0.19797858595848083,
          0.0744885578751564,
          0.1586439162492752,
          0.15354883670806885,
          0.08743424713611603,
          0.14741571247577667,
          0.17583459615707397,
          0.13694779574871063,
          0.14054034650325775,
          0.09945549815893173,
          0.14339067041873932,
          0.14417985081672668,
          0.14639897644519806,
          0.10884696245193481,
          0.12396688014268875,
          0.12669993937015533,
          0.12326731532812119,
          0.12351957708597183,
          0.301832377910614,
          0.11752191185951233,
          0.30496636033058167,
          0.11925596743822098,
          0.18000726401805878,
          0.14572741091251373,
          0.13655392825603485,
          0.1348586082458496,
          0.12757417559623718,
          0.11405333131551743,
          0.1408415585756302,
          0.10610217601060867,
          0.12143304944038391,
          0.12802231311798096
         ],
         "xaxis": "x",
         "y": [
          0,
          18.798260390758514,
          20.130980014801025,
          21.4929461479187,
          22.574467957019806,
          23.943980038166046,
          27.82141864299774,
          23.95879477262497,
          29.536277055740356,
          35.1827472448349,
          30.68426251411438,
          37.27985918521881,
          29.571136832237244,
          20.168612897396088,
          31.06726109981537,
          33.006078004837036,
          33.32296311855316,
          34.677159786224365,
          35.65159738063812,
          33.61988067626953,
          29.21122908592224,
          37.14435398578644,
          29.46285307407379,
          36.666667461395264,
          32.712092995643616,
          37.570521235466,
          37.32394278049469,
          26.269888877868652,
          38.55140209197998,
          41.860923171043396,
          33.45898687839508,
          40.74145257472992,
          32.329049706459045,
          31.470420956611633,
          34.493571519851685,
          34.419551491737366,
          36.01456582546234,
          41.36718809604645,
          35.02230644226074,
          36.5841418504715,
          8.05041417479515,
          18.804319202899933,
          19.546562433242798,
          33.0470085144043,
          23.93486499786377,
          28.071796894073486,
          17.589809000492096,
          29.670941829681396,
          26.799196004867554,
          28.161293268203735,
          33.63707661628723,
          34.87958610057831,
          29.358428716659546,
          34.25343036651611,
          37.19832003116608,
          40.98043143749237,
          41.042470932006836,
          39.81051445007324,
          39.55922722816467,
          42.02670753002167,
          3.748265653848648,
          18.095478415489197,
          16.31905436515808,
          25.513091683387756,
          22.81624972820282,
          30.54882287979126,
          28.148245811462402,
          34.649911522865295,
          32.814666628837585,
          35.18151938915253,
          34.23452377319336,
          39.048489928245544,
          40.090858936309814,
          37.593984603881836
         ],
         "yaxis": "y"
        }
       ],
       "layout": {
        "legend": {
         "title": {
          "text": "variable"
         },
         "tracegroupgap": 0
        },
        "margin": {
         "t": 60
        },
        "template": {
         "data": {
          "bar": [
           {
            "error_x": {
             "color": "#2a3f5f"
            },
            "error_y": {
             "color": "#2a3f5f"
            },
            "marker": {
             "line": {
              "color": "#E5ECF6",
              "width": 0.5
             },
             "pattern": {
              "fillmode": "overlay",
              "size": 10,
              "solidity": 0.2
             }
            },
            "type": "bar"
           }
          ],
          "barpolar": [
           {
            "marker": {
             "line": {
              "color": "#E5ECF6",
              "width": 0.5
             },
             "pattern": {
              "fillmode": "overlay",
              "size": 10,
              "solidity": 0.2
             }
            },
            "type": "barpolar"
           }
          ],
          "carpet": [
           {
            "aaxis": {
             "endlinecolor": "#2a3f5f",
             "gridcolor": "white",
             "linecolor": "white",
             "minorgridcolor": "white",
             "startlinecolor": "#2a3f5f"
            },
            "baxis": {
             "endlinecolor": "#2a3f5f",
             "gridcolor": "white",
             "linecolor": "white",
             "minorgridcolor": "white",
             "startlinecolor": "#2a3f5f"
            },
            "type": "carpet"
           }
          ],
          "choropleth": [
           {
            "colorbar": {
             "outlinewidth": 0,
             "ticks": ""
            },
            "type": "choropleth"
           }
          ],
          "contour": [
           {
            "colorbar": {
             "outlinewidth": 0,
             "ticks": ""
            },
            "colorscale": [
             [
              0,
              "#0d0887"
             ],
             [
              0.1111111111111111,
              "#46039f"
             ],
             [
              0.2222222222222222,
              "#7201a8"
             ],
             [
              0.3333333333333333,
              "#9c179e"
             ],
             [
              0.4444444444444444,
              "#bd3786"
             ],
             [
              0.5555555555555556,
              "#d8576b"
             ],
             [
              0.6666666666666666,
              "#ed7953"
             ],
             [
              0.7777777777777778,
              "#fb9f3a"
             ],
             [
              0.8888888888888888,
              "#fdca26"
             ],
             [
              1,
              "#f0f921"
             ]
            ],
            "type": "contour"
           }
          ],
          "contourcarpet": [
           {
            "colorbar": {
             "outlinewidth": 0,
             "ticks": ""
            },
            "type": "contourcarpet"
           }
          ],
          "heatmap": [
           {
            "colorbar": {
             "outlinewidth": 0,
             "ticks": ""
            },
            "colorscale": [
             [
              0,
              "#0d0887"
             ],
             [
              0.1111111111111111,
              "#46039f"
             ],
             [
              0.2222222222222222,
              "#7201a8"
             ],
             [
              0.3333333333333333,
              "#9c179e"
             ],
             [
              0.4444444444444444,
              "#bd3786"
             ],
             [
              0.5555555555555556,
              "#d8576b"
             ],
             [
              0.6666666666666666,
              "#ed7953"
             ],
             [
              0.7777777777777778,
              "#fb9f3a"
             ],
             [
              0.8888888888888888,
              "#fdca26"
             ],
             [
              1,
              "#f0f921"
             ]
            ],
            "type": "heatmap"
           }
          ],
          "heatmapgl": [
           {
            "colorbar": {
             "outlinewidth": 0,
             "ticks": ""
            },
            "colorscale": [
             [
              0,
              "#0d0887"
             ],
             [
              0.1111111111111111,
              "#46039f"
             ],
             [
              0.2222222222222222,
              "#7201a8"
             ],
             [
              0.3333333333333333,
              "#9c179e"
             ],
             [
              0.4444444444444444,
              "#bd3786"
             ],
             [
              0.5555555555555556,
              "#d8576b"
             ],
             [
              0.6666666666666666,
              "#ed7953"
             ],
             [
              0.7777777777777778,
              "#fb9f3a"
             ],
             [
              0.8888888888888888,
              "#fdca26"
             ],
             [
              1,
              "#f0f921"
             ]
            ],
            "type": "heatmapgl"
           }
          ],
          "histogram": [
           {
            "marker": {
             "pattern": {
              "fillmode": "overlay",
              "size": 10,
              "solidity": 0.2
             }
            },
            "type": "histogram"
           }
          ],
          "histogram2d": [
           {
            "colorbar": {
             "outlinewidth": 0,
             "ticks": ""
            },
            "colorscale": [
             [
              0,
              "#0d0887"
             ],
             [
              0.1111111111111111,
              "#46039f"
             ],
             [
              0.2222222222222222,
              "#7201a8"
             ],
             [
              0.3333333333333333,
              "#9c179e"
             ],
             [
              0.4444444444444444,
              "#bd3786"
             ],
             [
              0.5555555555555556,
              "#d8576b"
             ],
             [
              0.6666666666666666,
              "#ed7953"
             ],
             [
              0.7777777777777778,
              "#fb9f3a"
             ],
             [
              0.8888888888888888,
              "#fdca26"
             ],
             [
              1,
              "#f0f921"
             ]
            ],
            "type": "histogram2d"
           }
          ],
          "histogram2dcontour": [
           {
            "colorbar": {
             "outlinewidth": 0,
             "ticks": ""
            },
            "colorscale": [
             [
              0,
              "#0d0887"
             ],
             [
              0.1111111111111111,
              "#46039f"
             ],
             [
              0.2222222222222222,
              "#7201a8"
             ],
             [
              0.3333333333333333,
              "#9c179e"
             ],
             [
              0.4444444444444444,
              "#bd3786"
             ],
             [
              0.5555555555555556,
              "#d8576b"
             ],
             [
              0.6666666666666666,
              "#ed7953"
             ],
             [
              0.7777777777777778,
              "#fb9f3a"
             ],
             [
              0.8888888888888888,
              "#fdca26"
             ],
             [
              1,
              "#f0f921"
             ]
            ],
            "type": "histogram2dcontour"
           }
          ],
          "mesh3d": [
           {
            "colorbar": {
             "outlinewidth": 0,
             "ticks": ""
            },
            "type": "mesh3d"
           }
          ],
          "parcoords": [
           {
            "line": {
             "colorbar": {
              "outlinewidth": 0,
              "ticks": ""
             }
            },
            "type": "parcoords"
           }
          ],
          "pie": [
           {
            "automargin": true,
            "type": "pie"
           }
          ],
          "scatter": [
           {
            "fillpattern": {
             "fillmode": "overlay",
             "size": 10,
             "solidity": 0.2
            },
            "type": "scatter"
           }
          ],
          "scatter3d": [
           {
            "line": {
             "colorbar": {
              "outlinewidth": 0,
              "ticks": ""
             }
            },
            "marker": {
             "colorbar": {
              "outlinewidth": 0,
              "ticks": ""
             }
            },
            "type": "scatter3d"
           }
          ],
          "scattercarpet": [
           {
            "marker": {
             "colorbar": {
              "outlinewidth": 0,
              "ticks": ""
             }
            },
            "type": "scattercarpet"
           }
          ],
          "scattergeo": [
           {
            "marker": {
             "colorbar": {
              "outlinewidth": 0,
              "ticks": ""
             }
            },
            "type": "scattergeo"
           }
          ],
          "scattergl": [
           {
            "marker": {
             "colorbar": {
              "outlinewidth": 0,
              "ticks": ""
             }
            },
            "type": "scattergl"
           }
          ],
          "scattermapbox": [
           {
            "marker": {
             "colorbar": {
              "outlinewidth": 0,
              "ticks": ""
             }
            },
            "type": "scattermapbox"
           }
          ],
          "scatterpolar": [
           {
            "marker": {
             "colorbar": {
              "outlinewidth": 0,
              "ticks": ""
             }
            },
            "type": "scatterpolar"
           }
          ],
          "scatterpolargl": [
           {
            "marker": {
             "colorbar": {
              "outlinewidth": 0,
              "ticks": ""
             }
            },
            "type": "scatterpolargl"
           }
          ],
          "scatterternary": [
           {
            "marker": {
             "colorbar": {
              "outlinewidth": 0,
              "ticks": ""
             }
            },
            "type": "scatterternary"
           }
          ],
          "surface": [
           {
            "colorbar": {
             "outlinewidth": 0,
             "ticks": ""
            },
            "colorscale": [
             [
              0,
              "#0d0887"
             ],
             [
              0.1111111111111111,
              "#46039f"
             ],
             [
              0.2222222222222222,
              "#7201a8"
             ],
             [
              0.3333333333333333,
              "#9c179e"
             ],
             [
              0.4444444444444444,
              "#bd3786"
             ],
             [
              0.5555555555555556,
              "#d8576b"
             ],
             [
              0.6666666666666666,
              "#ed7953"
             ],
             [
              0.7777777777777778,
              "#fb9f3a"
             ],
             [
              0.8888888888888888,
              "#fdca26"
             ],
             [
              1,
              "#f0f921"
             ]
            ],
            "type": "surface"
           }
          ],
          "table": [
           {
            "cells": {
             "fill": {
              "color": "#EBF0F8"
             },
             "line": {
              "color": "white"
             }
            },
            "header": {
             "fill": {
              "color": "#C8D4E3"
             },
             "line": {
              "color": "white"
             }
            },
            "type": "table"
           }
          ]
         },
         "layout": {
          "annotationdefaults": {
           "arrowcolor": "#2a3f5f",
           "arrowhead": 0,
           "arrowwidth": 1
          },
          "autotypenumbers": "strict",
          "coloraxis": {
           "colorbar": {
            "outlinewidth": 0,
            "ticks": ""
           }
          },
          "colorscale": {
           "diverging": [
            [
             0,
             "#8e0152"
            ],
            [
             0.1,
             "#c51b7d"
            ],
            [
             0.2,
             "#de77ae"
            ],
            [
             0.3,
             "#f1b6da"
            ],
            [
             0.4,
             "#fde0ef"
            ],
            [
             0.5,
             "#f7f7f7"
            ],
            [
             0.6,
             "#e6f5d0"
            ],
            [
             0.7,
             "#b8e186"
            ],
            [
             0.8,
             "#7fbc41"
            ],
            [
             0.9,
             "#4d9221"
            ],
            [
             1,
             "#276419"
            ]
           ],
           "sequential": [
            [
             0,
             "#0d0887"
            ],
            [
             0.1111111111111111,
             "#46039f"
            ],
            [
             0.2222222222222222,
             "#7201a8"
            ],
            [
             0.3333333333333333,
             "#9c179e"
            ],
            [
             0.4444444444444444,
             "#bd3786"
            ],
            [
             0.5555555555555556,
             "#d8576b"
            ],
            [
             0.6666666666666666,
             "#ed7953"
            ],
            [
             0.7777777777777778,
             "#fb9f3a"
            ],
            [
             0.8888888888888888,
             "#fdca26"
            ],
            [
             1,
             "#f0f921"
            ]
           ],
           "sequentialminus": [
            [
             0,
             "#0d0887"
            ],
            [
             0.1111111111111111,
             "#46039f"
            ],
            [
             0.2222222222222222,
             "#7201a8"
            ],
            [
             0.3333333333333333,
             "#9c179e"
            ],
            [
             0.4444444444444444,
             "#bd3786"
            ],
            [
             0.5555555555555556,
             "#d8576b"
            ],
            [
             0.6666666666666666,
             "#ed7953"
            ],
            [
             0.7777777777777778,
             "#fb9f3a"
            ],
            [
             0.8888888888888888,
             "#fdca26"
            ],
            [
             1,
             "#f0f921"
            ]
           ]
          },
          "colorway": [
           "#636efa",
           "#EF553B",
           "#00cc96",
           "#ab63fa",
           "#FFA15A",
           "#19d3f3",
           "#FF6692",
           "#B6E880",
           "#FF97FF",
           "#FECB52"
          ],
          "font": {
           "color": "#2a3f5f"
          },
          "geo": {
           "bgcolor": "white",
           "lakecolor": "white",
           "landcolor": "#E5ECF6",
           "showlakes": true,
           "showland": true,
           "subunitcolor": "white"
          },
          "hoverlabel": {
           "align": "left"
          },
          "hovermode": "closest",
          "mapbox": {
           "style": "light"
          },
          "paper_bgcolor": "white",
          "plot_bgcolor": "#E5ECF6",
          "polar": {
           "angularaxis": {
            "gridcolor": "white",
            "linecolor": "white",
            "ticks": ""
           },
           "bgcolor": "#E5ECF6",
           "radialaxis": {
            "gridcolor": "white",
            "linecolor": "white",
            "ticks": ""
           }
          },
          "scene": {
           "xaxis": {
            "backgroundcolor": "#E5ECF6",
            "gridcolor": "white",
            "gridwidth": 2,
            "linecolor": "white",
            "showbackground": true,
            "ticks": "",
            "zerolinecolor": "white"
           },
           "yaxis": {
            "backgroundcolor": "#E5ECF6",
            "gridcolor": "white",
            "gridwidth": 2,
            "linecolor": "white",
            "showbackground": true,
            "ticks": "",
            "zerolinecolor": "white"
           },
           "zaxis": {
            "backgroundcolor": "#E5ECF6",
            "gridcolor": "white",
            "gridwidth": 2,
            "linecolor": "white",
            "showbackground": true,
            "ticks": "",
            "zerolinecolor": "white"
           }
          },
          "shapedefaults": {
           "line": {
            "color": "#2a3f5f"
           }
          },
          "ternary": {
           "aaxis": {
            "gridcolor": "white",
            "linecolor": "white",
            "ticks": ""
           },
           "baxis": {
            "gridcolor": "white",
            "linecolor": "white",
            "ticks": ""
           },
           "bgcolor": "#E5ECF6",
           "caxis": {
            "gridcolor": "white",
            "linecolor": "white",
            "ticks": ""
           }
          },
          "title": {
           "x": 0.05
          },
          "xaxis": {
           "automargin": true,
           "gridcolor": "white",
           "linecolor": "white",
           "ticks": "",
           "title": {
            "standoff": 15
           },
           "zerolinecolor": "white",
           "zerolinewidth": 2
          },
          "yaxis": {
           "automargin": true,
           "gridcolor": "white",
           "linecolor": "white",
           "ticks": "",
           "title": {
            "standoff": 15
           },
           "zerolinecolor": "white",
           "zerolinewidth": 2
          }
         }
        },
        "width": 500,
        "xaxis": {
         "anchor": "y",
         "domain": [
          0,
          1
         ],
         "title": {
          "text": "Validation loss"
         }
        },
        "yaxis": {
         "anchor": "x",
         "domain": [
          0,
          1
         ],
         "title": {
          "text": "value"
         }
        }
       }
      }
     },
     "metadata": {},
     "output_type": "display_data"
    },
    {
     "data": {
      "text/plain": [
       "<Figure size 640x480 with 0 Axes>"
      ]
     },
     "metadata": {},
     "output_type": "display_data"
    }
   ],
   "source": [
    "plt.figure(figsize=(8, 6), dpi=80)\n",
    "df_p2.plot(    kind='scatter',\n",
    "    x='Validation loss', \n",
    "    y=df_p2.columns, \n",
    "    backend='plotly', \n",
    "    width=500)"
   ]
  }
 ],
 "metadata": {
  "interpreter": {
   "hash": "f263b30b47212596c6dca0cd91fb0c51f07ee748dab3d0cfddddb639cf5b7790"
  },
  "kernelspec": {
   "display_name": "Python 3.8.13 ('test4')",
   "language": "python",
   "name": "python3"
  },
  "language_info": {
   "codemirror_mode": {
    "name": "ipython",
    "version": 3
   },
   "file_extension": ".py",
   "mimetype": "text/x-python",
   "name": "python",
   "nbconvert_exporter": "python",
   "pygments_lexer": "ipython3",
   "version": "3.8.13"
  },
  "orig_nbformat": 4
 },
 "nbformat": 4,
 "nbformat_minor": 2
}

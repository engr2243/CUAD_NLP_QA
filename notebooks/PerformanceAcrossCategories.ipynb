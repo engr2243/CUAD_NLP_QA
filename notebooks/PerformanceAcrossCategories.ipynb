{
 "cells": [
  {
   "cell_type": "markdown",
   "metadata": {},
   "source": [
    "# Performance across categories\n",
    "\n",
    "This notebook relates to the performance across categories section of the associated master thesis'"
   ]
  },
  {
   "cell_type": "markdown",
   "metadata": {},
   "source": [
    "Load in examples and predictions"
   ]
  },
  {
   "cell_type": "code",
   "execution_count": 1,
   "metadata": {},
   "outputs": [],
   "source": [
    "import torch\n",
    "import pandas as pd\n",
    "import json"
   ]
  },
  {
   "cell_type": "code",
   "execution_count": 2,
   "metadata": {},
   "outputs": [],
   "source": [
    "examples_path = \"../cuad_training/cuad_lightning/out/dataset-name_CUAD_model-type_roberta_only-first-ans_True_doc-stride_256_dataset-type_eval_predict-file-version_test_examples\"\n",
    "examples = torch.load(examples_path)\n",
    "\n",
    "prediction_path = \"../cuad_training/cuad_lightning/out/predictions/dataset-name_CUAD_model-type_roberta_only-first-ans_True_doc-stride_256_dataset-type_eval_predict-file-version_test_predtype_test_model-name_test23_global-step_0_epoch0_nbest_predictions.json\"\n",
    "with open(prediction_path, \"r\") as f:\n",
    "    preds = json.load(f)\n",
    "\n",
    "json_test_dict_path = \"../data/test.json\"\n",
    "with open(json_test_dict_path, \"r\") as f:\n",
    "    json_test_dict = json.load(f)"
   ]
  },
  {
   "cell_type": "markdown",
   "metadata": {},
   "source": [
    "Import the evaluation stuff"
   ]
  },
  {
   "cell_type": "code",
   "execution_count": 3,
   "metadata": {},
   "outputs": [],
   "source": [
    "import sys\n",
    "# insert at 1, 0 is the script path (or '' in REPL)\n",
    "sys.path.insert(1, '../cuad_training/cuad_lightning/')\n",
    "from utils import get_raw_scores_nbest, apply_no_ans_threshold,make_eval_dict,merge_eval,find_all_best_thresh"
   ]
  },
  {
   "cell_type": "code",
   "execution_count": 4,
   "metadata": {},
   "outputs": [],
   "source": [
    "def squad_evaluate_nbest(examples, n_best_path, no_answer_probs=None, no_answer_probability_threshold=1.0, n_best_size=3):\n",
    "    \"\"\"Just like squad_evaluate, but instead allowing for nbest predictions which just the best score\n",
    "\n",
    "    Args:\n",
    "        examples (_type_): Squad examples\n",
    "        n_best_path (_type_): path to the best nbest predictions file\n",
    "        no_answer_probs (_type_, optional): same. Defaults to None.\n",
    "        no_answer_probability_threshold (float, optional): same. Defaults to 1.0.\n",
    "        n_best_size (int, optional): How many predictions to look at. Defaults to 3.\n",
    "\n",
    "    Returns:\n",
    "        _type_: _description_\n",
    "    \"\"\"\n",
    "    # load preds\n",
    "    with open(n_best_path, 'r') as f:\n",
    "        preds = json.load(f)\n",
    "\n",
    "    qas_id_to_has_answer = {example.qas_id: bool(\n",
    "        example.answers) for example in examples}\n",
    "    has_answer_qids = [qas_id for qas_id,\n",
    "                       has_answer in qas_id_to_has_answer.items() if has_answer]\n",
    "    no_answer_qids = [qas_id for qas_id,\n",
    "                      has_answer in qas_id_to_has_answer.items() if not has_answer]\n",
    "\n",
    "    if no_answer_probs is None:\n",
    "        no_answer_probs = {k: 0.0 for k in preds}\n",
    "\n",
    "    exact, f1 = get_raw_scores_nbest(examples, preds, n_best_size)\n",
    "\n",
    "    exact_threshold = apply_no_ans_threshold(\n",
    "        exact, no_answer_probs, qas_id_to_has_answer, no_answer_probability_threshold\n",
    "    )\n",
    "    f1_threshold = apply_no_ans_threshold(\n",
    "        f1, no_answer_probs, qas_id_to_has_answer, no_answer_probability_threshold)\n",
    "\n",
    "    evaluation = make_eval_dict(exact_threshold, f1_threshold)\n",
    "\n",
    "    if has_answer_qids:\n",
    "        has_ans_eval = make_eval_dict(\n",
    "            exact_threshold, f1_threshold, qid_list=has_answer_qids)\n",
    "        merge_eval(evaluation, has_ans_eval, \"HasAns\")\n",
    "\n",
    "    if no_answer_qids:\n",
    "        no_ans_eval = make_eval_dict(\n",
    "            exact_threshold, f1_threshold, qid_list=no_answer_qids)\n",
    "        merge_eval(evaluation, no_ans_eval, \"NoAns\")\n",
    "\n",
    "    if no_answer_probs:\n",
    "        find_all_best_thresh(evaluation, preds, exact, f1,\n",
    "                             no_answer_probs, qas_id_to_has_answer)\n",
    "\n",
    "    return evaluation, exact, f1"
   ]
  },
  {
   "cell_type": "code",
   "execution_count": 5,
   "metadata": {},
   "outputs": [],
   "source": [
    "eval, exact, f1 = squad_evaluate_nbest(examples, prediction_path)"
   ]
  },
  {
   "cell_type": "code",
   "execution_count": 6,
   "metadata": {},
   "outputs": [],
   "source": [
    "# create the nbest=1 df\n",
    "data = []\n",
    "for k,v in exact.items():\n",
    "    # question name, question type, value, category\n",
    "    data.append([k,k.split(\"__\")[1],v,\"em nbest=1\"])\n",
    "\n",
    "for k,v in f1.items():\n",
    "    # question name, question type, value, category\n",
    "    data.append([k,k.split(\"__\")[1],v,\"f1 nbest=1\"])\n",
    "\n",
    "eval, exact, f1 = squad_evaluate_nbest(examples, prediction_path, n_best_size=3)\n",
    "\n",
    "# add the nbest=3 to df\n",
    "for k,v in exact.items():\n",
    "    # question name, question type, value, category\n",
    "    data.append([k,k.split(\"__\")[1],v,\"em nbest=3\"])\n",
    "\n",
    "for k,v in f1.items():\n",
    "    # question name, question type, value, category\n",
    "    data.append([k,k.split(\"__\")[1],v,\"f1 nbest=3\"])"
   ]
  },
  {
   "cell_type": "markdown",
   "metadata": {},
   "source": [
    "Add aupr to the mix"
   ]
  },
  {
   "cell_type": "code",
   "execution_count": 7,
   "metadata": {},
   "outputs": [],
   "source": [
    "from evaluate import get_results,get_answers"
   ]
  },
  {
   "cell_type": "code",
   "execution_count": 8,
   "metadata": {},
   "outputs": [
    {
     "name": "stdout",
     "output_type": "stream",
     "text": [
      "Removing 4 examples with answers\n",
      "Removing 4 examples with answers\n",
      "Removing 4 examples with answers\n",
      "Removing 4 examples with answers\n",
      "Removing 4 examples with answers\n"
     ]
    }
   ],
   "source": [
    "# fake args class\n",
    "class Args:\n",
    "    def __init__(self):       \n",
    "        self.model_name = 3\n",
    "        self.model_version = 1.0\n",
    "# Iterate question types and calculate the results\n",
    "\n",
    "aupr_data = []\n",
    "for question_type in [x.split(\"__\")[1] for x in preds.keys()]:\n",
    "    gt_dict = get_answers(json_test_dict)\n",
    "    rs = get_results(Args(), prediction_path, gt_dict, gt_dict_extract_answers=False, filter=question_type)\n",
    "    aupr_data.append([question_type,'aupr',rs['aupr']])\n",
    "gt_dict = get_answers(json_test_dict)\n"
   ]
  },
  {
   "cell_type": "code",
   "execution_count": 9,
   "metadata": {},
   "outputs": [],
   "source": [
    "df = pd.DataFrame(data, columns=[\"question_name\",\"question_type\",\"value\",\"category\"])"
   ]
  },
  {
   "cell_type": "code",
   "execution_count": 10,
   "metadata": {},
   "outputs": [],
   "source": [
    "df = df.groupby([\"question_type\",\"category\"]).mean().reset_index()\n",
    "df2 = pd.DataFrame(aupr_data, columns=[\"question_type\",\"category\",\"value\"])\n",
    "df_final = pd.concat([df, df2])"
   ]
  },
  {
   "cell_type": "code",
   "execution_count": 13,
   "metadata": {},
   "outputs": [
    {
     "data": {
      "application/vnd.plotly.v1+json": {
       "config": {
        "plotlyServerURL": "https://plot.ly"
       },
       "data": [
        {
         "alignmentgroup": "True",
         "bingroup": "y",
         "histfunc": "sum",
         "hovertemplate": "category=aupr<br>sum of value=%{x}<br>question_type=%{y}<extra></extra>",
         "legendgroup": "aupr",
         "marker": {
          "color": "#636efa",
          "pattern": {
           "shape": ""
          }
         },
         "name": "aupr",
         "offsetgroup": "aupr",
         "orientation": "h",
         "showlegend": true,
         "type": "histogram",
         "x": [
          0,
          0.3333333333333333,
          0.75,
          0.925,
          0.9583333333333333
         ],
         "xaxis": "x",
         "y": [
          "Non-Transferable License",
          "Document Name",
          "License Grant",
          "Unlimited/All-You-Can-Eat-License",
          "Exclusivity"
         ],
         "yaxis": "y"
        },
        {
         "alignmentgroup": "True",
         "bingroup": "y",
         "histfunc": "sum",
         "hovertemplate": "category=em nbest=1<br>sum of value=%{x}<br>question_type=%{y}<extra></extra>",
         "legendgroup": "em nbest=1",
         "marker": {
          "color": "#EF553B",
          "pattern": {
           "shape": ""
          }
         },
         "name": "em nbest=1",
         "offsetgroup": "em nbest=1",
         "orientation": "h",
         "showlegend": true,
         "type": "histogram",
         "x": [
          0,
          1,
          1,
          1,
          1
         ],
         "xaxis": "x",
         "y": [
          "Non-Transferable License",
          "Document Name",
          "Exclusivity",
          "License Grant",
          "Unlimited/All-You-Can-Eat-License"
         ],
         "yaxis": "y"
        },
        {
         "alignmentgroup": "True",
         "bingroup": "y",
         "histfunc": "sum",
         "hovertemplate": "category=em nbest=3<br>sum of value=%{x}<br>question_type=%{y}<extra></extra>",
         "legendgroup": "em nbest=3",
         "marker": {
          "color": "#00cc96",
          "pattern": {
           "shape": ""
          }
         },
         "name": "em nbest=3",
         "offsetgroup": "em nbest=3",
         "orientation": "h",
         "showlegend": true,
         "type": "histogram",
         "x": [
          0,
          1,
          1,
          1,
          1
         ],
         "xaxis": "x",
         "y": [
          "Non-Transferable License",
          "Document Name",
          "Exclusivity",
          "License Grant",
          "Unlimited/All-You-Can-Eat-License"
         ],
         "yaxis": "y"
        },
        {
         "alignmentgroup": "True",
         "bingroup": "y",
         "histfunc": "sum",
         "hovertemplate": "category=f1 nbest=1<br>sum of value=%{x}<br>question_type=%{y}<extra></extra>",
         "legendgroup": "f1 nbest=1",
         "marker": {
          "color": "#ab63fa",
          "pattern": {
           "shape": ""
          }
         },
         "name": "f1 nbest=1",
         "offsetgroup": "f1 nbest=1",
         "orientation": "h",
         "showlegend": true,
         "type": "histogram",
         "x": [
          0,
          1,
          1,
          1,
          1
         ],
         "xaxis": "x",
         "y": [
          "Non-Transferable License",
          "Document Name",
          "Exclusivity",
          "License Grant",
          "Unlimited/All-You-Can-Eat-License"
         ],
         "yaxis": "y"
        },
        {
         "alignmentgroup": "True",
         "bingroup": "y",
         "histfunc": "sum",
         "hovertemplate": "category=f1 nbest=3<br>sum of value=%{x}<br>question_type=%{y}<extra></extra>",
         "legendgroup": "f1 nbest=3",
         "marker": {
          "color": "#FFA15A",
          "pattern": {
           "shape": ""
          }
         },
         "name": "f1 nbest=3",
         "offsetgroup": "f1 nbest=3",
         "orientation": "h",
         "showlegend": true,
         "type": "histogram",
         "x": [
          0,
          1,
          1,
          1,
          1
         ],
         "xaxis": "x",
         "y": [
          "Non-Transferable License",
          "Document Name",
          "Exclusivity",
          "License Grant",
          "Unlimited/All-You-Can-Eat-License"
         ],
         "yaxis": "y"
        }
       ],
       "layout": {
        "barmode": "group",
        "legend": {
         "title": {
          "text": "category"
         },
         "tracegroupgap": 0
        },
        "margin": {
         "t": 60
        },
        "template": {
         "data": {
          "bar": [
           {
            "error_x": {
             "color": "#2a3f5f"
            },
            "error_y": {
             "color": "#2a3f5f"
            },
            "marker": {
             "line": {
              "color": "#E5ECF6",
              "width": 0.5
             },
             "pattern": {
              "fillmode": "overlay",
              "size": 10,
              "solidity": 0.2
             }
            },
            "type": "bar"
           }
          ],
          "barpolar": [
           {
            "marker": {
             "line": {
              "color": "#E5ECF6",
              "width": 0.5
             },
             "pattern": {
              "fillmode": "overlay",
              "size": 10,
              "solidity": 0.2
             }
            },
            "type": "barpolar"
           }
          ],
          "carpet": [
           {
            "aaxis": {
             "endlinecolor": "#2a3f5f",
             "gridcolor": "white",
             "linecolor": "white",
             "minorgridcolor": "white",
             "startlinecolor": "#2a3f5f"
            },
            "baxis": {
             "endlinecolor": "#2a3f5f",
             "gridcolor": "white",
             "linecolor": "white",
             "minorgridcolor": "white",
             "startlinecolor": "#2a3f5f"
            },
            "type": "carpet"
           }
          ],
          "choropleth": [
           {
            "colorbar": {
             "outlinewidth": 0,
             "ticks": ""
            },
            "type": "choropleth"
           }
          ],
          "contour": [
           {
            "colorbar": {
             "outlinewidth": 0,
             "ticks": ""
            },
            "colorscale": [
             [
              0,
              "#0d0887"
             ],
             [
              0.1111111111111111,
              "#46039f"
             ],
             [
              0.2222222222222222,
              "#7201a8"
             ],
             [
              0.3333333333333333,
              "#9c179e"
             ],
             [
              0.4444444444444444,
              "#bd3786"
             ],
             [
              0.5555555555555556,
              "#d8576b"
             ],
             [
              0.6666666666666666,
              "#ed7953"
             ],
             [
              0.7777777777777778,
              "#fb9f3a"
             ],
             [
              0.8888888888888888,
              "#fdca26"
             ],
             [
              1,
              "#f0f921"
             ]
            ],
            "type": "contour"
           }
          ],
          "contourcarpet": [
           {
            "colorbar": {
             "outlinewidth": 0,
             "ticks": ""
            },
            "type": "contourcarpet"
           }
          ],
          "heatmap": [
           {
            "colorbar": {
             "outlinewidth": 0,
             "ticks": ""
            },
            "colorscale": [
             [
              0,
              "#0d0887"
             ],
             [
              0.1111111111111111,
              "#46039f"
             ],
             [
              0.2222222222222222,
              "#7201a8"
             ],
             [
              0.3333333333333333,
              "#9c179e"
             ],
             [
              0.4444444444444444,
              "#bd3786"
             ],
             [
              0.5555555555555556,
              "#d8576b"
             ],
             [
              0.6666666666666666,
              "#ed7953"
             ],
             [
              0.7777777777777778,
              "#fb9f3a"
             ],
             [
              0.8888888888888888,
              "#fdca26"
             ],
             [
              1,
              "#f0f921"
             ]
            ],
            "type": "heatmap"
           }
          ],
          "heatmapgl": [
           {
            "colorbar": {
             "outlinewidth": 0,
             "ticks": ""
            },
            "colorscale": [
             [
              0,
              "#0d0887"
             ],
             [
              0.1111111111111111,
              "#46039f"
             ],
             [
              0.2222222222222222,
              "#7201a8"
             ],
             [
              0.3333333333333333,
              "#9c179e"
             ],
             [
              0.4444444444444444,
              "#bd3786"
             ],
             [
              0.5555555555555556,
              "#d8576b"
             ],
             [
              0.6666666666666666,
              "#ed7953"
             ],
             [
              0.7777777777777778,
              "#fb9f3a"
             ],
             [
              0.8888888888888888,
              "#fdca26"
             ],
             [
              1,
              "#f0f921"
             ]
            ],
            "type": "heatmapgl"
           }
          ],
          "histogram": [
           {
            "marker": {
             "pattern": {
              "fillmode": "overlay",
              "size": 10,
              "solidity": 0.2
             }
            },
            "type": "histogram"
           }
          ],
          "histogram2d": [
           {
            "colorbar": {
             "outlinewidth": 0,
             "ticks": ""
            },
            "colorscale": [
             [
              0,
              "#0d0887"
             ],
             [
              0.1111111111111111,
              "#46039f"
             ],
             [
              0.2222222222222222,
              "#7201a8"
             ],
             [
              0.3333333333333333,
              "#9c179e"
             ],
             [
              0.4444444444444444,
              "#bd3786"
             ],
             [
              0.5555555555555556,
              "#d8576b"
             ],
             [
              0.6666666666666666,
              "#ed7953"
             ],
             [
              0.7777777777777778,
              "#fb9f3a"
             ],
             [
              0.8888888888888888,
              "#fdca26"
             ],
             [
              1,
              "#f0f921"
             ]
            ],
            "type": "histogram2d"
           }
          ],
          "histogram2dcontour": [
           {
            "colorbar": {
             "outlinewidth": 0,
             "ticks": ""
            },
            "colorscale": [
             [
              0,
              "#0d0887"
             ],
             [
              0.1111111111111111,
              "#46039f"
             ],
             [
              0.2222222222222222,
              "#7201a8"
             ],
             [
              0.3333333333333333,
              "#9c179e"
             ],
             [
              0.4444444444444444,
              "#bd3786"
             ],
             [
              0.5555555555555556,
              "#d8576b"
             ],
             [
              0.6666666666666666,
              "#ed7953"
             ],
             [
              0.7777777777777778,
              "#fb9f3a"
             ],
             [
              0.8888888888888888,
              "#fdca26"
             ],
             [
              1,
              "#f0f921"
             ]
            ],
            "type": "histogram2dcontour"
           }
          ],
          "mesh3d": [
           {
            "colorbar": {
             "outlinewidth": 0,
             "ticks": ""
            },
            "type": "mesh3d"
           }
          ],
          "parcoords": [
           {
            "line": {
             "colorbar": {
              "outlinewidth": 0,
              "ticks": ""
             }
            },
            "type": "parcoords"
           }
          ],
          "pie": [
           {
            "automargin": true,
            "type": "pie"
           }
          ],
          "scatter": [
           {
            "fillpattern": {
             "fillmode": "overlay",
             "size": 10,
             "solidity": 0.2
            },
            "type": "scatter"
           }
          ],
          "scatter3d": [
           {
            "line": {
             "colorbar": {
              "outlinewidth": 0,
              "ticks": ""
             }
            },
            "marker": {
             "colorbar": {
              "outlinewidth": 0,
              "ticks": ""
             }
            },
            "type": "scatter3d"
           }
          ],
          "scattercarpet": [
           {
            "marker": {
             "colorbar": {
              "outlinewidth": 0,
              "ticks": ""
             }
            },
            "type": "scattercarpet"
           }
          ],
          "scattergeo": [
           {
            "marker": {
             "colorbar": {
              "outlinewidth": 0,
              "ticks": ""
             }
            },
            "type": "scattergeo"
           }
          ],
          "scattergl": [
           {
            "marker": {
             "colorbar": {
              "outlinewidth": 0,
              "ticks": ""
             }
            },
            "type": "scattergl"
           }
          ],
          "scattermapbox": [
           {
            "marker": {
             "colorbar": {
              "outlinewidth": 0,
              "ticks": ""
             }
            },
            "type": "scattermapbox"
           }
          ],
          "scatterpolar": [
           {
            "marker": {
             "colorbar": {
              "outlinewidth": 0,
              "ticks": ""
             }
            },
            "type": "scatterpolar"
           }
          ],
          "scatterpolargl": [
           {
            "marker": {
             "colorbar": {
              "outlinewidth": 0,
              "ticks": ""
             }
            },
            "type": "scatterpolargl"
           }
          ],
          "scatterternary": [
           {
            "marker": {
             "colorbar": {
              "outlinewidth": 0,
              "ticks": ""
             }
            },
            "type": "scatterternary"
           }
          ],
          "surface": [
           {
            "colorbar": {
             "outlinewidth": 0,
             "ticks": ""
            },
            "colorscale": [
             [
              0,
              "#0d0887"
             ],
             [
              0.1111111111111111,
              "#46039f"
             ],
             [
              0.2222222222222222,
              "#7201a8"
             ],
             [
              0.3333333333333333,
              "#9c179e"
             ],
             [
              0.4444444444444444,
              "#bd3786"
             ],
             [
              0.5555555555555556,
              "#d8576b"
             ],
             [
              0.6666666666666666,
              "#ed7953"
             ],
             [
              0.7777777777777778,
              "#fb9f3a"
             ],
             [
              0.8888888888888888,
              "#fdca26"
             ],
             [
              1,
              "#f0f921"
             ]
            ],
            "type": "surface"
           }
          ],
          "table": [
           {
            "cells": {
             "fill": {
              "color": "#EBF0F8"
             },
             "line": {
              "color": "white"
             }
            },
            "header": {
             "fill": {
              "color": "#C8D4E3"
             },
             "line": {
              "color": "white"
             }
            },
            "type": "table"
           }
          ]
         },
         "layout": {
          "annotationdefaults": {
           "arrowcolor": "#2a3f5f",
           "arrowhead": 0,
           "arrowwidth": 1
          },
          "autotypenumbers": "strict",
          "coloraxis": {
           "colorbar": {
            "outlinewidth": 0,
            "ticks": ""
           }
          },
          "colorscale": {
           "diverging": [
            [
             0,
             "#8e0152"
            ],
            [
             0.1,
             "#c51b7d"
            ],
            [
             0.2,
             "#de77ae"
            ],
            [
             0.3,
             "#f1b6da"
            ],
            [
             0.4,
             "#fde0ef"
            ],
            [
             0.5,
             "#f7f7f7"
            ],
            [
             0.6,
             "#e6f5d0"
            ],
            [
             0.7,
             "#b8e186"
            ],
            [
             0.8,
             "#7fbc41"
            ],
            [
             0.9,
             "#4d9221"
            ],
            [
             1,
             "#276419"
            ]
           ],
           "sequential": [
            [
             0,
             "#0d0887"
            ],
            [
             0.1111111111111111,
             "#46039f"
            ],
            [
             0.2222222222222222,
             "#7201a8"
            ],
            [
             0.3333333333333333,
             "#9c179e"
            ],
            [
             0.4444444444444444,
             "#bd3786"
            ],
            [
             0.5555555555555556,
             "#d8576b"
            ],
            [
             0.6666666666666666,
             "#ed7953"
            ],
            [
             0.7777777777777778,
             "#fb9f3a"
            ],
            [
             0.8888888888888888,
             "#fdca26"
            ],
            [
             1,
             "#f0f921"
            ]
           ],
           "sequentialminus": [
            [
             0,
             "#0d0887"
            ],
            [
             0.1111111111111111,
             "#46039f"
            ],
            [
             0.2222222222222222,
             "#7201a8"
            ],
            [
             0.3333333333333333,
             "#9c179e"
            ],
            [
             0.4444444444444444,
             "#bd3786"
            ],
            [
             0.5555555555555556,
             "#d8576b"
            ],
            [
             0.6666666666666666,
             "#ed7953"
            ],
            [
             0.7777777777777778,
             "#fb9f3a"
            ],
            [
             0.8888888888888888,
             "#fdca26"
            ],
            [
             1,
             "#f0f921"
            ]
           ]
          },
          "colorway": [
           "#636efa",
           "#EF553B",
           "#00cc96",
           "#ab63fa",
           "#FFA15A",
           "#19d3f3",
           "#FF6692",
           "#B6E880",
           "#FF97FF",
           "#FECB52"
          ],
          "font": {
           "color": "#2a3f5f"
          },
          "geo": {
           "bgcolor": "white",
           "lakecolor": "white",
           "landcolor": "#E5ECF6",
           "showlakes": true,
           "showland": true,
           "subunitcolor": "white"
          },
          "hoverlabel": {
           "align": "left"
          },
          "hovermode": "closest",
          "mapbox": {
           "style": "light"
          },
          "paper_bgcolor": "white",
          "plot_bgcolor": "#E5ECF6",
          "polar": {
           "angularaxis": {
            "gridcolor": "white",
            "linecolor": "white",
            "ticks": ""
           },
           "bgcolor": "#E5ECF6",
           "radialaxis": {
            "gridcolor": "white",
            "linecolor": "white",
            "ticks": ""
           }
          },
          "scene": {
           "xaxis": {
            "backgroundcolor": "#E5ECF6",
            "gridcolor": "white",
            "gridwidth": 2,
            "linecolor": "white",
            "showbackground": true,
            "ticks": "",
            "zerolinecolor": "white"
           },
           "yaxis": {
            "backgroundcolor": "#E5ECF6",
            "gridcolor": "white",
            "gridwidth": 2,
            "linecolor": "white",
            "showbackground": true,
            "ticks": "",
            "zerolinecolor": "white"
           },
           "zaxis": {
            "backgroundcolor": "#E5ECF6",
            "gridcolor": "white",
            "gridwidth": 2,
            "linecolor": "white",
            "showbackground": true,
            "ticks": "",
            "zerolinecolor": "white"
           }
          },
          "shapedefaults": {
           "line": {
            "color": "#2a3f5f"
           }
          },
          "ternary": {
           "aaxis": {
            "gridcolor": "white",
            "linecolor": "white",
            "ticks": ""
           },
           "baxis": {
            "gridcolor": "white",
            "linecolor": "white",
            "ticks": ""
           },
           "bgcolor": "#E5ECF6",
           "caxis": {
            "gridcolor": "white",
            "linecolor": "white",
            "ticks": ""
           }
          },
          "title": {
           "x": 0.05
          },
          "xaxis": {
           "automargin": true,
           "gridcolor": "white",
           "linecolor": "white",
           "ticks": "",
           "title": {
            "standoff": 15
           },
           "zerolinecolor": "white",
           "zerolinewidth": 2
          },
          "yaxis": {
           "automargin": true,
           "gridcolor": "white",
           "linecolor": "white",
           "ticks": "",
           "title": {
            "standoff": 15
           },
           "zerolinecolor": "white",
           "zerolinewidth": 2
          }
         }
        },
        "xaxis": {
         "anchor": "y",
         "domain": [
          0,
          1
         ],
         "title": {
          "text": "Average value"
         }
        },
        "yaxis": {
         "anchor": "x",
         "domain": [
          0,
          1
         ],
         "title": {
          "text": "Question type"
         }
        }
       }
      }
     },
     "metadata": {},
     "output_type": "display_data"
    }
   ],
   "source": [
    "import plotly.express as px\n",
    "df_final = df_final.sort_values(by=[\"category\",'value'])\n",
    "fig = px.histogram(df_final, y=\"question_type\", x=\"value\",\n",
    "             color='category', barmode='group', orientation='h')\n",
    "fig.update_layout(\n",
    "    xaxis_title=\"Average value\",\n",
    "    yaxis_title=\"Question type\",\n",
    ")\n",
    "fig.show()\n"
   ]
  },
  {
   "cell_type": "code",
   "execution_count": null,
   "metadata": {},
   "outputs": [],
   "source": []
  }
 ],
 "metadata": {
  "interpreter": {
   "hash": "f263b30b47212596c6dca0cd91fb0c51f07ee748dab3d0cfddddb639cf5b7790"
  },
  "kernelspec": {
   "display_name": "Python 3.8.13 ('test4')",
   "language": "python",
   "name": "python3"
  },
  "language_info": {
   "codemirror_mode": {
    "name": "ipython",
    "version": 3
   },
   "file_extension": ".py",
   "mimetype": "text/x-python",
   "name": "python",
   "nbconvert_exporter": "python",
   "pygments_lexer": "ipython3",
   "version": "3.8.13"
  },
  "orig_nbformat": 4
 },
 "nbformat": 4,
 "nbformat_minor": 2
}

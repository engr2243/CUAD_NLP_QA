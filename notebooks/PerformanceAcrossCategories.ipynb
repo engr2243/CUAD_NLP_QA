{
 "cells": [
  {
   "cell_type": "markdown",
   "metadata": {},
   "source": [
    "# Performance across categories\n",
    "\n",
    "This notebook relates to the performance across categories section of the associated master thesis'"
   ]
  },
  {
   "cell_type": "markdown",
   "metadata": {},
   "source": [
    "Load in examples and predictions"
   ]
  },
  {
   "cell_type": "code",
   "execution_count": 6,
   "metadata": {},
   "outputs": [],
   "source": [
    "import torch\n",
    "import pandas as pd\n",
    "import json"
   ]
  },
  {
   "cell_type": "code",
   "execution_count": null,
   "metadata": {},
   "outputs": [],
   "source": [
    "examples_path = \"../cuad_training/cuad_lightning/out/dataset-name_CUAD_model-type_roberta_only-first-ans_True_doc-stride_256_dataset-type_eval_predict-file-version_test_examples\"\n",
    "examples = torch.load(examples_path)\n",
    "\n",
    "prediction_path = \"../cuad_training/cuad_lightning/out/predictions/dataset-name_CUAD_model-type_roberta_only-first-ans_True_doc-stride_256_dataset-type_eval_predict-file-version_test_predtype_test_model-name_roberta_rb_s_checkpoint_test_original_global-step_6466_epoch13_nbest_predictions.json\"\n",
    "with open(prediction_path, \"r\") as f:\n",
    "    preds = json.load(f)\n",
    "\n",
    "json_test_dict_path = \"../data/test.json\"\n",
    "with open(json_test_dict_path, \"r\") as f:\n",
    "    json_test_dict = json.load(f)"
   ]
  },
  {
   "cell_type": "markdown",
   "metadata": {},
   "source": [
    "Import the evaluation stuff"
   ]
  },
  {
   "cell_type": "code",
   "execution_count": 8,
   "metadata": {},
   "outputs": [],
   "source": [
    "import sys\n",
    "# insert at 1, 0 is the script path (or '' in REPL)\n",
    "sys.path.insert(1, '../cuad_training/cuad_lightning/')\n",
    "from utils import get_raw_scores_nbest, apply_no_ans_threshold,make_eval_dict,merge_eval,find_all_best_thresh"
   ]
  },
  {
   "cell_type": "code",
   "execution_count": 9,
   "metadata": {},
   "outputs": [],
   "source": [
    "def squad_evaluate_nbest(examples, n_best_path, no_answer_probs=None, no_answer_probability_threshold=1.0, n_best_size=3):\n",
    "    \"\"\"Just like squad_evaluate, but instead allowing for nbest predictions which just the best score\n",
    "\n",
    "    Args:\n",
    "        examples (_type_): Squad examples\n",
    "        n_best_path (_type_): path to the best nbest predictions file\n",
    "        no_answer_probs (_type_, optional): same. Defaults to None.\n",
    "        no_answer_probability_threshold (float, optional): same. Defaults to 1.0.\n",
    "        n_best_size (int, optional): How many predictions to look at. Defaults to 3.\n",
    "\n",
    "    Returns:\n",
    "        _type_: _description_\n",
    "    \"\"\"\n",
    "    # load preds\n",
    "    with open(n_best_path, 'r') as f:\n",
    "        preds = json.load(f)\n",
    "\n",
    "    qas_id_to_has_answer = {example.qas_id: bool(\n",
    "        example.answers) for example in examples}\n",
    "    has_answer_qids = [qas_id for qas_id,\n",
    "                       has_answer in qas_id_to_has_answer.items() if has_answer]\n",
    "    no_answer_qids = [qas_id for qas_id,\n",
    "                      has_answer in qas_id_to_has_answer.items() if not has_answer]\n",
    "\n",
    "    if no_answer_probs is None:\n",
    "        no_answer_probs = {k: 0.0 for k in preds}\n",
    "\n",
    "    exact, f1 = get_raw_scores_nbest(examples, preds, n_best_size)\n",
    "\n",
    "    exact_threshold = apply_no_ans_threshold(\n",
    "        exact, no_answer_probs, qas_id_to_has_answer, no_answer_probability_threshold\n",
    "    )\n",
    "    f1_threshold = apply_no_ans_threshold(\n",
    "        f1, no_answer_probs, qas_id_to_has_answer, no_answer_probability_threshold)\n",
    "\n",
    "    evaluation = make_eval_dict(exact_threshold, f1_threshold)\n",
    "\n",
    "    if has_answer_qids:\n",
    "        has_ans_eval = make_eval_dict(\n",
    "            exact_threshold, f1_threshold, qid_list=has_answer_qids)\n",
    "        merge_eval(evaluation, has_ans_eval, \"HasAns\")\n",
    "\n",
    "    if no_answer_qids:\n",
    "        no_ans_eval = make_eval_dict(\n",
    "            exact_threshold, f1_threshold, qid_list=no_answer_qids)\n",
    "        merge_eval(evaluation, no_ans_eval, \"NoAns\")\n",
    "\n",
    "    if no_answer_probs:\n",
    "        find_all_best_thresh(evaluation, preds, exact, f1,\n",
    "                             no_answer_probs, qas_id_to_has_answer)\n",
    "\n",
    "    return evaluation, exact, f1"
   ]
  },
  {
   "cell_type": "code",
   "execution_count": 21,
   "metadata": {},
   "outputs": [],
   "source": [
    "eval_, exact, f1 = squad_evaluate_nbest(examples, prediction_path,n_best_size=1)"
   ]
  },
  {
   "cell_type": "code",
   "execution_count": 22,
   "metadata": {},
   "outputs": [],
   "source": [
    "# create the nbest=1 df\n",
    "data = []\n",
    "for k,v in exact.items():\n",
    "    # question name, question type, value, category\n",
    "    data.append([k,k.split(\"__\")[1],v,\"em nbest=1\"])\n",
    "\n",
    "for k,v in f1.items():\n",
    "    # question name, question type, value, category\n",
    "    data.append([k,k.split(\"__\")[1],v,\"f1 nbest=1\"])\n",
    "\n",
    "eval_, exact, f1 = squad_evaluate_nbest(examples, prediction_path, n_best_size=3)\n",
    "\n",
    "# add the nbest=3 to df\n",
    "for k,v in exact.items():\n",
    "    # question name, question type, value, category\n",
    "    data.append([k,k.split(\"__\")[1],v,\"em nbest=3\"])\n",
    "\n",
    "for k,v in f1.items():\n",
    "    # question name, question type, value, category\n",
    "    data.append([k,k.split(\"__\")[1],v,\"f1 nbest=3\"])"
   ]
  },
  {
   "cell_type": "markdown",
   "metadata": {},
   "source": [
    "Add aupr to the mix"
   ]
  },
  {
   "cell_type": "code",
   "execution_count": 14,
   "metadata": {},
   "outputs": [],
   "source": [
    "from evaluate import get_results,get_answers"
   ]
  },
  {
   "cell_type": "code",
   "execution_count": 16,
   "metadata": {},
   "outputs": [
    {
     "name": "stdout",
     "output_type": "stream",
     "text": [
      "Removing 4080 examples with answers\n",
      "Removing 4080 examples with answers\n",
      "Removing 4080 examples with answers\n",
      "Removing 4080 examples with answers\n",
      "Removing 4080 examples with answers\n",
      "Removing 4080 examples with answers\n",
      "Removing 4080 examples with answers\n",
      "Removing 4080 examples with answers\n",
      "Removing 4080 examples with answers\n",
      "Removing 4080 examples with answers\n",
      "Removing 4080 examples with answers\n",
      "Removing 4080 examples with answers\n",
      "Removing 4080 examples with answers\n",
      "Removing 4080 examples with answers\n",
      "Removing 4080 examples with answers\n",
      "Removing 4080 examples with answers\n",
      "Removing 4080 examples with answers\n",
      "Removing 4080 examples with answers\n",
      "Removing 4080 examples with answers\n",
      "Removing 4080 examples with answers\n",
      "Removing 4080 examples with answers\n",
      "Removing 4040 examples with answers\n",
      "Removing 4080 examples with answers\n",
      "Removing 4080 examples with answers\n",
      "Removing 4080 examples with answers\n",
      "Removing 4080 examples with answers\n",
      "Removing 4080 examples with answers\n",
      "Removing 4080 examples with answers\n",
      "Removing 4080 examples with answers\n",
      "Removing 4080 examples with answers\n",
      "Removing 4080 examples with answers\n",
      "Removing 4080 examples with answers\n",
      "Removing 4080 examples with answers\n",
      "Removing 4080 examples with answers\n",
      "Removing 4080 examples with answers\n",
      "Removing 4080 examples with answers\n",
      "Removing 4080 examples with answers\n",
      "Removing 4080 examples with answers\n",
      "Removing 4080 examples with answers\n",
      "Removing 4080 examples with answers\n",
      "Removing 4080 examples with answers\n"
     ]
    }
   ],
   "source": [
    "# fake args class\n",
    "class Args:\n",
    "    def __init__(self):       \n",
    "        self.model_name = 3\n",
    "        self.model_version = 1.0\n",
    "# Iterate question types and calculate the results\n",
    "\n",
    "aupr_data = []\n",
    "for question_type in set([x.split(\"__\")[1] for x in preds.keys()]):\n",
    "    gt_dict = get_answers(json_test_dict)\n",
    "    rs = get_results(Args(), prediction_path, gt_dict, gt_dict_extract_answers=False, filter=question_type)\n",
    "    aupr_data.append([question_type,'aupr',rs['aupr']])\n",
    "gt_dict = get_answers(json_test_dict)\n"
   ]
  },
  {
   "cell_type": "code",
   "execution_count": 23,
   "metadata": {},
   "outputs": [],
   "source": [
    "df = pd.DataFrame(data, columns=[\"question_name\",\"question_type\",\"value\",\"category\"])"
   ]
  },
  {
   "cell_type": "code",
   "execution_count": 24,
   "metadata": {},
   "outputs": [],
   "source": [
    "df = df.groupby([\"question_type\",\"category\"]).mean().reset_index()\n",
    "df2 = pd.DataFrame(aupr_data, columns=[\"question_type\",\"category\",\"value\"])\n",
    "df_final = pd.concat([df, df2])"
   ]
  },
  {
   "cell_type": "markdown",
   "metadata": {},
   "source": [
    "for use on server and locally"
   ]
  },
  {
   "cell_type": "code",
   "execution_count": 25,
   "metadata": {},
   "outputs": [],
   "source": [
    "df_final.to_csv('Performance_across_cat.csv')"
   ]
  },
  {
   "cell_type": "code",
   "execution_count": 20,
   "metadata": {},
   "outputs": [],
   "source": [
    "df_final = pd.read_csv('Performance_across_cat.csv')"
   ]
  },
  {
   "cell_type": "code",
   "execution_count": 29,
   "metadata": {},
   "outputs": [
    {
     "data": {
      "application/vnd.plotly.v1+json": {
       "config": {
        "plotlyServerURL": "https://plot.ly"
       },
       "data": [
        {
         "alignmentgroup": "True",
         "bingroup": "y",
         "histfunc": "sum",
         "hovertemplate": "category=aupr<br>sum of value=%{x}<br>question_type=%{y}<extra></extra>",
         "legendgroup": "aupr",
         "marker": {
          "color": "#636efa",
          "pattern": {
           "shape": ""
          }
         },
         "name": "aupr",
         "offsetgroup": "aupr",
         "orientation": "h",
         "showlegend": true,
         "type": "histogram",
         "x": [
          0,
          0.15191061495660563,
          0.16822241596435145,
          0.17287862159125206,
          0.18251703506193848,
          0.18300161767931566,
          0.19219492868462756,
          0.19552772234498553,
          0.22487519394698213,
          0.2380948043474611,
          0.25869822980833407,
          0.27728652324150904,
          0.30371527216717337,
          0.3050756101842999,
          0.3103507964616356,
          0.32928615676276923,
          0.42181639724237163,
          0.4321102408274342,
          0.43498854299614315,
          0.4439959560507959,
          0.446697289983219,
          0.468078792889924,
          0.47822206464067,
          0.483298920778287,
          0.5182735067290554,
          0.5256819458739146,
          0.5477096817149262,
          0.5756439674259235,
          0.5763042421165309,
          0.5778168786205262,
          0.6173007725381097,
          0.631114222358326,
          0.6771874680879959,
          0.7142857142857143,
          0.7152010965416761,
          0.7293804889239889,
          0.8768268842636798,
          0.881737066764117,
          0.8885193158382676,
          0.9412674725116312,
          0.9442983577803944
         ],
         "xaxis": "x",
         "y": [
          "Price Restrictions",
          "Uncapped Liability",
          "No-Solicit Of Customers",
          "Competitive Restriction Exception",
          "Third Party Beneficiary",
          "Affiliate License-Licensor",
          "Unlimited/All-You-Can-Eat-License",
          "Post-Termination Services",
          "Most Favored Nation",
          "Non-Disparagement",
          "Ip Ownership Assignment",
          "Change Of Control",
          "Non-Transferable License",
          "Non-Compete",
          "Rofr/Rofo/Rofn",
          "Volume Restriction",
          "Minimum Commitment",
          "Affiliate License-Licensee",
          "Warranty Duration",
          "Liquidated Damages",
          "Revenue/Profit Sharing",
          "Effective Date",
          "Exclusivity",
          "Termination For Convenience",
          "Covenant Not To Sue",
          "Insurance",
          "Joint Ip Ownership",
          "Audit Rights",
          "Cap On Liability",
          "Notice Period To Terminate Renewal",
          "Renewal Term",
          "License Grant",
          "Irrevocable Or Perpetual License",
          "Source Code Escrow",
          "No-Solicit Of Employees",
          "Anti-Assignment",
          "Expiration Date",
          "Agreement Date",
          "Parties",
          "Governing Law",
          "Document Name"
         ],
         "yaxis": "y"
        },
        {
         "alignmentgroup": "True",
         "bingroup": "y",
         "histfunc": "sum",
         "hovertemplate": "category=em nbest=1<br>sum of value=%{x}<br>question_type=%{y}<extra></extra>",
         "legendgroup": "em nbest=1",
         "marker": {
          "color": "#EF553B",
          "pattern": {
           "shape": ""
          }
         },
         "name": "em nbest=1",
         "offsetgroup": "em nbest=1",
         "orientation": "h",
         "showlegend": true,
         "type": "histogram",
         "x": [
          0.47058823529411764,
          0.5,
          0.5686274509803921,
          0.5882352941176471,
          0.5980392156862745,
          0.6176470588235294,
          0.6568627450980392,
          0.6862745098039216,
          0.7058823529411765,
          0.7156862745098039,
          0.7254901960784313,
          0.7254901960784313,
          0.7352941176470589,
          0.7450980392156863,
          0.7549019607843137,
          0.7549019607843137,
          0.7549019607843137,
          0.7745098039215687,
          0.7745098039215687,
          0.7745098039215687,
          0.7745098039215687,
          0.7745098039215687,
          0.7843137254901961,
          0.7843137254901961,
          0.7843137254901961,
          0.7941176470588235,
          0.8235294117647058,
          0.8333333333333334,
          0.8431372549019608,
          0.8431372549019608,
          0.8529411764705882,
          0.8627450980392157,
          0.8627450980392157,
          0.8823529411764706,
          0.9019607843137255,
          0.9215686274509803,
          0.9215686274509803,
          0.9509803921568627,
          0.9509803921568627,
          0.9607843137254902,
          0.9705882352941176
         ],
         "xaxis": "x",
         "y": [
          "Effective Date",
          "Parties",
          "Post-Termination Services",
          "Uncapped Liability",
          "Non-Transferable License",
          "Change Of Control",
          "Non-Compete",
          "Ip Ownership Assignment",
          "Termination For Convenience",
          "Volume Restriction",
          "Cap On Liability",
          "Competitive Restriction Exception",
          "Renewal Term",
          "Exclusivity",
          "Document Name",
          "Notice Period To Terminate Renewal",
          "Revenue/Profit Sharing",
          "Anti-Assignment",
          "Insurance",
          "Minimum Commitment",
          "Price Restrictions",
          "Rofr/Rofo/Rofn",
          "Audit Rights",
          "License Grant",
          "Third Party Beneficiary",
          "Agreement Date",
          "Affiliate License-Licensor",
          "Expiration Date",
          "Covenant Not To Sue",
          "Most Favored Nation",
          "Non-Disparagement",
          "Affiliate License-Licensee",
          "Liquidated Damages",
          "No-Solicit Of Customers",
          "Warranty Duration",
          "Governing Law",
          "Irrevocable Or Perpetual License",
          "Joint Ip Ownership",
          "No-Solicit Of Employees",
          "Unlimited/All-You-Can-Eat-License",
          "Source Code Escrow"
         ],
         "yaxis": "y"
        },
        {
         "alignmentgroup": "True",
         "bingroup": "y",
         "histfunc": "sum",
         "hovertemplate": "category=em nbest=3<br>sum of value=%{x}<br>question_type=%{y}<extra></extra>",
         "legendgroup": "em nbest=3",
         "marker": {
          "color": "#00cc96",
          "pattern": {
           "shape": ""
          }
         },
         "name": "em nbest=3",
         "offsetgroup": "em nbest=3",
         "orientation": "h",
         "showlegend": true,
         "type": "histogram",
         "x": [
          0.6372549019607843,
          0.7843137254901961,
          0.803921568627451,
          0.803921568627451,
          0.803921568627451,
          0.8137254901960784,
          0.8431372549019608,
          0.8431372549019608,
          0.8627450980392157,
          0.8627450980392157,
          0.8725490196078431,
          0.8725490196078431,
          0.8823529411764706,
          0.8823529411764706,
          0.8823529411764706,
          0.8823529411764706,
          0.8823529411764706,
          0.8921568627450981,
          0.8921568627450981,
          0.8921568627450981,
          0.9019607843137255,
          0.9019607843137255,
          0.9215686274509803,
          0.9215686274509803,
          0.9215686274509803,
          0.9313725490196079,
          0.9313725490196079,
          0.9411764705882353,
          0.9411764705882353,
          0.9607843137254902,
          0.9607843137254902,
          0.9607843137254902,
          0.9607843137254902,
          0.9607843137254902,
          0.9607843137254902,
          0.9607843137254902,
          0.9705882352941176,
          0.9705882352941176,
          0.9803921568627451,
          0.9901960784313726,
          1
         ],
         "xaxis": "x",
         "y": [
          "Effective Date",
          "Volume Restriction",
          "Non-Compete",
          "Non-Transferable License",
          "Post-Termination Services",
          "Change Of Control",
          "Agreement Date",
          "Uncapped Liability",
          "Ip Ownership Assignment",
          "Parties",
          "Competitive Restriction Exception",
          "Revenue/Profit Sharing",
          "Exclusivity",
          "License Grant",
          "Price Restrictions",
          "Renewal Term",
          "Termination For Convenience",
          "Document Name",
          "Rofr/Rofo/Rofn",
          "Third Party Beneficiary",
          "Minimum Commitment",
          "Non-Disparagement",
          "Cap On Liability",
          "Expiration Date",
          "Notice Period To Terminate Renewal",
          "Affiliate License-Licensor",
          "Audit Rights",
          "Covenant Not To Sue",
          "Insurance",
          "Affiliate License-Licensee",
          "Governing Law",
          "Irrevocable Or Perpetual License",
          "Liquidated Damages",
          "Most Favored Nation",
          "No-Solicit Of Customers",
          "Warranty Duration",
          "Anti-Assignment",
          "Unlimited/All-You-Can-Eat-License",
          "Joint Ip Ownership",
          "No-Solicit Of Employees",
          "Source Code Escrow"
         ],
         "yaxis": "y"
        },
        {
         "alignmentgroup": "True",
         "bingroup": "y",
         "histfunc": "sum",
         "hovertemplate": "category=f1 nbest=1<br>sum of value=%{x}<br>question_type=%{y}<extra></extra>",
         "legendgroup": "f1 nbest=1",
         "marker": {
          "color": "#ab63fa",
          "pattern": {
           "shape": ""
          }
         },
         "name": "f1 nbest=1",
         "offsetgroup": "f1 nbest=1",
         "orientation": "h",
         "showlegend": true,
         "type": "histogram",
         "x": [
          0.5493101591719904,
          0.5973053093362637,
          0.6143086542805862,
          0.6177344344307855,
          0.6621155029879129,
          0.6895494567878899,
          0.6915217650998916,
          0.7299582724260394,
          0.7401380948278777,
          0.7418539230385559,
          0.7525727854642519,
          0.7539313980297766,
          0.7638593590046461,
          0.7722411164295732,
          0.7745098039215687,
          0.7841805389370639,
          0.7878055331721731,
          0.8046339990610337,
          0.8119333663526919,
          0.8227905179624025,
          0.8432964094728801,
          0.8457324106113033,
          0.8469444059373163,
          0.86025659639946,
          0.8613797869902623,
          0.8624375539834713,
          0.8660557089239511,
          0.8684675890558243,
          0.8686937850774082,
          0.8694938986069002,
          0.8814008477115338,
          0.8816063781834573,
          0.8825453957806898,
          0.890193211787639,
          0.9132028517621738,
          0.9399210027282313,
          0.9509803921568627,
          0.9534712288256005,
          0.9634981925731186,
          0.9705882352941176,
          0.9730372029010628
         ],
         "xaxis": "x",
         "y": [
          "Effective Date",
          "Post-Termination Services",
          "Non-Transferable License",
          "Uncapped Liability",
          "Change Of Control",
          "Non-Compete",
          "Parties",
          "Ip Ownership Assignment",
          "Termination For Convenience",
          "Volume Restriction",
          "Renewal Term",
          "Competitive Restriction Exception",
          "Notice Period To Terminate Renewal",
          "Cap On Liability",
          "Price Restrictions",
          "Exclusivity",
          "Third Party Beneficiary",
          "Rofr/Rofo/Rofn",
          "Revenue/Profit Sharing",
          "Minimum Commitment",
          "Agreement Date",
          "Most Favored Nation",
          "Affiliate License-Licensor",
          "Non-Disparagement",
          "Covenant Not To Sue",
          "Audit Rights",
          "License Grant",
          "Liquidated Damages",
          "Expiration Date",
          "Insurance",
          "Anti-Assignment",
          "Affiliate License-Licensee",
          "Document Name",
          "No-Solicit Of Customers",
          "Warranty Duration",
          "Irrevocable Or Perpetual License",
          "Joint Ip Ownership",
          "Governing Law",
          "No-Solicit Of Employees",
          "Source Code Escrow",
          "Unlimited/All-You-Can-Eat-License"
         ],
         "yaxis": "y"
        },
        {
         "alignmentgroup": "True",
         "bingroup": "y",
         "histfunc": "sum",
         "hovertemplate": "category=f1 nbest=3<br>sum of value=%{x}<br>question_type=%{y}<extra></extra>",
         "legendgroup": "f1 nbest=3",
         "marker": {
          "color": "#FFA15A",
          "pattern": {
           "shape": ""
          }
         },
         "name": "f1 nbest=3",
         "offsetgroup": "f1 nbest=3",
         "orientation": "h",
         "showlegend": true,
         "type": "histogram",
         "x": [
          0.6886530848667427,
          0.8104252058689541,
          0.8148823556793195,
          0.8242974992981665,
          0.8357428667539625,
          0.842601355072205,
          0.8650439824064979,
          0.8816561490496582,
          0.8823529411764706,
          0.8851264748323572,
          0.8855275443510738,
          0.8961000609047988,
          0.8973824824047266,
          0.9043309943342036,
          0.9082831474828044,
          0.9130726299375683,
          0.9214783659688802,
          0.9235086246110422,
          0.9236999147485081,
          0.9312501730455391,
          0.9362844684514975,
          0.950443334553946,
          0.95184938440166,
          0.9528777892641296,
          0.9532928670702372,
          0.9592310899404325,
          0.9603611222015201,
          0.9613159232620764,
          0.9650597080937638,
          0.9664457464170673,
          0.9699066618517325,
          0.9709843782528863,
          0.9737028657616893,
          0.9744582043343653,
          0.9752057947321271,
          0.9803921568627451,
          0.9854727090875598,
          0.9894879856751345,
          0.9901168333589739,
          0.994058229352347,
          1
         ],
         "xaxis": "x",
         "y": [
          "Effective Date",
          "Volume Restriction",
          "Non-Transferable License",
          "Non-Compete",
          "Post-Termination Services",
          "Change Of Control",
          "Uncapped Liability",
          "Competitive Restriction Exception",
          "Price Restrictions",
          "Agreement Date",
          "Renewal Term",
          "Ip Ownership Assignment",
          "Rofr/Rofo/Rofn",
          "Termination For Convenience",
          "Third Party Beneficiary",
          "Exclusivity",
          "Non-Disparagement",
          "Minimum Commitment",
          "Notice Period To Terminate Renewal",
          "Revenue/Profit Sharing",
          "Cap On Liability",
          "Affiliate License-Licensor",
          "Parties",
          "License Grant",
          "Covenant Not To Sue",
          "Document Name",
          "Insurance",
          "Expiration Date",
          "Most Favored Nation",
          "Audit Rights",
          "Warranty Duration",
          "Affiliate License-Licensee",
          "No-Solicit Of Customers",
          "Anti-Assignment",
          "Liquidated Damages",
          "Joint Ip Ownership",
          "Unlimited/All-You-Can-Eat-License",
          "Irrevocable Or Perpetual License",
          "Governing Law",
          "No-Solicit Of Employees",
          "Source Code Escrow"
         ],
         "yaxis": "y"
        }
       ],
       "layout": {
        "barmode": "group",
        "height": 1800,
        "legend": {
         "title": {
          "text": "category"
         },
         "tracegroupgap": 0
        },
        "margin": {
         "t": 60
        },
        "template": {
         "data": {
          "bar": [
           {
            "error_x": {
             "color": "#2a3f5f"
            },
            "error_y": {
             "color": "#2a3f5f"
            },
            "marker": {
             "line": {
              "color": "#E5ECF6",
              "width": 0.5
             },
             "pattern": {
              "fillmode": "overlay",
              "size": 10,
              "solidity": 0.2
             }
            },
            "type": "bar"
           }
          ],
          "barpolar": [
           {
            "marker": {
             "line": {
              "color": "#E5ECF6",
              "width": 0.5
             },
             "pattern": {
              "fillmode": "overlay",
              "size": 10,
              "solidity": 0.2
             }
            },
            "type": "barpolar"
           }
          ],
          "carpet": [
           {
            "aaxis": {
             "endlinecolor": "#2a3f5f",
             "gridcolor": "white",
             "linecolor": "white",
             "minorgridcolor": "white",
             "startlinecolor": "#2a3f5f"
            },
            "baxis": {
             "endlinecolor": "#2a3f5f",
             "gridcolor": "white",
             "linecolor": "white",
             "minorgridcolor": "white",
             "startlinecolor": "#2a3f5f"
            },
            "type": "carpet"
           }
          ],
          "choropleth": [
           {
            "colorbar": {
             "outlinewidth": 0,
             "ticks": ""
            },
            "type": "choropleth"
           }
          ],
          "contour": [
           {
            "colorbar": {
             "outlinewidth": 0,
             "ticks": ""
            },
            "colorscale": [
             [
              0,
              "#0d0887"
             ],
             [
              0.1111111111111111,
              "#46039f"
             ],
             [
              0.2222222222222222,
              "#7201a8"
             ],
             [
              0.3333333333333333,
              "#9c179e"
             ],
             [
              0.4444444444444444,
              "#bd3786"
             ],
             [
              0.5555555555555556,
              "#d8576b"
             ],
             [
              0.6666666666666666,
              "#ed7953"
             ],
             [
              0.7777777777777778,
              "#fb9f3a"
             ],
             [
              0.8888888888888888,
              "#fdca26"
             ],
             [
              1,
              "#f0f921"
             ]
            ],
            "type": "contour"
           }
          ],
          "contourcarpet": [
           {
            "colorbar": {
             "outlinewidth": 0,
             "ticks": ""
            },
            "type": "contourcarpet"
           }
          ],
          "heatmap": [
           {
            "colorbar": {
             "outlinewidth": 0,
             "ticks": ""
            },
            "colorscale": [
             [
              0,
              "#0d0887"
             ],
             [
              0.1111111111111111,
              "#46039f"
             ],
             [
              0.2222222222222222,
              "#7201a8"
             ],
             [
              0.3333333333333333,
              "#9c179e"
             ],
             [
              0.4444444444444444,
              "#bd3786"
             ],
             [
              0.5555555555555556,
              "#d8576b"
             ],
             [
              0.6666666666666666,
              "#ed7953"
             ],
             [
              0.7777777777777778,
              "#fb9f3a"
             ],
             [
              0.8888888888888888,
              "#fdca26"
             ],
             [
              1,
              "#f0f921"
             ]
            ],
            "type": "heatmap"
           }
          ],
          "heatmapgl": [
           {
            "colorbar": {
             "outlinewidth": 0,
             "ticks": ""
            },
            "colorscale": [
             [
              0,
              "#0d0887"
             ],
             [
              0.1111111111111111,
              "#46039f"
             ],
             [
              0.2222222222222222,
              "#7201a8"
             ],
             [
              0.3333333333333333,
              "#9c179e"
             ],
             [
              0.4444444444444444,
              "#bd3786"
             ],
             [
              0.5555555555555556,
              "#d8576b"
             ],
             [
              0.6666666666666666,
              "#ed7953"
             ],
             [
              0.7777777777777778,
              "#fb9f3a"
             ],
             [
              0.8888888888888888,
              "#fdca26"
             ],
             [
              1,
              "#f0f921"
             ]
            ],
            "type": "heatmapgl"
           }
          ],
          "histogram": [
           {
            "marker": {
             "pattern": {
              "fillmode": "overlay",
              "size": 10,
              "solidity": 0.2
             }
            },
            "type": "histogram"
           }
          ],
          "histogram2d": [
           {
            "colorbar": {
             "outlinewidth": 0,
             "ticks": ""
            },
            "colorscale": [
             [
              0,
              "#0d0887"
             ],
             [
              0.1111111111111111,
              "#46039f"
             ],
             [
              0.2222222222222222,
              "#7201a8"
             ],
             [
              0.3333333333333333,
              "#9c179e"
             ],
             [
              0.4444444444444444,
              "#bd3786"
             ],
             [
              0.5555555555555556,
              "#d8576b"
             ],
             [
              0.6666666666666666,
              "#ed7953"
             ],
             [
              0.7777777777777778,
              "#fb9f3a"
             ],
             [
              0.8888888888888888,
              "#fdca26"
             ],
             [
              1,
              "#f0f921"
             ]
            ],
            "type": "histogram2d"
           }
          ],
          "histogram2dcontour": [
           {
            "colorbar": {
             "outlinewidth": 0,
             "ticks": ""
            },
            "colorscale": [
             [
              0,
              "#0d0887"
             ],
             [
              0.1111111111111111,
              "#46039f"
             ],
             [
              0.2222222222222222,
              "#7201a8"
             ],
             [
              0.3333333333333333,
              "#9c179e"
             ],
             [
              0.4444444444444444,
              "#bd3786"
             ],
             [
              0.5555555555555556,
              "#d8576b"
             ],
             [
              0.6666666666666666,
              "#ed7953"
             ],
             [
              0.7777777777777778,
              "#fb9f3a"
             ],
             [
              0.8888888888888888,
              "#fdca26"
             ],
             [
              1,
              "#f0f921"
             ]
            ],
            "type": "histogram2dcontour"
           }
          ],
          "mesh3d": [
           {
            "colorbar": {
             "outlinewidth": 0,
             "ticks": ""
            },
            "type": "mesh3d"
           }
          ],
          "parcoords": [
           {
            "line": {
             "colorbar": {
              "outlinewidth": 0,
              "ticks": ""
             }
            },
            "type": "parcoords"
           }
          ],
          "pie": [
           {
            "automargin": true,
            "type": "pie"
           }
          ],
          "scatter": [
           {
            "fillpattern": {
             "fillmode": "overlay",
             "size": 10,
             "solidity": 0.2
            },
            "type": "scatter"
           }
          ],
          "scatter3d": [
           {
            "line": {
             "colorbar": {
              "outlinewidth": 0,
              "ticks": ""
             }
            },
            "marker": {
             "colorbar": {
              "outlinewidth": 0,
              "ticks": ""
             }
            },
            "type": "scatter3d"
           }
          ],
          "scattercarpet": [
           {
            "marker": {
             "colorbar": {
              "outlinewidth": 0,
              "ticks": ""
             }
            },
            "type": "scattercarpet"
           }
          ],
          "scattergeo": [
           {
            "marker": {
             "colorbar": {
              "outlinewidth": 0,
              "ticks": ""
             }
            },
            "type": "scattergeo"
           }
          ],
          "scattergl": [
           {
            "marker": {
             "colorbar": {
              "outlinewidth": 0,
              "ticks": ""
             }
            },
            "type": "scattergl"
           }
          ],
          "scattermapbox": [
           {
            "marker": {
             "colorbar": {
              "outlinewidth": 0,
              "ticks": ""
             }
            },
            "type": "scattermapbox"
           }
          ],
          "scatterpolar": [
           {
            "marker": {
             "colorbar": {
              "outlinewidth": 0,
              "ticks": ""
             }
            },
            "type": "scatterpolar"
           }
          ],
          "scatterpolargl": [
           {
            "marker": {
             "colorbar": {
              "outlinewidth": 0,
              "ticks": ""
             }
            },
            "type": "scatterpolargl"
           }
          ],
          "scatterternary": [
           {
            "marker": {
             "colorbar": {
              "outlinewidth": 0,
              "ticks": ""
             }
            },
            "type": "scatterternary"
           }
          ],
          "surface": [
           {
            "colorbar": {
             "outlinewidth": 0,
             "ticks": ""
            },
            "colorscale": [
             [
              0,
              "#0d0887"
             ],
             [
              0.1111111111111111,
              "#46039f"
             ],
             [
              0.2222222222222222,
              "#7201a8"
             ],
             [
              0.3333333333333333,
              "#9c179e"
             ],
             [
              0.4444444444444444,
              "#bd3786"
             ],
             [
              0.5555555555555556,
              "#d8576b"
             ],
             [
              0.6666666666666666,
              "#ed7953"
             ],
             [
              0.7777777777777778,
              "#fb9f3a"
             ],
             [
              0.8888888888888888,
              "#fdca26"
             ],
             [
              1,
              "#f0f921"
             ]
            ],
            "type": "surface"
           }
          ],
          "table": [
           {
            "cells": {
             "fill": {
              "color": "#EBF0F8"
             },
             "line": {
              "color": "white"
             }
            },
            "header": {
             "fill": {
              "color": "#C8D4E3"
             },
             "line": {
              "color": "white"
             }
            },
            "type": "table"
           }
          ]
         },
         "layout": {
          "annotationdefaults": {
           "arrowcolor": "#2a3f5f",
           "arrowhead": 0,
           "arrowwidth": 1
          },
          "autotypenumbers": "strict",
          "coloraxis": {
           "colorbar": {
            "outlinewidth": 0,
            "ticks": ""
           }
          },
          "colorscale": {
           "diverging": [
            [
             0,
             "#8e0152"
            ],
            [
             0.1,
             "#c51b7d"
            ],
            [
             0.2,
             "#de77ae"
            ],
            [
             0.3,
             "#f1b6da"
            ],
            [
             0.4,
             "#fde0ef"
            ],
            [
             0.5,
             "#f7f7f7"
            ],
            [
             0.6,
             "#e6f5d0"
            ],
            [
             0.7,
             "#b8e186"
            ],
            [
             0.8,
             "#7fbc41"
            ],
            [
             0.9,
             "#4d9221"
            ],
            [
             1,
             "#276419"
            ]
           ],
           "sequential": [
            [
             0,
             "#0d0887"
            ],
            [
             0.1111111111111111,
             "#46039f"
            ],
            [
             0.2222222222222222,
             "#7201a8"
            ],
            [
             0.3333333333333333,
             "#9c179e"
            ],
            [
             0.4444444444444444,
             "#bd3786"
            ],
            [
             0.5555555555555556,
             "#d8576b"
            ],
            [
             0.6666666666666666,
             "#ed7953"
            ],
            [
             0.7777777777777778,
             "#fb9f3a"
            ],
            [
             0.8888888888888888,
             "#fdca26"
            ],
            [
             1,
             "#f0f921"
            ]
           ],
           "sequentialminus": [
            [
             0,
             "#0d0887"
            ],
            [
             0.1111111111111111,
             "#46039f"
            ],
            [
             0.2222222222222222,
             "#7201a8"
            ],
            [
             0.3333333333333333,
             "#9c179e"
            ],
            [
             0.4444444444444444,
             "#bd3786"
            ],
            [
             0.5555555555555556,
             "#d8576b"
            ],
            [
             0.6666666666666666,
             "#ed7953"
            ],
            [
             0.7777777777777778,
             "#fb9f3a"
            ],
            [
             0.8888888888888888,
             "#fdca26"
            ],
            [
             1,
             "#f0f921"
            ]
           ]
          },
          "colorway": [
           "#636efa",
           "#EF553B",
           "#00cc96",
           "#ab63fa",
           "#FFA15A",
           "#19d3f3",
           "#FF6692",
           "#B6E880",
           "#FF97FF",
           "#FECB52"
          ],
          "font": {
           "color": "#2a3f5f"
          },
          "geo": {
           "bgcolor": "white",
           "lakecolor": "white",
           "landcolor": "#E5ECF6",
           "showlakes": true,
           "showland": true,
           "subunitcolor": "white"
          },
          "hoverlabel": {
           "align": "left"
          },
          "hovermode": "closest",
          "mapbox": {
           "style": "light"
          },
          "paper_bgcolor": "white",
          "plot_bgcolor": "#E5ECF6",
          "polar": {
           "angularaxis": {
            "gridcolor": "white",
            "linecolor": "white",
            "ticks": ""
           },
           "bgcolor": "#E5ECF6",
           "radialaxis": {
            "gridcolor": "white",
            "linecolor": "white",
            "ticks": ""
           }
          },
          "scene": {
           "xaxis": {
            "backgroundcolor": "#E5ECF6",
            "gridcolor": "white",
            "gridwidth": 2,
            "linecolor": "white",
            "showbackground": true,
            "ticks": "",
            "zerolinecolor": "white"
           },
           "yaxis": {
            "backgroundcolor": "#E5ECF6",
            "gridcolor": "white",
            "gridwidth": 2,
            "linecolor": "white",
            "showbackground": true,
            "ticks": "",
            "zerolinecolor": "white"
           },
           "zaxis": {
            "backgroundcolor": "#E5ECF6",
            "gridcolor": "white",
            "gridwidth": 2,
            "linecolor": "white",
            "showbackground": true,
            "ticks": "",
            "zerolinecolor": "white"
           }
          },
          "shapedefaults": {
           "line": {
            "color": "#2a3f5f"
           }
          },
          "ternary": {
           "aaxis": {
            "gridcolor": "white",
            "linecolor": "white",
            "ticks": ""
           },
           "baxis": {
            "gridcolor": "white",
            "linecolor": "white",
            "ticks": ""
           },
           "bgcolor": "#E5ECF6",
           "caxis": {
            "gridcolor": "white",
            "linecolor": "white",
            "ticks": ""
           }
          },
          "title": {
           "x": 0.05
          },
          "xaxis": {
           "automargin": true,
           "gridcolor": "white",
           "linecolor": "white",
           "ticks": "",
           "title": {
            "standoff": 15
           },
           "zerolinecolor": "white",
           "zerolinewidth": 2
          },
          "yaxis": {
           "automargin": true,
           "gridcolor": "white",
           "linecolor": "white",
           "ticks": "",
           "title": {
            "standoff": 15
           },
           "zerolinecolor": "white",
           "zerolinewidth": 2
          }
         }
        },
        "width": 800,
        "xaxis": {
         "anchor": "y",
         "autorange": true,
         "domain": [
          0,
          1
         ],
         "range": [
          0,
          1.0526315789473684
         ],
         "title": {
          "text": "Average value"
         },
         "type": "linear"
        },
        "yaxis": {
         "anchor": "x",
         "autorange": true,
         "domain": [
          0,
          1
         ],
         "range": [
          -0.5,
          40.5
         ],
         "title": {
          "text": "Question type"
         },
         "type": "category"
        }
       }
      },
      "image/png": "[encoded data removed]",
      "text/html": [
       "<div>                            <div id=\"a37a3ad7-9084-48d3-999f-ba683b9e13d5\" class=\"plotly-graph-div\" style=\"height:1800px; width:800px;\"></div>            <script type=\"text/javascript\">                require([\"plotly\"], function(Plotly) {                    window.PLOTLYENV=window.PLOTLYENV || {};                                    if (document.getElementById(\"a37a3ad7-9084-48d3-999f-ba683b9e13d5\")) {                    Plotly.newPlot(                        \"a37a3ad7-9084-48d3-999f-ba683b9e13d5\",                        [{\"alignmentgroup\":\"True\",\"bingroup\":\"y\",\"histfunc\":\"sum\",\"hovertemplate\":\"category=aupr<br>sum of value=%{x}<br>question_type=%{y}<extra></extra>\",\"legendgroup\":\"aupr\",\"marker\":{\"color\":\"#636efa\",\"pattern\":{\"shape\":\"\"}},\"name\":\"aupr\",\"offsetgroup\":\"aupr\",\"orientation\":\"h\",\"showlegend\":true,\"x\":[0.0,0.15191061495660563,0.16822241596435145,0.17287862159125206,0.18251703506193848,0.18300161767931566,0.19219492868462756,0.19552772234498553,0.22487519394698213,0.2380948043474611,0.25869822980833407,0.27728652324150904,0.30371527216717337,0.3050756101842999,0.3103507964616356,0.32928615676276923,0.42181639724237163,0.4321102408274342,0.43498854299614315,0.4439959560507959,0.446697289983219,0.468078792889924,0.47822206464067,0.483298920778287,0.5182735067290554,0.5256819458739146,0.5477096817149262,0.5756439674259235,0.5763042421165309,0.5778168786205262,0.6173007725381097,0.631114222358326,0.6771874680879959,0.7142857142857143,0.7152010965416761,0.7293804889239889,0.8768268842636798,0.881737066764117,0.8885193158382676,0.9412674725116312,0.9442983577803944],\"xaxis\":\"x\",\"y\":[\"Price Restrictions\",\"Uncapped Liability\",\"No-Solicit Of Customers\",\"Competitive Restriction Exception\",\"Third Party Beneficiary\",\"Affiliate License-Licensor\",\"Unlimited/All-You-Can-Eat-License\",\"Post-Termination Services\",\"Most Favored Nation\",\"Non-Disparagement\",\"Ip Ownership Assignment\",\"Change Of Control\",\"Non-Transferable License\",\"Non-Compete\",\"Rofr/Rofo/Rofn\",\"Volume Restriction\",\"Minimum Commitment\",\"Affiliate License-Licensee\",\"Warranty Duration\",\"Liquidated Damages\",\"Revenue/Profit Sharing\",\"Effective Date\",\"Exclusivity\",\"Termination For Convenience\",\"Covenant Not To Sue\",\"Insurance\",\"Joint Ip Ownership\",\"Audit Rights\",\"Cap On Liability\",\"Notice Period To Terminate Renewal\",\"Renewal Term\",\"License Grant\",\"Irrevocable Or Perpetual License\",\"Source Code Escrow\",\"No-Solicit Of Employees\",\"Anti-Assignment\",\"Expiration Date\",\"Agreement Date\",\"Parties\",\"Governing Law\",\"Document Name\"],\"yaxis\":\"y\",\"type\":\"histogram\"},{\"alignmentgroup\":\"True\",\"bingroup\":\"y\",\"histfunc\":\"sum\",\"hovertemplate\":\"category=em nbest=1<br>sum of value=%{x}<br>question_type=%{y}<extra></extra>\",\"legendgroup\":\"em nbest=1\",\"marker\":{\"color\":\"#EF553B\",\"pattern\":{\"shape\":\"\"}},\"name\":\"em nbest=1\",\"offsetgroup\":\"em nbest=1\",\"orientation\":\"h\",\"showlegend\":true,\"x\":[0.47058823529411764,0.5,0.5686274509803921,0.5882352941176471,0.5980392156862745,0.6176470588235294,0.6568627450980392,0.6862745098039216,0.7058823529411765,0.7156862745098039,0.7254901960784313,0.7254901960784313,0.7352941176470589,0.7450980392156863,0.7549019607843137,0.7549019607843137,0.7549019607843137,0.7745098039215687,0.7745098039215687,0.7745098039215687,0.7745098039215687,0.7745098039215687,0.7843137254901961,0.7843137254901961,0.7843137254901961,0.7941176470588235,0.8235294117647058,0.8333333333333334,0.8431372549019608,0.8431372549019608,0.8529411764705882,0.8627450980392157,0.8627450980392157,0.8823529411764706,0.9019607843137255,0.9215686274509803,0.9215686274509803,0.9509803921568627,0.9509803921568627,0.9607843137254902,0.9705882352941176],\"xaxis\":\"x\",\"y\":[\"Effective Date\",\"Parties\",\"Post-Termination Services\",\"Uncapped Liability\",\"Non-Transferable License\",\"Change Of Control\",\"Non-Compete\",\"Ip Ownership Assignment\",\"Termination For Convenience\",\"Volume Restriction\",\"Cap On Liability\",\"Competitive Restriction Exception\",\"Renewal Term\",\"Exclusivity\",\"Document Name\",\"Notice Period To Terminate Renewal\",\"Revenue/Profit Sharing\",\"Anti-Assignment\",\"Insurance\",\"Minimum Commitment\",\"Price Restrictions\",\"Rofr/Rofo/Rofn\",\"Audit Rights\",\"License Grant\",\"Third Party Beneficiary\",\"Agreement Date\",\"Affiliate License-Licensor\",\"Expiration Date\",\"Covenant Not To Sue\",\"Most Favored Nation\",\"Non-Disparagement\",\"Affiliate License-Licensee\",\"Liquidated Damages\",\"No-Solicit Of Customers\",\"Warranty Duration\",\"Governing Law\",\"Irrevocable Or Perpetual License\",\"Joint Ip Ownership\",\"No-Solicit Of Employees\",\"Unlimited/All-You-Can-Eat-License\",\"Source Code Escrow\"],\"yaxis\":\"y\",\"type\":\"histogram\"},{\"alignmentgroup\":\"True\",\"bingroup\":\"y\",\"histfunc\":\"sum\",\"hovertemplate\":\"category=em nbest=3<br>sum of value=%{x}<br>question_type=%{y}<extra></extra>\",\"legendgroup\":\"em nbest=3\",\"marker\":{\"color\":\"#00cc96\",\"pattern\":{\"shape\":\"\"}},\"name\":\"em nbest=3\",\"offsetgroup\":\"em nbest=3\",\"orientation\":\"h\",\"showlegend\":true,\"x\":[0.6372549019607843,0.7843137254901961,0.803921568627451,0.803921568627451,0.803921568627451,0.8137254901960784,0.8431372549019608,0.8431372549019608,0.8627450980392157,0.8627450980392157,0.8725490196078431,0.8725490196078431,0.8823529411764706,0.8823529411764706,0.8823529411764706,0.8823529411764706,0.8823529411764706,0.8921568627450981,0.8921568627450981,0.8921568627450981,0.9019607843137255,0.9019607843137255,0.9215686274509803,0.9215686274509803,0.9215686274509803,0.9313725490196079,0.9313725490196079,0.9411764705882353,0.9411764705882353,0.9607843137254902,0.9607843137254902,0.9607843137254902,0.9607843137254902,0.9607843137254902,0.9607843137254902,0.9607843137254902,0.9705882352941176,0.9705882352941176,0.9803921568627451,0.9901960784313726,1.0],\"xaxis\":\"x\",\"y\":[\"Effective Date\",\"Volume Restriction\",\"Non-Compete\",\"Non-Transferable License\",\"Post-Termination Services\",\"Change Of Control\",\"Agreement Date\",\"Uncapped Liability\",\"Ip Ownership Assignment\",\"Parties\",\"Competitive Restriction Exception\",\"Revenue/Profit Sharing\",\"Exclusivity\",\"License Grant\",\"Price Restrictions\",\"Renewal Term\",\"Termination For Convenience\",\"Document Name\",\"Rofr/Rofo/Rofn\",\"Third Party Beneficiary\",\"Minimum Commitment\",\"Non-Disparagement\",\"Cap On Liability\",\"Expiration Date\",\"Notice Period To Terminate Renewal\",\"Affiliate License-Licensor\",\"Audit Rights\",\"Covenant Not To Sue\",\"Insurance\",\"Affiliate License-Licensee\",\"Governing Law\",\"Irrevocable Or Perpetual License\",\"Liquidated Damages\",\"Most Favored Nation\",\"No-Solicit Of Customers\",\"Warranty Duration\",\"Anti-Assignment\",\"Unlimited/All-You-Can-Eat-License\",\"Joint Ip Ownership\",\"No-Solicit Of Employees\",\"Source Code Escrow\"],\"yaxis\":\"y\",\"type\":\"histogram\"},{\"alignmentgroup\":\"True\",\"bingroup\":\"y\",\"histfunc\":\"sum\",\"hovertemplate\":\"category=f1 nbest=1<br>sum of value=%{x}<br>question_type=%{y}<extra></extra>\",\"legendgroup\":\"f1 nbest=1\",\"marker\":{\"color\":\"#ab63fa\",\"pattern\":{\"shape\":\"\"}},\"name\":\"f1 nbest=1\",\"offsetgroup\":\"f1 nbest=1\",\"orientation\":\"h\",\"showlegend\":true,\"x\":[0.5493101591719904,0.5973053093362637,0.6143086542805862,0.6177344344307855,0.6621155029879129,0.6895494567878899,0.6915217650998916,0.7299582724260394,0.7401380948278777,0.7418539230385559,0.7525727854642519,0.7539313980297766,0.7638593590046461,0.7722411164295732,0.7745098039215687,0.7841805389370639,0.7878055331721731,0.8046339990610337,0.8119333663526919,0.8227905179624025,0.8432964094728801,0.8457324106113033,0.8469444059373163,0.86025659639946,0.8613797869902623,0.8624375539834713,0.8660557089239511,0.8684675890558243,0.8686937850774082,0.8694938986069002,0.8814008477115338,0.8816063781834573,0.8825453957806898,0.890193211787639,0.9132028517621738,0.9399210027282313,0.9509803921568627,0.9534712288256005,0.9634981925731186,0.9705882352941176,0.9730372029010628],\"xaxis\":\"x\",\"y\":[\"Effective Date\",\"Post-Termination Services\",\"Non-Transferable License\",\"Uncapped Liability\",\"Change Of Control\",\"Non-Compete\",\"Parties\",\"Ip Ownership Assignment\",\"Termination For Convenience\",\"Volume Restriction\",\"Renewal Term\",\"Competitive Restriction Exception\",\"Notice Period To Terminate Renewal\",\"Cap On Liability\",\"Price Restrictions\",\"Exclusivity\",\"Third Party Beneficiary\",\"Rofr/Rofo/Rofn\",\"Revenue/Profit Sharing\",\"Minimum Commitment\",\"Agreement Date\",\"Most Favored Nation\",\"Affiliate License-Licensor\",\"Non-Disparagement\",\"Covenant Not To Sue\",\"Audit Rights\",\"License Grant\",\"Liquidated Damages\",\"Expiration Date\",\"Insurance\",\"Anti-Assignment\",\"Affiliate License-Licensee\",\"Document Name\",\"No-Solicit Of Customers\",\"Warranty Duration\",\"Irrevocable Or Perpetual License\",\"Joint Ip Ownership\",\"Governing Law\",\"No-Solicit Of Employees\",\"Source Code Escrow\",\"Unlimited/All-You-Can-Eat-License\"],\"yaxis\":\"y\",\"type\":\"histogram\"},{\"alignmentgroup\":\"True\",\"bingroup\":\"y\",\"histfunc\":\"sum\",\"hovertemplate\":\"category=f1 nbest=3<br>sum of value=%{x}<br>question_type=%{y}<extra></extra>\",\"legendgroup\":\"f1 nbest=3\",\"marker\":{\"color\":\"#FFA15A\",\"pattern\":{\"shape\":\"\"}},\"name\":\"f1 nbest=3\",\"offsetgroup\":\"f1 nbest=3\",\"orientation\":\"h\",\"showlegend\":true,\"x\":[0.6886530848667427,0.8104252058689541,0.8148823556793195,0.8242974992981665,0.8357428667539625,0.842601355072205,0.8650439824064979,0.8816561490496582,0.8823529411764706,0.8851264748323572,0.8855275443510738,0.8961000609047988,0.8973824824047266,0.9043309943342036,0.9082831474828044,0.9130726299375683,0.9214783659688802,0.9235086246110422,0.9236999147485081,0.9312501730455391,0.9362844684514975,0.950443334553946,0.95184938440166,0.9528777892641296,0.9532928670702372,0.9592310899404325,0.9603611222015201,0.9613159232620764,0.9650597080937638,0.9664457464170673,0.9699066618517325,0.9709843782528863,0.9737028657616893,0.9744582043343653,0.9752057947321271,0.9803921568627451,0.9854727090875598,0.9894879856751345,0.9901168333589739,0.994058229352347,1.0],\"xaxis\":\"x\",\"y\":[\"Effective Date\",\"Volume Restriction\",\"Non-Transferable License\",\"Non-Compete\",\"Post-Termination Services\",\"Change Of Control\",\"Uncapped Liability\",\"Competitive Restriction Exception\",\"Price Restrictions\",\"Agreement Date\",\"Renewal Term\",\"Ip Ownership Assignment\",\"Rofr/Rofo/Rofn\",\"Termination For Convenience\",\"Third Party Beneficiary\",\"Exclusivity\",\"Non-Disparagement\",\"Minimum Commitment\",\"Notice Period To Terminate Renewal\",\"Revenue/Profit Sharing\",\"Cap On Liability\",\"Affiliate License-Licensor\",\"Parties\",\"License Grant\",\"Covenant Not To Sue\",\"Document Name\",\"Insurance\",\"Expiration Date\",\"Most Favored Nation\",\"Audit Rights\",\"Warranty Duration\",\"Affiliate License-Licensee\",\"No-Solicit Of Customers\",\"Anti-Assignment\",\"Liquidated Damages\",\"Joint Ip Ownership\",\"Unlimited/All-You-Can-Eat-License\",\"Irrevocable Or Perpetual License\",\"Governing Law\",\"No-Solicit Of Employees\",\"Source Code Escrow\"],\"yaxis\":\"y\",\"type\":\"histogram\"}],                        {\"template\":{\"data\":{\"histogram2dcontour\":[{\"type\":\"histogram2dcontour\",\"colorbar\":{\"outlinewidth\":0,\"ticks\":\"\"},\"colorscale\":[[0.0,\"#0d0887\"],[0.1111111111111111,\"#46039f\"],[0.2222222222222222,\"#7201a8\"],[0.3333333333333333,\"#9c179e\"],[0.4444444444444444,\"#bd3786\"],[0.5555555555555556,\"#d8576b\"],[0.6666666666666666,\"#ed7953\"],[0.7777777777777778,\"#fb9f3a\"],[0.8888888888888888,\"#fdca26\"],[1.0,\"#f0f921\"]]}],\"choropleth\":[{\"type\":\"choropleth\",\"colorbar\":{\"outlinewidth\":0,\"ticks\":\"\"}}],\"histogram2d\":[{\"type\":\"histogram2d\",\"colorbar\":{\"outlinewidth\":0,\"ticks\":\"\"},\"colorscale\":[[0.0,\"#0d0887\"],[0.1111111111111111,\"#46039f\"],[0.2222222222222222,\"#7201a8\"],[0.3333333333333333,\"#9c179e\"],[0.4444444444444444,\"#bd3786\"],[0.5555555555555556,\"#d8576b\"],[0.6666666666666666,\"#ed7953\"],[0.7777777777777778,\"#fb9f3a\"],[0.8888888888888888,\"#fdca26\"],[1.0,\"#f0f921\"]]}],\"heatmap\":[{\"type\":\"heatmap\",\"colorbar\":{\"outlinewidth\":0,\"ticks\":\"\"},\"colorscale\":[[0.0,\"#0d0887\"],[0.1111111111111111,\"#46039f\"],[0.2222222222222222,\"#7201a8\"],[0.3333333333333333,\"#9c179e\"],[0.4444444444444444,\"#bd3786\"],[0.5555555555555556,\"#d8576b\"],[0.6666666666666666,\"#ed7953\"],[0.7777777777777778,\"#fb9f3a\"],[0.8888888888888888,\"#fdca26\"],[1.0,\"#f0f921\"]]}],\"heatmapgl\":[{\"type\":\"heatmapgl\",\"colorbar\":{\"outlinewidth\":0,\"ticks\":\"\"},\"colorscale\":[[0.0,\"#0d0887\"],[0.1111111111111111,\"#46039f\"],[0.2222222222222222,\"#7201a8\"],[0.3333333333333333,\"#9c179e\"],[0.4444444444444444,\"#bd3786\"],[0.5555555555555556,\"#d8576b\"],[0.6666666666666666,\"#ed7953\"],[0.7777777777777778,\"#fb9f3a\"],[0.8888888888888888,\"#fdca26\"],[1.0,\"#f0f921\"]]}],\"contourcarpet\":[{\"type\":\"contourcarpet\",\"colorbar\":{\"outlinewidth\":0,\"ticks\":\"\"}}],\"contour\":[{\"type\":\"contour\",\"colorbar\":{\"outlinewidth\":0,\"ticks\":\"\"},\"colorscale\":[[0.0,\"#0d0887\"],[0.1111111111111111,\"#46039f\"],[0.2222222222222222,\"#7201a8\"],[0.3333333333333333,\"#9c179e\"],[0.4444444444444444,\"#bd3786\"],[0.5555555555555556,\"#d8576b\"],[0.6666666666666666,\"#ed7953\"],[0.7777777777777778,\"#fb9f3a\"],[0.8888888888888888,\"#fdca26\"],[1.0,\"#f0f921\"]]}],\"surface\":[{\"type\":\"surface\",\"colorbar\":{\"outlinewidth\":0,\"ticks\":\"\"},\"colorscale\":[[0.0,\"#0d0887\"],[0.1111111111111111,\"#46039f\"],[0.2222222222222222,\"#7201a8\"],[0.3333333333333333,\"#9c179e\"],[0.4444444444444444,\"#bd3786\"],[0.5555555555555556,\"#d8576b\"],[0.6666666666666666,\"#ed7953\"],[0.7777777777777778,\"#fb9f3a\"],[0.8888888888888888,\"#fdca26\"],[1.0,\"#f0f921\"]]}],\"mesh3d\":[{\"type\":\"mesh3d\",\"colorbar\":{\"outlinewidth\":0,\"ticks\":\"\"}}],\"scatter\":[{\"fillpattern\":{\"fillmode\":\"overlay\",\"size\":10,\"solidity\":0.2},\"type\":\"scatter\"}],\"parcoords\":[{\"type\":\"parcoords\",\"line\":{\"colorbar\":{\"outlinewidth\":0,\"ticks\":\"\"}}}],\"scatterpolargl\":[{\"type\":\"scatterpolargl\",\"marker\":{\"colorbar\":{\"outlinewidth\":0,\"ticks\":\"\"}}}],\"bar\":[{\"error_x\":{\"color\":\"#2a3f5f\"},\"error_y\":{\"color\":\"#2a3f5f\"},\"marker\":{\"line\":{\"color\":\"#E5ECF6\",\"width\":0.5},\"pattern\":{\"fillmode\":\"overlay\",\"size\":10,\"solidity\":0.2}},\"type\":\"bar\"}],\"scattergeo\":[{\"type\":\"scattergeo\",\"marker\":{\"colorbar\":{\"outlinewidth\":0,\"ticks\":\"\"}}}],\"scatterpolar\":[{\"type\":\"scatterpolar\",\"marker\":{\"colorbar\":{\"outlinewidth\":0,\"ticks\":\"\"}}}],\"histogram\":[{\"marker\":{\"pattern\":{\"fillmode\":\"overlay\",\"size\":10,\"solidity\":0.2}},\"type\":\"histogram\"}],\"scattergl\":[{\"type\":\"scattergl\",\"marker\":{\"colorbar\":{\"outlinewidth\":0,\"ticks\":\"\"}}}],\"scatter3d\":[{\"type\":\"scatter3d\",\"line\":{\"colorbar\":{\"outlinewidth\":0,\"ticks\":\"\"}},\"marker\":{\"colorbar\":{\"outlinewidth\":0,\"ticks\":\"\"}}}],\"scattermapbox\":[{\"type\":\"scattermapbox\",\"marker\":{\"colorbar\":{\"outlinewidth\":0,\"ticks\":\"\"}}}],\"scatterternary\":[{\"type\":\"scatterternary\",\"marker\":{\"colorbar\":{\"outlinewidth\":0,\"ticks\":\"\"}}}],\"scattercarpet\":[{\"type\":\"scattercarpet\",\"marker\":{\"colorbar\":{\"outlinewidth\":0,\"ticks\":\"\"}}}],\"carpet\":[{\"aaxis\":{\"endlinecolor\":\"#2a3f5f\",\"gridcolor\":\"white\",\"linecolor\":\"white\",\"minorgridcolor\":\"white\",\"startlinecolor\":\"#2a3f5f\"},\"baxis\":{\"endlinecolor\":\"#2a3f5f\",\"gridcolor\":\"white\",\"linecolor\":\"white\",\"minorgridcolor\":\"white\",\"startlinecolor\":\"#2a3f5f\"},\"type\":\"carpet\"}],\"table\":[{\"cells\":{\"fill\":{\"color\":\"#EBF0F8\"},\"line\":{\"color\":\"white\"}},\"header\":{\"fill\":{\"color\":\"#C8D4E3\"},\"line\":{\"color\":\"white\"}},\"type\":\"table\"}],\"barpolar\":[{\"marker\":{\"line\":{\"color\":\"#E5ECF6\",\"width\":0.5},\"pattern\":{\"fillmode\":\"overlay\",\"size\":10,\"solidity\":0.2}},\"type\":\"barpolar\"}],\"pie\":[{\"automargin\":true,\"type\":\"pie\"}]},\"layout\":{\"autotypenumbers\":\"strict\",\"colorway\":[\"#636efa\",\"#EF553B\",\"#00cc96\",\"#ab63fa\",\"#FFA15A\",\"#19d3f3\",\"#FF6692\",\"#B6E880\",\"#FF97FF\",\"#FECB52\"],\"font\":{\"color\":\"#2a3f5f\"},\"hovermode\":\"closest\",\"hoverlabel\":{\"align\":\"left\"},\"paper_bgcolor\":\"white\",\"plot_bgcolor\":\"#E5ECF6\",\"polar\":{\"bgcolor\":\"#E5ECF6\",\"angularaxis\":{\"gridcolor\":\"white\",\"linecolor\":\"white\",\"ticks\":\"\"},\"radialaxis\":{\"gridcolor\":\"white\",\"linecolor\":\"white\",\"ticks\":\"\"}},\"ternary\":{\"bgcolor\":\"#E5ECF6\",\"aaxis\":{\"gridcolor\":\"white\",\"linecolor\":\"white\",\"ticks\":\"\"},\"baxis\":{\"gridcolor\":\"white\",\"linecolor\":\"white\",\"ticks\":\"\"},\"caxis\":{\"gridcolor\":\"white\",\"linecolor\":\"white\",\"ticks\":\"\"}},\"coloraxis\":{\"colorbar\":{\"outlinewidth\":0,\"ticks\":\"\"}},\"colorscale\":{\"sequential\":[[0.0,\"#0d0887\"],[0.1111111111111111,\"#46039f\"],[0.2222222222222222,\"#7201a8\"],[0.3333333333333333,\"#9c179e\"],[0.4444444444444444,\"#bd3786\"],[0.5555555555555556,\"#d8576b\"],[0.6666666666666666,\"#ed7953\"],[0.7777777777777778,\"#fb9f3a\"],[0.8888888888888888,\"#fdca26\"],[1.0,\"#f0f921\"]],\"sequentialminus\":[[0.0,\"#0d0887\"],[0.1111111111111111,\"#46039f\"],[0.2222222222222222,\"#7201a8\"],[0.3333333333333333,\"#9c179e\"],[0.4444444444444444,\"#bd3786\"],[0.5555555555555556,\"#d8576b\"],[0.6666666666666666,\"#ed7953\"],[0.7777777777777778,\"#fb9f3a\"],[0.8888888888888888,\"#fdca26\"],[1.0,\"#f0f921\"]],\"diverging\":[[0,\"#8e0152\"],[0.1,\"#c51b7d\"],[0.2,\"#de77ae\"],[0.3,\"#f1b6da\"],[0.4,\"#fde0ef\"],[0.5,\"#f7f7f7\"],[0.6,\"#e6f5d0\"],[0.7,\"#b8e186\"],[0.8,\"#7fbc41\"],[0.9,\"#4d9221\"],[1,\"#276419\"]]},\"xaxis\":{\"gridcolor\":\"white\",\"linecolor\":\"white\",\"ticks\":\"\",\"title\":{\"standoff\":15},\"zerolinecolor\":\"white\",\"automargin\":true,\"zerolinewidth\":2},\"yaxis\":{\"gridcolor\":\"white\",\"linecolor\":\"white\",\"ticks\":\"\",\"title\":{\"standoff\":15},\"zerolinecolor\":\"white\",\"automargin\":true,\"zerolinewidth\":2},\"scene\":{\"xaxis\":{\"backgroundcolor\":\"#E5ECF6\",\"gridcolor\":\"white\",\"linecolor\":\"white\",\"showbackground\":true,\"ticks\":\"\",\"zerolinecolor\":\"white\",\"gridwidth\":2},\"yaxis\":{\"backgroundcolor\":\"#E5ECF6\",\"gridcolor\":\"white\",\"linecolor\":\"white\",\"showbackground\":true,\"ticks\":\"\",\"zerolinecolor\":\"white\",\"gridwidth\":2},\"zaxis\":{\"backgroundcolor\":\"#E5ECF6\",\"gridcolor\":\"white\",\"linecolor\":\"white\",\"showbackground\":true,\"ticks\":\"\",\"zerolinecolor\":\"white\",\"gridwidth\":2}},\"shapedefaults\":{\"line\":{\"color\":\"#2a3f5f\"}},\"annotationdefaults\":{\"arrowcolor\":\"#2a3f5f\",\"arrowhead\":0,\"arrowwidth\":1},\"geo\":{\"bgcolor\":\"white\",\"landcolor\":\"#E5ECF6\",\"subunitcolor\":\"white\",\"showland\":true,\"showlakes\":true,\"lakecolor\":\"white\"},\"title\":{\"x\":0.05},\"mapbox\":{\"style\":\"light\"}}},\"xaxis\":{\"anchor\":\"y\",\"domain\":[0.0,1.0],\"title\":{\"text\":\"Average value\"}},\"yaxis\":{\"anchor\":\"x\",\"domain\":[0.0,1.0],\"title\":{\"text\":\"Question type\"}},\"legend\":{\"title\":{\"text\":\"category\"},\"tracegroupgap\":0},\"margin\":{\"t\":60},\"barmode\":\"group\",\"height\":1800,\"width\":800},                        {\"responsive\": true}                    ).then(function(){\n",
       "                            \n",
       "var gd = document.getElementById('a37a3ad7-9084-48d3-999f-ba683b9e13d5');\n",
       "var x = new MutationObserver(function (mutations, observer) {{\n",
       "        var display = window.getComputedStyle(gd).display;\n",
       "        if (!display || display === 'none') {{\n",
       "            console.log([gd, 'removed!']);\n",
       "            Plotly.purge(gd);\n",
       "            observer.disconnect();\n",
       "        }}\n",
       "}});\n",
       "\n",
       "// Listen for the removal of the full notebook cells\n",
       "var notebookContainer = gd.closest('#notebook-container');\n",
       "if (notebookContainer) {{\n",
       "    x.observe(notebookContainer, {childList: true});\n",
       "}}\n",
       "\n",
       "// Listen for the clearing of the current output cell\n",
       "var outputEl = gd.closest('.output');\n",
       "if (outputEl) {{\n",
       "    x.observe(outputEl, {childList: true});\n",
       "}}\n",
       "\n",
       "                        })                };                });            </script>        </div>"
      ]
     },
     "metadata": {},
     "output_type": "display_data"
    }
   ],
   "source": [
    "import plotly.express as px\n",
    "df_final = df_final.sort_values(by=[\"category\",'value'])\n",
    "fig = px.histogram(df_final, y=\"question_type\", x=\"value\",\n",
    "             color='category', barmode='group', orientation='h',width=800, height=1800)\n",
    "fig.update_layout(\n",
    "    xaxis_title=\"Average value\",\n",
    "    yaxis_title=\"Question type\",\n",
    ")\n",
    "fig.show()\n"
   ]
  }
 ],
 "metadata": {
  "environment": {
   "kernel": "python3",
   "name": "pytorch-gpu.1-11.m91",
   "type": "gcloud",
   "uri": "gcr.io/deeplearning-platform-release/pytorch-gpu.1-11:m91"
  },
  "interpreter": {
   "hash": "f263b30b47212596c6dca0cd91fb0c51f07ee748dab3d0cfddddb639cf5b7790"
  },
  "kernelspec": {
   "display_name": "Python 3",
   "language": "python",
   "name": "python3"
  },
  "language_info": {
   "codemirror_mode": {
    "name": "ipython",
    "version": 3
   },
   "file_extension": ".py",
   "mimetype": "text/x-python",
   "name": "python",
   "nbconvert_exporter": "python",
   "pygments_lexer": "ipython3",
   "version": "3.7.12"
  }
 },
 "nbformat": 4,
 "nbformat_minor": 4
}
